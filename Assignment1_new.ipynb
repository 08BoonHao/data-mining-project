{
  "cells": [
    {
      "cell_type": "code",
      "source": [
        "pip install scikit-learn-intelex --progress-bar off"
      ],
      "metadata": {
        "colab": {
          "base_uri": "https://localhost:8080/"
        },
        "id": "i8j_x_NDqAN0",
        "outputId": "46a0ec64-6586-4124-af0b-ed9c84fa488f"
      },
      "execution_count": null,
      "outputs": [
        {
          "output_type": "stream",
          "name": "stdout",
          "text": [
            "Requirement already satisfied: scikit-learn-intelex in /usr/local/lib/python3.10/dist-packages (2024.2.0)\n",
            "Requirement already satisfied: daal4py==2024.2.0 in /usr/local/lib/python3.10/dist-packages (from scikit-learn-intelex) (2024.2.0)\n",
            "Requirement already satisfied: scikit-learn>=0.22 in /usr/local/lib/python3.10/dist-packages (from scikit-learn-intelex) (1.2.2)\n",
            "Requirement already satisfied: daal==2024.2.0 in /usr/local/lib/python3.10/dist-packages (from daal4py==2024.2.0->scikit-learn-intelex) (2024.2.0)\n",
            "Requirement already satisfied: numpy>=1.19 in /usr/local/lib/python3.10/dist-packages (from daal4py==2024.2.0->scikit-learn-intelex) (1.25.2)\n",
            "Requirement already satisfied: tbb==2021.* in /usr/local/lib/python3.10/dist-packages (from daal==2024.2.0->daal4py==2024.2.0->scikit-learn-intelex) (2021.12.0)\n",
            "Requirement already satisfied: scipy>=1.3.2 in /usr/local/lib/python3.10/dist-packages (from scikit-learn>=0.22->scikit-learn-intelex) (1.11.4)\n",
            "Requirement already satisfied: joblib>=1.1.1 in /usr/local/lib/python3.10/dist-packages (from scikit-learn>=0.22->scikit-learn-intelex) (1.3.2)\n",
            "Requirement already satisfied: threadpoolctl>=2.0.0 in /usr/local/lib/python3.10/dist-packages (from scikit-learn>=0.22->scikit-learn-intelex) (3.4.0)\n"
          ]
        }
      ]
    },
    {
      "cell_type": "code",
      "source": [
        "from sklearnex import patch_sklearn\n",
        "patch_sklearn()"
      ],
      "metadata": {
        "colab": {
          "base_uri": "https://localhost:8080/"
        },
        "id": "0ctpLXVgqCc8",
        "outputId": "95e725ce-a422-4916-dbc6-7d38ab500755"
      },
      "execution_count": null,
      "outputs": [
        {
          "output_type": "stream",
          "name": "stderr",
          "text": [
            "Intel(R) Extension for Scikit-learn* enabled (https://github.com/intel/scikit-learn-intelex)\n"
          ]
        }
      ]
    },
    {
      "cell_type": "code",
      "execution_count": null,
      "metadata": {
        "id": "-PkxF_Y4X8tW"
      },
      "outputs": [],
      "source": [
        "# import necessary libraries\n",
        "import pandas as pd\n",
        "import matplotlib.pyplot as plt\n",
        "import numpy as np\n",
        "import seaborn as sns\n",
        "from scipy import stats\n",
        "from sklearn.calibration import CalibratedClassifierCV\n",
        "from sklearn.linear_model import LogisticRegression\n",
        "from sklearn.metrics import classification_report, confusion_matrix, roc_auc_score, roc_curve, auc\n",
        "from sklearn.model_selection import train_test_split\n",
        "from sklearn.model_selection import GridSearchCV\n",
        "from sklearn.neighbors import KNeighborsClassifier\n",
        "from sklearn.preprocessing import StandardScaler\n",
        "from sklearn.svm import SVC, LinearSVC\n",
        "from sklearn.model_selection import RandomizedSearchCV\n",
        "from sklearn.tree import DecisionTreeClassifier\n",
        "from sklearn.ensemble import RandomForestClassifier, BaggingClassifier\n",
        "from sklearn.multiclass import OneVsRestClassifier\n",
        "from sklearn.naive_bayes import GaussianNB\n",
        "from scipy.stats import uniform\n",
        "from imblearn.over_sampling import SMOTE\n",
        "from sklearn.neural_network import MLPClassifier\n",
        "\n",
        "import warnings\n",
        "warnings.filterwarnings(\"ignore\")"
      ]
    },
    {
      "cell_type": "code",
      "execution_count": null,
      "metadata": {
        "id": "sAU5YVEpYEB3"
      },
      "outputs": [],
      "source": [
        "# read the data from the excel sheet\n",
        "data = pd.read_csv('((GAssign) BankLoanApproval.csv')"
      ]
    },
    {
      "cell_type": "markdown",
      "metadata": {
        "id": "wegOZ6r5YLJe"
      },
      "source": [
        "Step 1: Data **Exploration**"
      ]
    },
    {
      "cell_type": "code",
      "execution_count": null,
      "metadata": {
        "colab": {
          "base_uri": "https://localhost:8080/",
          "height": 261
        },
        "id": "MahDKCK0YHx7",
        "outputId": "af13ba77-69d5-4eca-e167-4f46d5cd05ba"
      },
      "outputs": [
        {
          "output_type": "execute_result",
          "data": {
            "text/plain": [
              "       LoanID  Age  Income  LoanAmount  CreditScore  MonthsEmployed  \\\n",
              "0  IA35XVH6ZO   28  140466      163781          652              94   \n",
              "1  Y8UETC3LSG   28  149227      139759          375              56   \n",
              "2  RM6QSRHIYP   41   23265       63527          829              87   \n",
              "3  GX5YQOGROM   53  117550       95744          395             112   \n",
              "4  X0BVPZLDC0   57  139699       88143          635             112   \n",
              "\n",
              "   NumCreditLines  InterestRate  LoanTerm  DTIRatio    Education  \\\n",
              "0               2          9.08        48      0.23  High School   \n",
              "1               3          5.84        36      0.80          PhD   \n",
              "2               4          9.73        60      0.45     Master's   \n",
              "3               4          3.58        24      0.73  High School   \n",
              "4               4          5.63        48      0.20     Master's   \n",
              "\n",
              "  EmploymentType MaritalStatus HasMortgage HasDependents LoanPurpose  \\\n",
              "0     Unemployed       Married          No            No   Education   \n",
              "1      Full-time      Divorced          No            No   Education   \n",
              "2      Full-time      Divorced         Yes            No        Auto   \n",
              "3     Unemployed        Single          No            No        Auto   \n",
              "4      Part-time      Divorced          No            No        Home   \n",
              "\n",
              "  HasCoSigner  Default  \n",
              "0          No        0  \n",
              "1         Yes        1  \n",
              "2         Yes        0  \n",
              "3         Yes        0  \n",
              "4          No        0  "
            ],
            "text/html": [
              "\n",
              "  <div id=\"df-9e7b4a18-05a9-437c-ab7e-1978f049fd7a\" class=\"colab-df-container\">\n",
              "    <div>\n",
              "<style scoped>\n",
              "    .dataframe tbody tr th:only-of-type {\n",
              "        vertical-align: middle;\n",
              "    }\n",
              "\n",
              "    .dataframe tbody tr th {\n",
              "        vertical-align: top;\n",
              "    }\n",
              "\n",
              "    .dataframe thead th {\n",
              "        text-align: right;\n",
              "    }\n",
              "</style>\n",
              "<table border=\"1\" class=\"dataframe\">\n",
              "  <thead>\n",
              "    <tr style=\"text-align: right;\">\n",
              "      <th></th>\n",
              "      <th>LoanID</th>\n",
              "      <th>Age</th>\n",
              "      <th>Income</th>\n",
              "      <th>LoanAmount</th>\n",
              "      <th>CreditScore</th>\n",
              "      <th>MonthsEmployed</th>\n",
              "      <th>NumCreditLines</th>\n",
              "      <th>InterestRate</th>\n",
              "      <th>LoanTerm</th>\n",
              "      <th>DTIRatio</th>\n",
              "      <th>Education</th>\n",
              "      <th>EmploymentType</th>\n",
              "      <th>MaritalStatus</th>\n",
              "      <th>HasMortgage</th>\n",
              "      <th>HasDependents</th>\n",
              "      <th>LoanPurpose</th>\n",
              "      <th>HasCoSigner</th>\n",
              "      <th>Default</th>\n",
              "    </tr>\n",
              "  </thead>\n",
              "  <tbody>\n",
              "    <tr>\n",
              "      <th>0</th>\n",
              "      <td>IA35XVH6ZO</td>\n",
              "      <td>28</td>\n",
              "      <td>140466</td>\n",
              "      <td>163781</td>\n",
              "      <td>652</td>\n",
              "      <td>94</td>\n",
              "      <td>2</td>\n",
              "      <td>9.08</td>\n",
              "      <td>48</td>\n",
              "      <td>0.23</td>\n",
              "      <td>High School</td>\n",
              "      <td>Unemployed</td>\n",
              "      <td>Married</td>\n",
              "      <td>No</td>\n",
              "      <td>No</td>\n",
              "      <td>Education</td>\n",
              "      <td>No</td>\n",
              "      <td>0</td>\n",
              "    </tr>\n",
              "    <tr>\n",
              "      <th>1</th>\n",
              "      <td>Y8UETC3LSG</td>\n",
              "      <td>28</td>\n",
              "      <td>149227</td>\n",
              "      <td>139759</td>\n",
              "      <td>375</td>\n",
              "      <td>56</td>\n",
              "      <td>3</td>\n",
              "      <td>5.84</td>\n",
              "      <td>36</td>\n",
              "      <td>0.80</td>\n",
              "      <td>PhD</td>\n",
              "      <td>Full-time</td>\n",
              "      <td>Divorced</td>\n",
              "      <td>No</td>\n",
              "      <td>No</td>\n",
              "      <td>Education</td>\n",
              "      <td>Yes</td>\n",
              "      <td>1</td>\n",
              "    </tr>\n",
              "    <tr>\n",
              "      <th>2</th>\n",
              "      <td>RM6QSRHIYP</td>\n",
              "      <td>41</td>\n",
              "      <td>23265</td>\n",
              "      <td>63527</td>\n",
              "      <td>829</td>\n",
              "      <td>87</td>\n",
              "      <td>4</td>\n",
              "      <td>9.73</td>\n",
              "      <td>60</td>\n",
              "      <td>0.45</td>\n",
              "      <td>Master's</td>\n",
              "      <td>Full-time</td>\n",
              "      <td>Divorced</td>\n",
              "      <td>Yes</td>\n",
              "      <td>No</td>\n",
              "      <td>Auto</td>\n",
              "      <td>Yes</td>\n",
              "      <td>0</td>\n",
              "    </tr>\n",
              "    <tr>\n",
              "      <th>3</th>\n",
              "      <td>GX5YQOGROM</td>\n",
              "      <td>53</td>\n",
              "      <td>117550</td>\n",
              "      <td>95744</td>\n",
              "      <td>395</td>\n",
              "      <td>112</td>\n",
              "      <td>4</td>\n",
              "      <td>3.58</td>\n",
              "      <td>24</td>\n",
              "      <td>0.73</td>\n",
              "      <td>High School</td>\n",
              "      <td>Unemployed</td>\n",
              "      <td>Single</td>\n",
              "      <td>No</td>\n",
              "      <td>No</td>\n",
              "      <td>Auto</td>\n",
              "      <td>Yes</td>\n",
              "      <td>0</td>\n",
              "    </tr>\n",
              "    <tr>\n",
              "      <th>4</th>\n",
              "      <td>X0BVPZLDC0</td>\n",
              "      <td>57</td>\n",
              "      <td>139699</td>\n",
              "      <td>88143</td>\n",
              "      <td>635</td>\n",
              "      <td>112</td>\n",
              "      <td>4</td>\n",
              "      <td>5.63</td>\n",
              "      <td>48</td>\n",
              "      <td>0.20</td>\n",
              "      <td>Master's</td>\n",
              "      <td>Part-time</td>\n",
              "      <td>Divorced</td>\n",
              "      <td>No</td>\n",
              "      <td>No</td>\n",
              "      <td>Home</td>\n",
              "      <td>No</td>\n",
              "      <td>0</td>\n",
              "    </tr>\n",
              "  </tbody>\n",
              "</table>\n",
              "</div>\n",
              "    <div class=\"colab-df-buttons\">\n",
              "\n",
              "  <div class=\"colab-df-container\">\n",
              "    <button class=\"colab-df-convert\" onclick=\"convertToInteractive('df-9e7b4a18-05a9-437c-ab7e-1978f049fd7a')\"\n",
              "            title=\"Convert this dataframe to an interactive table.\"\n",
              "            style=\"display:none;\">\n",
              "\n",
              "  <svg xmlns=\"http://www.w3.org/2000/svg\" height=\"24px\" viewBox=\"0 -960 960 960\">\n",
              "    <path d=\"M120-120v-720h720v720H120Zm60-500h600v-160H180v160Zm220 220h160v-160H400v160Zm0 220h160v-160H400v160ZM180-400h160v-160H180v160Zm440 0h160v-160H620v160ZM180-180h160v-160H180v160Zm440 0h160v-160H620v160Z\"/>\n",
              "  </svg>\n",
              "    </button>\n",
              "\n",
              "  <style>\n",
              "    .colab-df-container {\n",
              "      display:flex;\n",
              "      gap: 12px;\n",
              "    }\n",
              "\n",
              "    .colab-df-convert {\n",
              "      background-color: #E8F0FE;\n",
              "      border: none;\n",
              "      border-radius: 50%;\n",
              "      cursor: pointer;\n",
              "      display: none;\n",
              "      fill: #1967D2;\n",
              "      height: 32px;\n",
              "      padding: 0 0 0 0;\n",
              "      width: 32px;\n",
              "    }\n",
              "\n",
              "    .colab-df-convert:hover {\n",
              "      background-color: #E2EBFA;\n",
              "      box-shadow: 0px 1px 2px rgba(60, 64, 67, 0.3), 0px 1px 3px 1px rgba(60, 64, 67, 0.15);\n",
              "      fill: #174EA6;\n",
              "    }\n",
              "\n",
              "    .colab-df-buttons div {\n",
              "      margin-bottom: 4px;\n",
              "    }\n",
              "\n",
              "    [theme=dark] .colab-df-convert {\n",
              "      background-color: #3B4455;\n",
              "      fill: #D2E3FC;\n",
              "    }\n",
              "\n",
              "    [theme=dark] .colab-df-convert:hover {\n",
              "      background-color: #434B5C;\n",
              "      box-shadow: 0px 1px 3px 1px rgba(0, 0, 0, 0.15);\n",
              "      filter: drop-shadow(0px 1px 2px rgba(0, 0, 0, 0.3));\n",
              "      fill: #FFFFFF;\n",
              "    }\n",
              "  </style>\n",
              "\n",
              "    <script>\n",
              "      const buttonEl =\n",
              "        document.querySelector('#df-9e7b4a18-05a9-437c-ab7e-1978f049fd7a button.colab-df-convert');\n",
              "      buttonEl.style.display =\n",
              "        google.colab.kernel.accessAllowed ? 'block' : 'none';\n",
              "\n",
              "      async function convertToInteractive(key) {\n",
              "        const element = document.querySelector('#df-9e7b4a18-05a9-437c-ab7e-1978f049fd7a');\n",
              "        const dataTable =\n",
              "          await google.colab.kernel.invokeFunction('convertToInteractive',\n",
              "                                                    [key], {});\n",
              "        if (!dataTable) return;\n",
              "\n",
              "        const docLinkHtml = 'Like what you see? Visit the ' +\n",
              "          '<a target=\"_blank\" href=https://colab.research.google.com/notebooks/data_table.ipynb>data table notebook</a>'\n",
              "          + ' to learn more about interactive tables.';\n",
              "        element.innerHTML = '';\n",
              "        dataTable['output_type'] = 'display_data';\n",
              "        await google.colab.output.renderOutput(dataTable, element);\n",
              "        const docLink = document.createElement('div');\n",
              "        docLink.innerHTML = docLinkHtml;\n",
              "        element.appendChild(docLink);\n",
              "      }\n",
              "    </script>\n",
              "  </div>\n",
              "\n",
              "\n",
              "<div id=\"df-2d42fe0c-2a72-433d-8b25-50327d27599a\">\n",
              "  <button class=\"colab-df-quickchart\" onclick=\"quickchart('df-2d42fe0c-2a72-433d-8b25-50327d27599a')\"\n",
              "            title=\"Suggest charts\"\n",
              "            style=\"display:none;\">\n",
              "\n",
              "<svg xmlns=\"http://www.w3.org/2000/svg\" height=\"24px\"viewBox=\"0 0 24 24\"\n",
              "     width=\"24px\">\n",
              "    <g>\n",
              "        <path d=\"M19 3H5c-1.1 0-2 .9-2 2v14c0 1.1.9 2 2 2h14c1.1 0 2-.9 2-2V5c0-1.1-.9-2-2-2zM9 17H7v-7h2v7zm4 0h-2V7h2v10zm4 0h-2v-4h2v4z\"/>\n",
              "    </g>\n",
              "</svg>\n",
              "  </button>\n",
              "\n",
              "<style>\n",
              "  .colab-df-quickchart {\n",
              "      --bg-color: #E8F0FE;\n",
              "      --fill-color: #1967D2;\n",
              "      --hover-bg-color: #E2EBFA;\n",
              "      --hover-fill-color: #174EA6;\n",
              "      --disabled-fill-color: #AAA;\n",
              "      --disabled-bg-color: #DDD;\n",
              "  }\n",
              "\n",
              "  [theme=dark] .colab-df-quickchart {\n",
              "      --bg-color: #3B4455;\n",
              "      --fill-color: #D2E3FC;\n",
              "      --hover-bg-color: #434B5C;\n",
              "      --hover-fill-color: #FFFFFF;\n",
              "      --disabled-bg-color: #3B4455;\n",
              "      --disabled-fill-color: #666;\n",
              "  }\n",
              "\n",
              "  .colab-df-quickchart {\n",
              "    background-color: var(--bg-color);\n",
              "    border: none;\n",
              "    border-radius: 50%;\n",
              "    cursor: pointer;\n",
              "    display: none;\n",
              "    fill: var(--fill-color);\n",
              "    height: 32px;\n",
              "    padding: 0;\n",
              "    width: 32px;\n",
              "  }\n",
              "\n",
              "  .colab-df-quickchart:hover {\n",
              "    background-color: var(--hover-bg-color);\n",
              "    box-shadow: 0 1px 2px rgba(60, 64, 67, 0.3), 0 1px 3px 1px rgba(60, 64, 67, 0.15);\n",
              "    fill: var(--button-hover-fill-color);\n",
              "  }\n",
              "\n",
              "  .colab-df-quickchart-complete:disabled,\n",
              "  .colab-df-quickchart-complete:disabled:hover {\n",
              "    background-color: var(--disabled-bg-color);\n",
              "    fill: var(--disabled-fill-color);\n",
              "    box-shadow: none;\n",
              "  }\n",
              "\n",
              "  .colab-df-spinner {\n",
              "    border: 2px solid var(--fill-color);\n",
              "    border-color: transparent;\n",
              "    border-bottom-color: var(--fill-color);\n",
              "    animation:\n",
              "      spin 1s steps(1) infinite;\n",
              "  }\n",
              "\n",
              "  @keyframes spin {\n",
              "    0% {\n",
              "      border-color: transparent;\n",
              "      border-bottom-color: var(--fill-color);\n",
              "      border-left-color: var(--fill-color);\n",
              "    }\n",
              "    20% {\n",
              "      border-color: transparent;\n",
              "      border-left-color: var(--fill-color);\n",
              "      border-top-color: var(--fill-color);\n",
              "    }\n",
              "    30% {\n",
              "      border-color: transparent;\n",
              "      border-left-color: var(--fill-color);\n",
              "      border-top-color: var(--fill-color);\n",
              "      border-right-color: var(--fill-color);\n",
              "    }\n",
              "    40% {\n",
              "      border-color: transparent;\n",
              "      border-right-color: var(--fill-color);\n",
              "      border-top-color: var(--fill-color);\n",
              "    }\n",
              "    60% {\n",
              "      border-color: transparent;\n",
              "      border-right-color: var(--fill-color);\n",
              "    }\n",
              "    80% {\n",
              "      border-color: transparent;\n",
              "      border-right-color: var(--fill-color);\n",
              "      border-bottom-color: var(--fill-color);\n",
              "    }\n",
              "    90% {\n",
              "      border-color: transparent;\n",
              "      border-bottom-color: var(--fill-color);\n",
              "    }\n",
              "  }\n",
              "</style>\n",
              "\n",
              "  <script>\n",
              "    async function quickchart(key) {\n",
              "      const quickchartButtonEl =\n",
              "        document.querySelector('#' + key + ' button');\n",
              "      quickchartButtonEl.disabled = true;  // To prevent multiple clicks.\n",
              "      quickchartButtonEl.classList.add('colab-df-spinner');\n",
              "      try {\n",
              "        const charts = await google.colab.kernel.invokeFunction(\n",
              "            'suggestCharts', [key], {});\n",
              "      } catch (error) {\n",
              "        console.error('Error during call to suggestCharts:', error);\n",
              "      }\n",
              "      quickchartButtonEl.classList.remove('colab-df-spinner');\n",
              "      quickchartButtonEl.classList.add('colab-df-quickchart-complete');\n",
              "    }\n",
              "    (() => {\n",
              "      let quickchartButtonEl =\n",
              "        document.querySelector('#df-2d42fe0c-2a72-433d-8b25-50327d27599a button');\n",
              "      quickchartButtonEl.style.display =\n",
              "        google.colab.kernel.accessAllowed ? 'block' : 'none';\n",
              "    })();\n",
              "  </script>\n",
              "</div>\n",
              "    </div>\n",
              "  </div>\n"
            ],
            "application/vnd.google.colaboratory.intrinsic+json": {
              "type": "dataframe",
              "variable_name": "data"
            }
          },
          "metadata": {},
          "execution_count": 6
        }
      ],
      "source": [
        "# print the first 5 rows of the data to briefly know the structure for each column\n",
        "data.head()"
      ]
    },
    {
      "cell_type": "code",
      "execution_count": null,
      "metadata": {
        "colab": {
          "base_uri": "https://localhost:8080/"
        },
        "id": "dr_NPT_4YTK2",
        "outputId": "265a0035-c88d-4df8-dc47-67f9253cb964"
      },
      "outputs": [
        {
          "output_type": "stream",
          "name": "stdout",
          "text": [
            "<class 'pandas.core.frame.DataFrame'>\n",
            "RangeIndex: 255327 entries, 0 to 255326\n",
            "Data columns (total 18 columns):\n",
            " #   Column          Non-Null Count   Dtype  \n",
            "---  ------          --------------   -----  \n",
            " 0   LoanID          255327 non-null  object \n",
            " 1   Age             255327 non-null  int64  \n",
            " 2   Income          255327 non-null  int64  \n",
            " 3   LoanAmount      255327 non-null  int64  \n",
            " 4   CreditScore     255327 non-null  int64  \n",
            " 5   MonthsEmployed  255327 non-null  int64  \n",
            " 6   NumCreditLines  255327 non-null  int64  \n",
            " 7   InterestRate    255327 non-null  float64\n",
            " 8   LoanTerm        255327 non-null  int64  \n",
            " 9   DTIRatio        255327 non-null  float64\n",
            " 10  Education       255327 non-null  object \n",
            " 11  EmploymentType  255327 non-null  object \n",
            " 12  MaritalStatus   255327 non-null  object \n",
            " 13  HasMortgage     255327 non-null  object \n",
            " 14  HasDependents   255327 non-null  object \n",
            " 15  LoanPurpose     255327 non-null  object \n",
            " 16  HasCoSigner     255327 non-null  object \n",
            " 17  Default         255327 non-null  int64  \n",
            "dtypes: float64(2), int64(8), object(8)\n",
            "memory usage: 35.1+ MB\n"
          ]
        }
      ],
      "source": [
        "# print this to know the number of rows and columns in the data as well as the data type for each column\n",
        "data.info()"
      ]
    },
    {
      "cell_type": "code",
      "execution_count": null,
      "metadata": {
        "colab": {
          "base_uri": "https://localhost:8080/",
          "height": 300
        },
        "id": "BqRyM3BqYWkA",
        "outputId": "376dbdd6-c54e-41f3-afe6-0b6e7f5c48eb"
      },
      "outputs": [
        {
          "output_type": "execute_result",
          "data": {
            "text/plain": [
              "                 Age         Income     LoanAmount    CreditScore  \\\n",
              "count  255327.000000  255327.000000  255327.000000  255327.000000   \n",
              "mean       43.498059   82500.225585  127579.236559     574.266125   \n",
              "std        14.990304   38963.150663   70841.308245     158.904496   \n",
              "min        18.000000   15000.000000    5000.000000     300.000000   \n",
              "25%        31.000000   48826.000000   66156.000000     437.000000   \n",
              "50%        43.000000   82467.000000  127557.000000     574.000000   \n",
              "75%        56.000000  116219.000000  188986.500000     712.000000   \n",
              "max        69.000000  149999.000000  249999.000000     849.000000   \n",
              "\n",
              "       MonthsEmployed  NumCreditLines   InterestRate       LoanTerm  \\\n",
              "count   255327.000000   255327.000000  255327.000000  255327.000000   \n",
              "mean        59.542516        2.501036      13.492848      36.025896   \n",
              "std         34.643129        1.117021       6.636456      16.969297   \n",
              "min          0.000000        1.000000       2.000000      12.000000   \n",
              "25%         30.000000        2.000000       7.770000      24.000000   \n",
              "50%         60.000000        2.000000      13.460000      36.000000   \n",
              "75%         90.000000        3.000000      19.250000      48.000000   \n",
              "max        119.000000        4.000000      25.000000      60.000000   \n",
              "\n",
              "            DTIRatio        Default  \n",
              "count  255327.000000  255327.000000  \n",
              "mean        0.500222       0.116118  \n",
              "std         0.230917       0.320367  \n",
              "min         0.100000       0.000000  \n",
              "25%         0.300000       0.000000  \n",
              "50%         0.500000       0.000000  \n",
              "75%         0.700000       0.000000  \n",
              "max         0.900000       1.000000  "
            ],
            "text/html": [
              "\n",
              "  <div id=\"df-8814b031-3d9a-427c-b948-d87a6f67a43a\" class=\"colab-df-container\">\n",
              "    <div>\n",
              "<style scoped>\n",
              "    .dataframe tbody tr th:only-of-type {\n",
              "        vertical-align: middle;\n",
              "    }\n",
              "\n",
              "    .dataframe tbody tr th {\n",
              "        vertical-align: top;\n",
              "    }\n",
              "\n",
              "    .dataframe thead th {\n",
              "        text-align: right;\n",
              "    }\n",
              "</style>\n",
              "<table border=\"1\" class=\"dataframe\">\n",
              "  <thead>\n",
              "    <tr style=\"text-align: right;\">\n",
              "      <th></th>\n",
              "      <th>Age</th>\n",
              "      <th>Income</th>\n",
              "      <th>LoanAmount</th>\n",
              "      <th>CreditScore</th>\n",
              "      <th>MonthsEmployed</th>\n",
              "      <th>NumCreditLines</th>\n",
              "      <th>InterestRate</th>\n",
              "      <th>LoanTerm</th>\n",
              "      <th>DTIRatio</th>\n",
              "      <th>Default</th>\n",
              "    </tr>\n",
              "  </thead>\n",
              "  <tbody>\n",
              "    <tr>\n",
              "      <th>count</th>\n",
              "      <td>255327.000000</td>\n",
              "      <td>255327.000000</td>\n",
              "      <td>255327.000000</td>\n",
              "      <td>255327.000000</td>\n",
              "      <td>255327.000000</td>\n",
              "      <td>255327.000000</td>\n",
              "      <td>255327.000000</td>\n",
              "      <td>255327.000000</td>\n",
              "      <td>255327.000000</td>\n",
              "      <td>255327.000000</td>\n",
              "    </tr>\n",
              "    <tr>\n",
              "      <th>mean</th>\n",
              "      <td>43.498059</td>\n",
              "      <td>82500.225585</td>\n",
              "      <td>127579.236559</td>\n",
              "      <td>574.266125</td>\n",
              "      <td>59.542516</td>\n",
              "      <td>2.501036</td>\n",
              "      <td>13.492848</td>\n",
              "      <td>36.025896</td>\n",
              "      <td>0.500222</td>\n",
              "      <td>0.116118</td>\n",
              "    </tr>\n",
              "    <tr>\n",
              "      <th>std</th>\n",
              "      <td>14.990304</td>\n",
              "      <td>38963.150663</td>\n",
              "      <td>70841.308245</td>\n",
              "      <td>158.904496</td>\n",
              "      <td>34.643129</td>\n",
              "      <td>1.117021</td>\n",
              "      <td>6.636456</td>\n",
              "      <td>16.969297</td>\n",
              "      <td>0.230917</td>\n",
              "      <td>0.320367</td>\n",
              "    </tr>\n",
              "    <tr>\n",
              "      <th>min</th>\n",
              "      <td>18.000000</td>\n",
              "      <td>15000.000000</td>\n",
              "      <td>5000.000000</td>\n",
              "      <td>300.000000</td>\n",
              "      <td>0.000000</td>\n",
              "      <td>1.000000</td>\n",
              "      <td>2.000000</td>\n",
              "      <td>12.000000</td>\n",
              "      <td>0.100000</td>\n",
              "      <td>0.000000</td>\n",
              "    </tr>\n",
              "    <tr>\n",
              "      <th>25%</th>\n",
              "      <td>31.000000</td>\n",
              "      <td>48826.000000</td>\n",
              "      <td>66156.000000</td>\n",
              "      <td>437.000000</td>\n",
              "      <td>30.000000</td>\n",
              "      <td>2.000000</td>\n",
              "      <td>7.770000</td>\n",
              "      <td>24.000000</td>\n",
              "      <td>0.300000</td>\n",
              "      <td>0.000000</td>\n",
              "    </tr>\n",
              "    <tr>\n",
              "      <th>50%</th>\n",
              "      <td>43.000000</td>\n",
              "      <td>82467.000000</td>\n",
              "      <td>127557.000000</td>\n",
              "      <td>574.000000</td>\n",
              "      <td>60.000000</td>\n",
              "      <td>2.000000</td>\n",
              "      <td>13.460000</td>\n",
              "      <td>36.000000</td>\n",
              "      <td>0.500000</td>\n",
              "      <td>0.000000</td>\n",
              "    </tr>\n",
              "    <tr>\n",
              "      <th>75%</th>\n",
              "      <td>56.000000</td>\n",
              "      <td>116219.000000</td>\n",
              "      <td>188986.500000</td>\n",
              "      <td>712.000000</td>\n",
              "      <td>90.000000</td>\n",
              "      <td>3.000000</td>\n",
              "      <td>19.250000</td>\n",
              "      <td>48.000000</td>\n",
              "      <td>0.700000</td>\n",
              "      <td>0.000000</td>\n",
              "    </tr>\n",
              "    <tr>\n",
              "      <th>max</th>\n",
              "      <td>69.000000</td>\n",
              "      <td>149999.000000</td>\n",
              "      <td>249999.000000</td>\n",
              "      <td>849.000000</td>\n",
              "      <td>119.000000</td>\n",
              "      <td>4.000000</td>\n",
              "      <td>25.000000</td>\n",
              "      <td>60.000000</td>\n",
              "      <td>0.900000</td>\n",
              "      <td>1.000000</td>\n",
              "    </tr>\n",
              "  </tbody>\n",
              "</table>\n",
              "</div>\n",
              "    <div class=\"colab-df-buttons\">\n",
              "\n",
              "  <div class=\"colab-df-container\">\n",
              "    <button class=\"colab-df-convert\" onclick=\"convertToInteractive('df-8814b031-3d9a-427c-b948-d87a6f67a43a')\"\n",
              "            title=\"Convert this dataframe to an interactive table.\"\n",
              "            style=\"display:none;\">\n",
              "\n",
              "  <svg xmlns=\"http://www.w3.org/2000/svg\" height=\"24px\" viewBox=\"0 -960 960 960\">\n",
              "    <path d=\"M120-120v-720h720v720H120Zm60-500h600v-160H180v160Zm220 220h160v-160H400v160Zm0 220h160v-160H400v160ZM180-400h160v-160H180v160Zm440 0h160v-160H620v160ZM180-180h160v-160H180v160Zm440 0h160v-160H620v160Z\"/>\n",
              "  </svg>\n",
              "    </button>\n",
              "\n",
              "  <style>\n",
              "    .colab-df-container {\n",
              "      display:flex;\n",
              "      gap: 12px;\n",
              "    }\n",
              "\n",
              "    .colab-df-convert {\n",
              "      background-color: #E8F0FE;\n",
              "      border: none;\n",
              "      border-radius: 50%;\n",
              "      cursor: pointer;\n",
              "      display: none;\n",
              "      fill: #1967D2;\n",
              "      height: 32px;\n",
              "      padding: 0 0 0 0;\n",
              "      width: 32px;\n",
              "    }\n",
              "\n",
              "    .colab-df-convert:hover {\n",
              "      background-color: #E2EBFA;\n",
              "      box-shadow: 0px 1px 2px rgba(60, 64, 67, 0.3), 0px 1px 3px 1px rgba(60, 64, 67, 0.15);\n",
              "      fill: #174EA6;\n",
              "    }\n",
              "\n",
              "    .colab-df-buttons div {\n",
              "      margin-bottom: 4px;\n",
              "    }\n",
              "\n",
              "    [theme=dark] .colab-df-convert {\n",
              "      background-color: #3B4455;\n",
              "      fill: #D2E3FC;\n",
              "    }\n",
              "\n",
              "    [theme=dark] .colab-df-convert:hover {\n",
              "      background-color: #434B5C;\n",
              "      box-shadow: 0px 1px 3px 1px rgba(0, 0, 0, 0.15);\n",
              "      filter: drop-shadow(0px 1px 2px rgba(0, 0, 0, 0.3));\n",
              "      fill: #FFFFFF;\n",
              "    }\n",
              "  </style>\n",
              "\n",
              "    <script>\n",
              "      const buttonEl =\n",
              "        document.querySelector('#df-8814b031-3d9a-427c-b948-d87a6f67a43a button.colab-df-convert');\n",
              "      buttonEl.style.display =\n",
              "        google.colab.kernel.accessAllowed ? 'block' : 'none';\n",
              "\n",
              "      async function convertToInteractive(key) {\n",
              "        const element = document.querySelector('#df-8814b031-3d9a-427c-b948-d87a6f67a43a');\n",
              "        const dataTable =\n",
              "          await google.colab.kernel.invokeFunction('convertToInteractive',\n",
              "                                                    [key], {});\n",
              "        if (!dataTable) return;\n",
              "\n",
              "        const docLinkHtml = 'Like what you see? Visit the ' +\n",
              "          '<a target=\"_blank\" href=https://colab.research.google.com/notebooks/data_table.ipynb>data table notebook</a>'\n",
              "          + ' to learn more about interactive tables.';\n",
              "        element.innerHTML = '';\n",
              "        dataTable['output_type'] = 'display_data';\n",
              "        await google.colab.output.renderOutput(dataTable, element);\n",
              "        const docLink = document.createElement('div');\n",
              "        docLink.innerHTML = docLinkHtml;\n",
              "        element.appendChild(docLink);\n",
              "      }\n",
              "    </script>\n",
              "  </div>\n",
              "\n",
              "\n",
              "<div id=\"df-0379675c-5478-4d81-bfbd-30335d8d3abe\">\n",
              "  <button class=\"colab-df-quickchart\" onclick=\"quickchart('df-0379675c-5478-4d81-bfbd-30335d8d3abe')\"\n",
              "            title=\"Suggest charts\"\n",
              "            style=\"display:none;\">\n",
              "\n",
              "<svg xmlns=\"http://www.w3.org/2000/svg\" height=\"24px\"viewBox=\"0 0 24 24\"\n",
              "     width=\"24px\">\n",
              "    <g>\n",
              "        <path d=\"M19 3H5c-1.1 0-2 .9-2 2v14c0 1.1.9 2 2 2h14c1.1 0 2-.9 2-2V5c0-1.1-.9-2-2-2zM9 17H7v-7h2v7zm4 0h-2V7h2v10zm4 0h-2v-4h2v4z\"/>\n",
              "    </g>\n",
              "</svg>\n",
              "  </button>\n",
              "\n",
              "<style>\n",
              "  .colab-df-quickchart {\n",
              "      --bg-color: #E8F0FE;\n",
              "      --fill-color: #1967D2;\n",
              "      --hover-bg-color: #E2EBFA;\n",
              "      --hover-fill-color: #174EA6;\n",
              "      --disabled-fill-color: #AAA;\n",
              "      --disabled-bg-color: #DDD;\n",
              "  }\n",
              "\n",
              "  [theme=dark] .colab-df-quickchart {\n",
              "      --bg-color: #3B4455;\n",
              "      --fill-color: #D2E3FC;\n",
              "      --hover-bg-color: #434B5C;\n",
              "      --hover-fill-color: #FFFFFF;\n",
              "      --disabled-bg-color: #3B4455;\n",
              "      --disabled-fill-color: #666;\n",
              "  }\n",
              "\n",
              "  .colab-df-quickchart {\n",
              "    background-color: var(--bg-color);\n",
              "    border: none;\n",
              "    border-radius: 50%;\n",
              "    cursor: pointer;\n",
              "    display: none;\n",
              "    fill: var(--fill-color);\n",
              "    height: 32px;\n",
              "    padding: 0;\n",
              "    width: 32px;\n",
              "  }\n",
              "\n",
              "  .colab-df-quickchart:hover {\n",
              "    background-color: var(--hover-bg-color);\n",
              "    box-shadow: 0 1px 2px rgba(60, 64, 67, 0.3), 0 1px 3px 1px rgba(60, 64, 67, 0.15);\n",
              "    fill: var(--button-hover-fill-color);\n",
              "  }\n",
              "\n",
              "  .colab-df-quickchart-complete:disabled,\n",
              "  .colab-df-quickchart-complete:disabled:hover {\n",
              "    background-color: var(--disabled-bg-color);\n",
              "    fill: var(--disabled-fill-color);\n",
              "    box-shadow: none;\n",
              "  }\n",
              "\n",
              "  .colab-df-spinner {\n",
              "    border: 2px solid var(--fill-color);\n",
              "    border-color: transparent;\n",
              "    border-bottom-color: var(--fill-color);\n",
              "    animation:\n",
              "      spin 1s steps(1) infinite;\n",
              "  }\n",
              "\n",
              "  @keyframes spin {\n",
              "    0% {\n",
              "      border-color: transparent;\n",
              "      border-bottom-color: var(--fill-color);\n",
              "      border-left-color: var(--fill-color);\n",
              "    }\n",
              "    20% {\n",
              "      border-color: transparent;\n",
              "      border-left-color: var(--fill-color);\n",
              "      border-top-color: var(--fill-color);\n",
              "    }\n",
              "    30% {\n",
              "      border-color: transparent;\n",
              "      border-left-color: var(--fill-color);\n",
              "      border-top-color: var(--fill-color);\n",
              "      border-right-color: var(--fill-color);\n",
              "    }\n",
              "    40% {\n",
              "      border-color: transparent;\n",
              "      border-right-color: var(--fill-color);\n",
              "      border-top-color: var(--fill-color);\n",
              "    }\n",
              "    60% {\n",
              "      border-color: transparent;\n",
              "      border-right-color: var(--fill-color);\n",
              "    }\n",
              "    80% {\n",
              "      border-color: transparent;\n",
              "      border-right-color: var(--fill-color);\n",
              "      border-bottom-color: var(--fill-color);\n",
              "    }\n",
              "    90% {\n",
              "      border-color: transparent;\n",
              "      border-bottom-color: var(--fill-color);\n",
              "    }\n",
              "  }\n",
              "</style>\n",
              "\n",
              "  <script>\n",
              "    async function quickchart(key) {\n",
              "      const quickchartButtonEl =\n",
              "        document.querySelector('#' + key + ' button');\n",
              "      quickchartButtonEl.disabled = true;  // To prevent multiple clicks.\n",
              "      quickchartButtonEl.classList.add('colab-df-spinner');\n",
              "      try {\n",
              "        const charts = await google.colab.kernel.invokeFunction(\n",
              "            'suggestCharts', [key], {});\n",
              "      } catch (error) {\n",
              "        console.error('Error during call to suggestCharts:', error);\n",
              "      }\n",
              "      quickchartButtonEl.classList.remove('colab-df-spinner');\n",
              "      quickchartButtonEl.classList.add('colab-df-quickchart-complete');\n",
              "    }\n",
              "    (() => {\n",
              "      let quickchartButtonEl =\n",
              "        document.querySelector('#df-0379675c-5478-4d81-bfbd-30335d8d3abe button');\n",
              "      quickchartButtonEl.style.display =\n",
              "        google.colab.kernel.accessAllowed ? 'block' : 'none';\n",
              "    })();\n",
              "  </script>\n",
              "</div>\n",
              "    </div>\n",
              "  </div>\n"
            ],
            "application/vnd.google.colaboratory.intrinsic+json": {
              "type": "dataframe",
              "summary": "{\n  \"name\": \"data\",\n  \"rows\": 8,\n  \"fields\": [\n    {\n      \"column\": \"Age\",\n      \"properties\": {\n        \"dtype\": \"number\",\n        \"std\": 90257.81412121728,\n        \"min\": 14.990304262771975,\n        \"max\": 255327.0,\n        \"num_unique_values\": 8,\n        \"samples\": [\n          43.49805935134161,\n          43.0,\n          255327.0\n        ],\n        \"semantic_type\": \"\",\n        \"description\": \"\"\n      }\n    },\n    {\n      \"column\": \"Income\",\n      \"properties\": {\n        \"dtype\": \"number\",\n        \"std\": 76586.13150174497,\n        \"min\": 15000.0,\n        \"max\": 255327.0,\n        \"num_unique_values\": 8,\n        \"samples\": [\n          82500.22558522993,\n          82467.0,\n          255327.0\n        ],\n        \"semantic_type\": \"\",\n        \"description\": \"\"\n      }\n    },\n    {\n      \"column\": \"LoanAmount\",\n      \"properties\": {\n        \"dtype\": \"number\",\n        \"std\": 89815.54324785022,\n        \"min\": 5000.0,\n        \"max\": 255327.0,\n        \"num_unique_values\": 8,\n        \"samples\": [\n          127579.23655939246,\n          127557.0,\n          255327.0\n        ],\n        \"semantic_type\": \"\",\n        \"description\": \"\"\n      }\n    },\n    {\n      \"column\": \"CreditScore\",\n      \"properties\": {\n        \"dtype\": \"number\",\n        \"std\": 90089.90472093107,\n        \"min\": 158.90449596650245,\n        \"max\": 255327.0,\n        \"num_unique_values\": 8,\n        \"samples\": [\n          574.2661253999773,\n          574.0,\n          255327.0\n        ],\n        \"semantic_type\": \"\",\n        \"description\": \"\"\n      }\n    },\n    {\n      \"column\": \"MonthsEmployed\",\n      \"properties\": {\n        \"dtype\": \"number\",\n        \"std\": 90251.8751424794,\n        \"min\": 0.0,\n        \"max\": 255327.0,\n        \"num_unique_values\": 8,\n        \"samples\": [\n          59.54251606763092,\n          60.0,\n          255327.0\n        ],\n        \"semantic_type\": \"\",\n        \"description\": \"\"\n      }\n    },\n    {\n      \"column\": \"NumCreditLines\",\n      \"properties\": {\n        \"dtype\": \"number\",\n        \"std\": 90270.93773427382,\n        \"min\": 1.0,\n        \"max\": 255327.0,\n        \"num_unique_values\": 7,\n        \"samples\": [\n          255327.0,\n          2.501035926478594,\n          3.0\n        ],\n        \"semantic_type\": \"\",\n        \"description\": \"\"\n      }\n    },\n    {\n      \"column\": \"InterestRate\",\n      \"properties\": {\n        \"dtype\": \"number\",\n        \"std\": 90267.30191532227,\n        \"min\": 2.0,\n        \"max\": 255327.0,\n        \"num_unique_values\": 8,\n        \"samples\": [\n          13.492847564104071,\n          13.46,\n          255327.0\n        ],\n        \"semantic_type\": \"\",\n        \"description\": \"\"\n      }\n    },\n    {\n      \"column\": \"LoanTerm\",\n      \"properties\": {\n        \"dtype\": \"number\",\n        \"std\": 90259.95991100022,\n        \"min\": 12.0,\n        \"max\": 255327.0,\n        \"num_unique_values\": 8,\n        \"samples\": [\n          36.02589620369174,\n          36.0,\n          255327.0\n        ],\n        \"semantic_type\": \"\",\n        \"description\": \"\"\n      }\n    },\n    {\n      \"column\": \"DTIRatio\",\n      \"properties\": {\n        \"dtype\": \"number\",\n        \"std\": 90271.56336323259,\n        \"min\": 0.1,\n        \"max\": 255327.0,\n        \"num_unique_values\": 8,\n        \"samples\": [\n          0.5002218723440921,\n          0.5,\n          255327.0\n        ],\n        \"semantic_type\": \"\",\n        \"description\": \"\"\n      }\n    },\n    {\n      \"column\": \"Default\",\n      \"properties\": {\n        \"dtype\": \"number\",\n        \"std\": 90271.65400723636,\n        \"min\": 0.0,\n        \"max\": 255327.0,\n        \"num_unique_values\": 5,\n        \"samples\": [\n          0.11611776271212994,\n          1.0,\n          0.3203667115493052\n        ],\n        \"semantic_type\": \"\",\n        \"description\": \"\"\n      }\n    }\n  ]\n}"
            }
          },
          "metadata": {},
          "execution_count": 8
        }
      ],
      "source": [
        "# print this to know the descriptive statistics for each variable except for categorical variable\n",
        "data.describe()"
      ]
    },
    {
      "cell_type": "code",
      "execution_count": null,
      "metadata": {
        "colab": {
          "base_uri": "https://localhost:8080/",
          "height": 175
        },
        "id": "IFIfPQBEYYm4",
        "outputId": "b0f6a5db-bee3-475c-c8d3-53d740e89b21"
      },
      "outputs": [
        {
          "output_type": "execute_result",
          "data": {
            "text/plain": [
              "            LoanID   Education EmploymentType MaritalStatus HasMortgage  \\\n",
              "count       255327      255327         255327        255327      255327   \n",
              "unique      255327           4              4             3           2   \n",
              "top     IA35XVH6ZO  Bachelor's      Part-time       Married         Yes   \n",
              "freq             1       64360          64156         85295      127664   \n",
              "\n",
              "       HasDependents LoanPurpose HasCoSigner  \n",
              "count         255327      255327      255327  \n",
              "unique             2           5           2  \n",
              "top              Yes    Business         Yes  \n",
              "freq          127735       51296      127690  "
            ],
            "text/html": [
              "\n",
              "  <div id=\"df-84801f03-c38c-47a9-a6cd-bd21dfe43f46\" class=\"colab-df-container\">\n",
              "    <div>\n",
              "<style scoped>\n",
              "    .dataframe tbody tr th:only-of-type {\n",
              "        vertical-align: middle;\n",
              "    }\n",
              "\n",
              "    .dataframe tbody tr th {\n",
              "        vertical-align: top;\n",
              "    }\n",
              "\n",
              "    .dataframe thead th {\n",
              "        text-align: right;\n",
              "    }\n",
              "</style>\n",
              "<table border=\"1\" class=\"dataframe\">\n",
              "  <thead>\n",
              "    <tr style=\"text-align: right;\">\n",
              "      <th></th>\n",
              "      <th>LoanID</th>\n",
              "      <th>Education</th>\n",
              "      <th>EmploymentType</th>\n",
              "      <th>MaritalStatus</th>\n",
              "      <th>HasMortgage</th>\n",
              "      <th>HasDependents</th>\n",
              "      <th>LoanPurpose</th>\n",
              "      <th>HasCoSigner</th>\n",
              "    </tr>\n",
              "  </thead>\n",
              "  <tbody>\n",
              "    <tr>\n",
              "      <th>count</th>\n",
              "      <td>255327</td>\n",
              "      <td>255327</td>\n",
              "      <td>255327</td>\n",
              "      <td>255327</td>\n",
              "      <td>255327</td>\n",
              "      <td>255327</td>\n",
              "      <td>255327</td>\n",
              "      <td>255327</td>\n",
              "    </tr>\n",
              "    <tr>\n",
              "      <th>unique</th>\n",
              "      <td>255327</td>\n",
              "      <td>4</td>\n",
              "      <td>4</td>\n",
              "      <td>3</td>\n",
              "      <td>2</td>\n",
              "      <td>2</td>\n",
              "      <td>5</td>\n",
              "      <td>2</td>\n",
              "    </tr>\n",
              "    <tr>\n",
              "      <th>top</th>\n",
              "      <td>IA35XVH6ZO</td>\n",
              "      <td>Bachelor's</td>\n",
              "      <td>Part-time</td>\n",
              "      <td>Married</td>\n",
              "      <td>Yes</td>\n",
              "      <td>Yes</td>\n",
              "      <td>Business</td>\n",
              "      <td>Yes</td>\n",
              "    </tr>\n",
              "    <tr>\n",
              "      <th>freq</th>\n",
              "      <td>1</td>\n",
              "      <td>64360</td>\n",
              "      <td>64156</td>\n",
              "      <td>85295</td>\n",
              "      <td>127664</td>\n",
              "      <td>127735</td>\n",
              "      <td>51296</td>\n",
              "      <td>127690</td>\n",
              "    </tr>\n",
              "  </tbody>\n",
              "</table>\n",
              "</div>\n",
              "    <div class=\"colab-df-buttons\">\n",
              "\n",
              "  <div class=\"colab-df-container\">\n",
              "    <button class=\"colab-df-convert\" onclick=\"convertToInteractive('df-84801f03-c38c-47a9-a6cd-bd21dfe43f46')\"\n",
              "            title=\"Convert this dataframe to an interactive table.\"\n",
              "            style=\"display:none;\">\n",
              "\n",
              "  <svg xmlns=\"http://www.w3.org/2000/svg\" height=\"24px\" viewBox=\"0 -960 960 960\">\n",
              "    <path d=\"M120-120v-720h720v720H120Zm60-500h600v-160H180v160Zm220 220h160v-160H400v160Zm0 220h160v-160H400v160ZM180-400h160v-160H180v160Zm440 0h160v-160H620v160ZM180-180h160v-160H180v160Zm440 0h160v-160H620v160Z\"/>\n",
              "  </svg>\n",
              "    </button>\n",
              "\n",
              "  <style>\n",
              "    .colab-df-container {\n",
              "      display:flex;\n",
              "      gap: 12px;\n",
              "    }\n",
              "\n",
              "    .colab-df-convert {\n",
              "      background-color: #E8F0FE;\n",
              "      border: none;\n",
              "      border-radius: 50%;\n",
              "      cursor: pointer;\n",
              "      display: none;\n",
              "      fill: #1967D2;\n",
              "      height: 32px;\n",
              "      padding: 0 0 0 0;\n",
              "      width: 32px;\n",
              "    }\n",
              "\n",
              "    .colab-df-convert:hover {\n",
              "      background-color: #E2EBFA;\n",
              "      box-shadow: 0px 1px 2px rgba(60, 64, 67, 0.3), 0px 1px 3px 1px rgba(60, 64, 67, 0.15);\n",
              "      fill: #174EA6;\n",
              "    }\n",
              "\n",
              "    .colab-df-buttons div {\n",
              "      margin-bottom: 4px;\n",
              "    }\n",
              "\n",
              "    [theme=dark] .colab-df-convert {\n",
              "      background-color: #3B4455;\n",
              "      fill: #D2E3FC;\n",
              "    }\n",
              "\n",
              "    [theme=dark] .colab-df-convert:hover {\n",
              "      background-color: #434B5C;\n",
              "      box-shadow: 0px 1px 3px 1px rgba(0, 0, 0, 0.15);\n",
              "      filter: drop-shadow(0px 1px 2px rgba(0, 0, 0, 0.3));\n",
              "      fill: #FFFFFF;\n",
              "    }\n",
              "  </style>\n",
              "\n",
              "    <script>\n",
              "      const buttonEl =\n",
              "        document.querySelector('#df-84801f03-c38c-47a9-a6cd-bd21dfe43f46 button.colab-df-convert');\n",
              "      buttonEl.style.display =\n",
              "        google.colab.kernel.accessAllowed ? 'block' : 'none';\n",
              "\n",
              "      async function convertToInteractive(key) {\n",
              "        const element = document.querySelector('#df-84801f03-c38c-47a9-a6cd-bd21dfe43f46');\n",
              "        const dataTable =\n",
              "          await google.colab.kernel.invokeFunction('convertToInteractive',\n",
              "                                                    [key], {});\n",
              "        if (!dataTable) return;\n",
              "\n",
              "        const docLinkHtml = 'Like what you see? Visit the ' +\n",
              "          '<a target=\"_blank\" href=https://colab.research.google.com/notebooks/data_table.ipynb>data table notebook</a>'\n",
              "          + ' to learn more about interactive tables.';\n",
              "        element.innerHTML = '';\n",
              "        dataTable['output_type'] = 'display_data';\n",
              "        await google.colab.output.renderOutput(dataTable, element);\n",
              "        const docLink = document.createElement('div');\n",
              "        docLink.innerHTML = docLinkHtml;\n",
              "        element.appendChild(docLink);\n",
              "      }\n",
              "    </script>\n",
              "  </div>\n",
              "\n",
              "\n",
              "<div id=\"df-8f2b9089-3b4a-43ec-930b-798415a27c66\">\n",
              "  <button class=\"colab-df-quickchart\" onclick=\"quickchart('df-8f2b9089-3b4a-43ec-930b-798415a27c66')\"\n",
              "            title=\"Suggest charts\"\n",
              "            style=\"display:none;\">\n",
              "\n",
              "<svg xmlns=\"http://www.w3.org/2000/svg\" height=\"24px\"viewBox=\"0 0 24 24\"\n",
              "     width=\"24px\">\n",
              "    <g>\n",
              "        <path d=\"M19 3H5c-1.1 0-2 .9-2 2v14c0 1.1.9 2 2 2h14c1.1 0 2-.9 2-2V5c0-1.1-.9-2-2-2zM9 17H7v-7h2v7zm4 0h-2V7h2v10zm4 0h-2v-4h2v4z\"/>\n",
              "    </g>\n",
              "</svg>\n",
              "  </button>\n",
              "\n",
              "<style>\n",
              "  .colab-df-quickchart {\n",
              "      --bg-color: #E8F0FE;\n",
              "      --fill-color: #1967D2;\n",
              "      --hover-bg-color: #E2EBFA;\n",
              "      --hover-fill-color: #174EA6;\n",
              "      --disabled-fill-color: #AAA;\n",
              "      --disabled-bg-color: #DDD;\n",
              "  }\n",
              "\n",
              "  [theme=dark] .colab-df-quickchart {\n",
              "      --bg-color: #3B4455;\n",
              "      --fill-color: #D2E3FC;\n",
              "      --hover-bg-color: #434B5C;\n",
              "      --hover-fill-color: #FFFFFF;\n",
              "      --disabled-bg-color: #3B4455;\n",
              "      --disabled-fill-color: #666;\n",
              "  }\n",
              "\n",
              "  .colab-df-quickchart {\n",
              "    background-color: var(--bg-color);\n",
              "    border: none;\n",
              "    border-radius: 50%;\n",
              "    cursor: pointer;\n",
              "    display: none;\n",
              "    fill: var(--fill-color);\n",
              "    height: 32px;\n",
              "    padding: 0;\n",
              "    width: 32px;\n",
              "  }\n",
              "\n",
              "  .colab-df-quickchart:hover {\n",
              "    background-color: var(--hover-bg-color);\n",
              "    box-shadow: 0 1px 2px rgba(60, 64, 67, 0.3), 0 1px 3px 1px rgba(60, 64, 67, 0.15);\n",
              "    fill: var(--button-hover-fill-color);\n",
              "  }\n",
              "\n",
              "  .colab-df-quickchart-complete:disabled,\n",
              "  .colab-df-quickchart-complete:disabled:hover {\n",
              "    background-color: var(--disabled-bg-color);\n",
              "    fill: var(--disabled-fill-color);\n",
              "    box-shadow: none;\n",
              "  }\n",
              "\n",
              "  .colab-df-spinner {\n",
              "    border: 2px solid var(--fill-color);\n",
              "    border-color: transparent;\n",
              "    border-bottom-color: var(--fill-color);\n",
              "    animation:\n",
              "      spin 1s steps(1) infinite;\n",
              "  }\n",
              "\n",
              "  @keyframes spin {\n",
              "    0% {\n",
              "      border-color: transparent;\n",
              "      border-bottom-color: var(--fill-color);\n",
              "      border-left-color: var(--fill-color);\n",
              "    }\n",
              "    20% {\n",
              "      border-color: transparent;\n",
              "      border-left-color: var(--fill-color);\n",
              "      border-top-color: var(--fill-color);\n",
              "    }\n",
              "    30% {\n",
              "      border-color: transparent;\n",
              "      border-left-color: var(--fill-color);\n",
              "      border-top-color: var(--fill-color);\n",
              "      border-right-color: var(--fill-color);\n",
              "    }\n",
              "    40% {\n",
              "      border-color: transparent;\n",
              "      border-right-color: var(--fill-color);\n",
              "      border-top-color: var(--fill-color);\n",
              "    }\n",
              "    60% {\n",
              "      border-color: transparent;\n",
              "      border-right-color: var(--fill-color);\n",
              "    }\n",
              "    80% {\n",
              "      border-color: transparent;\n",
              "      border-right-color: var(--fill-color);\n",
              "      border-bottom-color: var(--fill-color);\n",
              "    }\n",
              "    90% {\n",
              "      border-color: transparent;\n",
              "      border-bottom-color: var(--fill-color);\n",
              "    }\n",
              "  }\n",
              "</style>\n",
              "\n",
              "  <script>\n",
              "    async function quickchart(key) {\n",
              "      const quickchartButtonEl =\n",
              "        document.querySelector('#' + key + ' button');\n",
              "      quickchartButtonEl.disabled = true;  // To prevent multiple clicks.\n",
              "      quickchartButtonEl.classList.add('colab-df-spinner');\n",
              "      try {\n",
              "        const charts = await google.colab.kernel.invokeFunction(\n",
              "            'suggestCharts', [key], {});\n",
              "      } catch (error) {\n",
              "        console.error('Error during call to suggestCharts:', error);\n",
              "      }\n",
              "      quickchartButtonEl.classList.remove('colab-df-spinner');\n",
              "      quickchartButtonEl.classList.add('colab-df-quickchart-complete');\n",
              "    }\n",
              "    (() => {\n",
              "      let quickchartButtonEl =\n",
              "        document.querySelector('#df-8f2b9089-3b4a-43ec-930b-798415a27c66 button');\n",
              "      quickchartButtonEl.style.display =\n",
              "        google.colab.kernel.accessAllowed ? 'block' : 'none';\n",
              "    })();\n",
              "  </script>\n",
              "</div>\n",
              "    </div>\n",
              "  </div>\n"
            ],
            "application/vnd.google.colaboratory.intrinsic+json": {
              "type": "dataframe",
              "summary": "{\n  \"name\": \"data\",\n  \"rows\": 4,\n  \"fields\": [\n    {\n      \"column\": \"LoanID\",\n      \"properties\": {\n        \"dtype\": \"string\",\n        \"num_unique_values\": 3,\n        \"samples\": [\n          \"255327\",\n          \"IA35XVH6ZO\",\n          \"1\"\n        ],\n        \"semantic_type\": \"\",\n        \"description\": \"\"\n      }\n    },\n    {\n      \"column\": \"Education\",\n      \"properties\": {\n        \"dtype\": \"string\",\n        \"num_unique_values\": 4,\n        \"samples\": [\n          4,\n          \"64360\",\n          \"255327\"\n        ],\n        \"semantic_type\": \"\",\n        \"description\": \"\"\n      }\n    },\n    {\n      \"column\": \"EmploymentType\",\n      \"properties\": {\n        \"dtype\": \"string\",\n        \"num_unique_values\": 4,\n        \"samples\": [\n          4,\n          \"64156\",\n          \"255327\"\n        ],\n        \"semantic_type\": \"\",\n        \"description\": \"\"\n      }\n    },\n    {\n      \"column\": \"MaritalStatus\",\n      \"properties\": {\n        \"dtype\": \"string\",\n        \"num_unique_values\": 4,\n        \"samples\": [\n          3,\n          \"85295\",\n          \"255327\"\n        ],\n        \"semantic_type\": \"\",\n        \"description\": \"\"\n      }\n    },\n    {\n      \"column\": \"HasMortgage\",\n      \"properties\": {\n        \"dtype\": \"string\",\n        \"num_unique_values\": 4,\n        \"samples\": [\n          2,\n          \"127664\",\n          \"255327\"\n        ],\n        \"semantic_type\": \"\",\n        \"description\": \"\"\n      }\n    },\n    {\n      \"column\": \"HasDependents\",\n      \"properties\": {\n        \"dtype\": \"string\",\n        \"num_unique_values\": 4,\n        \"samples\": [\n          2,\n          \"127735\",\n          \"255327\"\n        ],\n        \"semantic_type\": \"\",\n        \"description\": \"\"\n      }\n    },\n    {\n      \"column\": \"LoanPurpose\",\n      \"properties\": {\n        \"dtype\": \"string\",\n        \"num_unique_values\": 4,\n        \"samples\": [\n          5,\n          \"51296\",\n          \"255327\"\n        ],\n        \"semantic_type\": \"\",\n        \"description\": \"\"\n      }\n    },\n    {\n      \"column\": \"HasCoSigner\",\n      \"properties\": {\n        \"dtype\": \"string\",\n        \"num_unique_values\": 4,\n        \"samples\": [\n          2,\n          \"127690\",\n          \"255327\"\n        ],\n        \"semantic_type\": \"\",\n        \"description\": \"\"\n      }\n    }\n  ]\n}"
            }
          },
          "metadata": {},
          "execution_count": 9
        }
      ],
      "source": [
        "# print this to know the descriptive satistics for other variables\n",
        "data.describe(include=['O'])"
      ]
    },
    {
      "cell_type": "code",
      "execution_count": null,
      "metadata": {
        "colab": {
          "base_uri": "https://localhost:8080/",
          "height": 466
        },
        "id": "fCCKmR9FYwKH",
        "outputId": "359c3f49-4403-4d46-b51c-5cf2c149322b"
      },
      "outputs": [
        {
          "output_type": "execute_result",
          "data": {
            "text/plain": [
              "<Axes: xlabel='Education', ylabel='count'>"
            ]
          },
          "metadata": {},
          "execution_count": 10
        },
        {
          "output_type": "display_data",
          "data": {
            "text/plain": [
              "<Figure size 640x480 with 1 Axes>"
            ],
            "image/png": "[encoded data removed]"
          },
          "metadata": {}
        }
      ],
      "source": [
        "# print the countplot for the education column against the default column\n",
        "sns.countplot(data, x='Education', hue='Default')"
      ]
    },
    {
      "cell_type": "code",
      "execution_count": null,
      "metadata": {
        "colab": {
          "base_uri": "https://localhost:8080/",
          "height": 469
        },
        "id": "uPTWAWWlcRJA",
        "outputId": "aaf643cb-1681-41be-a879-92c4026bbdd0"
      },
      "outputs": [
        {
          "output_type": "execute_result",
          "data": {
            "text/plain": [
              "<Axes: xlabel='EmploymentType', ylabel='count'>"
            ]
          },
          "metadata": {},
          "execution_count": 11
        },
        {
          "output_type": "display_data",
          "data": {
            "text/plain": [
              "<Figure size 640x480 with 1 Axes>"
            ],
            "image/png": "[encoded data removed]"
          },
          "metadata": {}
        }
      ],
      "source": [
        "# print the countplot for the employment column against the default column\n",
        "sns.countplot(data, x='EmploymentType', hue='Default')"
      ]
    },
    {
      "cell_type": "code",
      "execution_count": null,
      "metadata": {
        "colab": {
          "base_uri": "https://localhost:8080/",
          "height": 471
        },
        "id": "rE-c1wpYckLL",
        "outputId": "a2af00d0-b97f-485b-a053-f6a46d90fc12"
      },
      "outputs": [
        {
          "output_type": "execute_result",
          "data": {
            "text/plain": [
              "<Axes: xlabel='MaritalStatus', ylabel='count'>"
            ]
          },
          "metadata": {},
          "execution_count": 12
        },
        {
          "output_type": "display_data",
          "data": {
            "text/plain": [
              "<Figure size 640x480 with 1 Axes>"
            ],
            "image/png": "[encoded data removed]"
          },
          "metadata": {}
        }
      ],
      "source": [
        "# print the countplot for the marital status column against the default column\n",
        "sns.countplot(data, x='MaritalStatus', hue='Default')"
      ]
    },
    {
      "cell_type": "code",
      "execution_count": null,
      "metadata": {
        "colab": {
          "base_uri": "https://localhost:8080/",
          "height": 466
        },
        "id": "ZkWunpPUcumR",
        "outputId": "e669dc5c-2909-4191-ca02-51caee63268b"
      },
      "outputs": [
        {
          "output_type": "execute_result",
          "data": {
            "text/plain": [
              "<Axes: xlabel='HasMortgage', ylabel='count'>"
            ]
          },
          "metadata": {},
          "execution_count": 13
        },
        {
          "output_type": "display_data",
          "data": {
            "text/plain": [
              "<Figure size 640x480 with 1 Axes>"
            ],
            "image/png": "[encoded data removed]"
          },
          "metadata": {}
        }
      ],
      "source": [
        "# print the countplot for the HasMortgage column against the default column\n",
        "sns.countplot(data, x='HasMortgage', hue='Default')"
      ]
    },
    {
      "cell_type": "code",
      "execution_count": null,
      "metadata": {
        "colab": {
          "base_uri": "https://localhost:8080/",
          "height": 472
        },
        "id": "PcPOg0gKc2Dy",
        "outputId": "ebc17101-2437-4e1f-b529-4354b9924a36"
      },
      "outputs": [
        {
          "output_type": "execute_result",
          "data": {
            "text/plain": [
              "<Axes: xlabel='HasDependents', ylabel='count'>"
            ]
          },
          "metadata": {},
          "execution_count": 14
        },
        {
          "output_type": "display_data",
          "data": {
            "text/plain": [
              "<Figure size 640x480 with 1 Axes>"
            ],
            "image/png": "[encoded data removed]"
          },
          "metadata": {}
        }
      ],
      "source": [
        "# print the countplot for the HasDependents column against the default column\n",
        "sns.countplot(data, x='HasDependents', hue='Default')"
      ]
    },
    {
      "cell_type": "code",
      "execution_count": null,
      "metadata": {
        "colab": {
          "base_uri": "https://localhost:8080/",
          "height": 466
        },
        "id": "P0QkAVopdCvT",
        "outputId": "106943ec-ce5d-4b97-9b40-a00f4b426500"
      },
      "outputs": [
        {
          "output_type": "execute_result",
          "data": {
            "text/plain": [
              "<Axes: xlabel='LoanPurpose', ylabel='count'>"
            ]
          },
          "metadata": {},
          "execution_count": 15
        },
        {
          "output_type": "display_data",
          "data": {
            "text/plain": [
              "<Figure size 640x480 with 1 Axes>"
            ],
            "image/png": "[encoded data removed]"
          },
          "metadata": {}
        }
      ],
      "source": [
        "# print the countplot for the LoanPurpose column against the default column\n",
        "sns.countplot(data, x='LoanPurpose', hue='Default')"
      ]
    },
    {
      "cell_type": "code",
      "execution_count": null,
      "metadata": {
        "colab": {
          "base_uri": "https://localhost:8080/",
          "height": 471
        },
        "id": "ZdwMd63RdKd-",
        "outputId": "6fc29c1c-907a-45f1-c187-b9cbcd4ff1bd"
      },
      "outputs": [
        {
          "output_type": "execute_result",
          "data": {
            "text/plain": [
              "<Axes: xlabel='HasCoSigner', ylabel='count'>"
            ]
          },
          "metadata": {},
          "execution_count": 16
        },
        {
          "output_type": "display_data",
          "data": {
            "text/plain": [
              "<Figure size 640x480 with 1 Axes>"
            ],
            "image/png": "[encoded data removed]"
          },
          "metadata": {}
        }
      ],
      "source": [
        "# print the countplot for the HasCoSigner column against the default column\n",
        "sns.countplot(data, x='HasCoSigner', hue='Default')"
      ]
    },
    {
      "cell_type": "code",
      "execution_count": null,
      "metadata": {
        "colab": {
          "base_uri": "https://localhost:8080/",
          "height": 466
        },
        "id": "Gpq68FoOdlvb",
        "outputId": "32f42f0d-3ac9-4d42-9880-1567d84eed63"
      },
      "outputs": [
        {
          "output_type": "execute_result",
          "data": {
            "text/plain": [
              "<Axes: xlabel='Age', ylabel='Count'>"
            ]
          },
          "metadata": {},
          "execution_count": 17
        },
        {
          "output_type": "display_data",
          "data": {
            "text/plain": [
              "<Figure size 640x480 with 1 Axes>"
            ],
            "image/png": "[encoded data removed]"
          },
          "metadata": {}
        }
      ],
      "source": [
        "# print the histplot for age column against the default column\n",
        "sns.histplot(data, x='Age', hue='Default', bins=10, multiple=\"stack\")"
      ]
    },
    {
      "cell_type": "code",
      "execution_count": null,
      "metadata": {
        "colab": {
          "base_uri": "https://localhost:8080/",
          "height": 466
        },
        "id": "6ab1A6_redbz",
        "outputId": "8f4a9e87-5221-40b5-bae5-edf8ae409ed7"
      },
      "outputs": [
        {
          "output_type": "execute_result",
          "data": {
            "text/plain": [
              "<Axes: xlabel='Income', ylabel='Count'>"
            ]
          },
          "metadata": {},
          "execution_count": 18
        },
        {
          "output_type": "display_data",
          "data": {
            "text/plain": [
              "<Figure size 640x480 with 1 Axes>"
            ],
            "image/png": "[encoded data removed]"
          },
          "metadata": {}
        }
      ],
      "source": [
        "# print the histplot for income column against the default column\n",
        "sns.histplot(data, x='Income', hue='Default', bins=10, multiple=\"stack\")"
      ]
    },
    {
      "cell_type": "code",
      "execution_count": null,
      "metadata": {
        "colab": {
          "base_uri": "https://localhost:8080/",
          "height": 466
        },
        "id": "ZdL_04P_ehff",
        "outputId": "0c6c4789-b0ad-4c96-cc1e-d91f5504d6f4"
      },
      "outputs": [
        {
          "output_type": "execute_result",
          "data": {
            "text/plain": [
              "<Axes: xlabel='LoanAmount', ylabel='Count'>"
            ]
          },
          "metadata": {},
          "execution_count": 19
        },
        {
          "output_type": "display_data",
          "data": {
            "text/plain": [
              "<Figure size 640x480 with 1 Axes>"
            ],
            "image/png": "[encoded data removed]"
          },
          "metadata": {}
        }
      ],
      "source": [
        "# print the histplot for loan amount column against the default column\n",
        "sns.histplot(data, x='LoanAmount', hue='Default', bins=10, multiple=\"stack\")"
      ]
    },
    {
      "cell_type": "code",
      "execution_count": null,
      "metadata": {
        "colab": {
          "base_uri": "https://localhost:8080/",
          "height": 466
        },
        "id": "rR82tO0we_Rm",
        "outputId": "cd67733d-2209-4b7e-8027-06290afead97"
      },
      "outputs": [
        {
          "output_type": "execute_result",
          "data": {
            "text/plain": [
              "<Axes: xlabel='CreditScore', ylabel='Count'>"
            ]
          },
          "metadata": {},
          "execution_count": 20
        },
        {
          "output_type": "display_data",
          "data": {
            "text/plain": [
              "<Figure size 640x480 with 1 Axes>"
            ],
            "image/png": "[encoded data removed]"
          },
          "metadata": {}
        }
      ],
      "source": [
        "# print the histplot for credit score column against the default column\n",
        "sns.histplot(data, x='CreditScore', hue='Default', bins=10, multiple=\"stack\")"
      ]
    },
    {
      "cell_type": "code",
      "execution_count": null,
      "metadata": {
        "colab": {
          "base_uri": "https://localhost:8080/",
          "height": 466
        },
        "id": "IfF_hTLUfLu7",
        "outputId": "fbea2b51-7126-4be3-feb7-6c03c3a3eab0"
      },
      "outputs": [
        {
          "output_type": "execute_result",
          "data": {
            "text/plain": [
              "<Axes: xlabel='MonthsEmployed', ylabel='Count'>"
            ]
          },
          "metadata": {},
          "execution_count": 21
        },
        {
          "output_type": "display_data",
          "data": {
            "text/plain": [
              "<Figure size 640x480 with 1 Axes>"
            ],
            "image/png": "[encoded data removed]"
          },
          "metadata": {}
        }
      ],
      "source": [
        "# print the histplot for months employed column against the default column\n",
        "sns.histplot(data, x='MonthsEmployed', hue='Default', bins=10, multiple=\"stack\")"
      ]
    },
    {
      "cell_type": "code",
      "execution_count": null,
      "metadata": {
        "colab": {
          "base_uri": "https://localhost:8080/",
          "height": 466
        },
        "id": "fji8C4orfTo5",
        "outputId": "354e5407-1297-4581-9891-95a837bcb87f"
      },
      "outputs": [
        {
          "output_type": "execute_result",
          "data": {
            "text/plain": [
              "<Axes: xlabel='NumCreditLines', ylabel='Count'>"
            ]
          },
          "metadata": {},
          "execution_count": 22
        },
        {
          "output_type": "display_data",
          "data": {
            "text/plain": [
              "<Figure size 640x480 with 1 Axes>"
            ],
            "image/png": "[encoded data removed]"
          },
          "metadata": {}
        }
      ],
      "source": [
        "# print the histplot for NumCreditLine column against the default column\n",
        "sns.histplot(data, x='NumCreditLines', hue='Default', bins=4, multiple=\"stack\")"
      ]
    },
    {
      "cell_type": "code",
      "execution_count": null,
      "metadata": {
        "colab": {
          "base_uri": "https://localhost:8080/",
          "height": 466
        },
        "id": "_3O58-2afjD9",
        "outputId": "89fc2bff-9c9f-4c7a-c0e0-e99c4edbd143"
      },
      "outputs": [
        {
          "output_type": "execute_result",
          "data": {
            "text/plain": [
              "<Axes: xlabel='InterestRate', ylabel='Count'>"
            ]
          },
          "metadata": {},
          "execution_count": 23
        },
        {
          "output_type": "display_data",
          "data": {
            "text/plain": [
              "<Figure size 640x480 with 1 Axes>"
            ],
            "image/png": "[encoded data removed]"
          },
          "metadata": {}
        }
      ],
      "source": [
        "# print the histplot for interest rate column against the default column\n",
        "sns.histplot(data, x='InterestRate', hue='Default', bins=10, multiple=\"stack\")"
      ]
    },
    {
      "cell_type": "code",
      "execution_count": null,
      "metadata": {
        "colab": {
          "base_uri": "https://localhost:8080/",
          "height": 466
        },
        "id": "E-vVTadsfral",
        "outputId": "8d1161e4-8923-46e8-9980-39e60c02bb56"
      },
      "outputs": [
        {
          "output_type": "execute_result",
          "data": {
            "text/plain": [
              "<Axes: xlabel='LoanTerm', ylabel='Count'>"
            ]
          },
          "metadata": {},
          "execution_count": 24
        },
        {
          "output_type": "display_data",
          "data": {
            "text/plain": [
              "<Figure size 640x480 with 1 Axes>"
            ],
            "image/png": "[encoded data removed]"
          },
          "metadata": {}
        }
      ],
      "source": [
        "# print the histplot for loan term column against the default column\n",
        "sns.histplot(data, x='LoanTerm', hue='Default', bins=5, multiple=\"stack\")"
      ]
    },
    {
      "cell_type": "code",
      "execution_count": null,
      "metadata": {
        "colab": {
          "base_uri": "https://localhost:8080/",
          "height": 468
        },
        "id": "Jh3bmm0if1bk",
        "outputId": "34730a1c-24ac-4415-94e4-193cf9163fa6"
      },
      "outputs": [
        {
          "output_type": "execute_result",
          "data": {
            "text/plain": [
              "<Axes: xlabel='DTIRatio', ylabel='Count'>"
            ]
          },
          "metadata": {},
          "execution_count": 25
        },
        {
          "output_type": "display_data",
          "data": {
            "text/plain": [
              "<Figure size 640x480 with 1 Axes>"
            ],
            "image/png": "[encoded data removed]"
          },
          "metadata": {}
        }
      ],
      "source": [
        "# print the histplot for DTIRatio column against the default column\n",
        "sns.histplot(data, x='DTIRatio', hue='Default', bins=10, multiple=\"stack\")"
      ]
    },
    {
      "cell_type": "code",
      "execution_count": null,
      "metadata": {
        "colab": {
          "base_uri": "https://localhost:8080/",
          "height": 406
        },
        "id": "ZUpK8DGoYamC",
        "outputId": "5ab81db9-4d30-4b89-e202-a7f3230d8135"
      },
      "outputs": [
        {
          "output_type": "display_data",
          "data": {
            "text/plain": [
              "<Figure size 640x480 with 1 Axes>"
            ],
            "image/png": "[encoded data removed]"
          },
          "metadata": {}
        }
      ],
      "source": [
        "# print a pie chart for the Default column to see whether the class is imbalanced or not\n",
        "temp = data['Default'].value_counts()\n",
        "plt.pie(temp.values, labels=temp.index, autopct='%1.1f%%')\n",
        "plt.show()"
      ]
    },
    {
      "cell_type": "code",
      "execution_count": null,
      "metadata": {
        "id": "-eNmlgYngFJH"
      },
      "outputs": [],
      "source": [
        "# Define feature vector and target variable (class)\n",
        "X = data.drop(['Default'], axis=1)\n",
        "y = data['Default']"
      ]
    },
    {
      "cell_type": "code",
      "execution_count": null,
      "metadata": {
        "id": "4A5Vx0BpgJti"
      },
      "outputs": [],
      "source": [
        "# deleting of unneeded columns since this columns will not help us in making a predictive model\n",
        "X.drop(['LoanID'], axis=1, inplace=True)"
      ]
    },
    {
      "cell_type": "code",
      "execution_count": null,
      "metadata": {
        "colab": {
          "base_uri": "https://localhost:8080/",
          "height": 226
        },
        "id": "Rynxwd_xgNAG",
        "outputId": "f43d4bf2-39a5-4667-96fe-d79cc7355f83"
      },
      "outputs": [
        {
          "output_type": "execute_result",
          "data": {
            "text/plain": [
              "   Age  Income  LoanAmount  CreditScore  MonthsEmployed  NumCreditLines  \\\n",
              "0   28  140466      163781          652              94               2   \n",
              "1   28  149227      139759          375              56               3   \n",
              "2   41   23265       63527          829              87               4   \n",
              "3   53  117550       95744          395             112               4   \n",
              "4   57  139699       88143          635             112               4   \n",
              "\n",
              "   InterestRate  LoanTerm  DTIRatio  Education  EmploymentType  MaritalStatus  \\\n",
              "0          9.08        48      0.23          1               2              1   \n",
              "1          5.84        36      0.80          3               0              0   \n",
              "2          9.73        60      0.45          2               0              0   \n",
              "3          3.58        24      0.73          1               2              2   \n",
              "4          5.63        48      0.20          2               1              0   \n",
              "\n",
              "   HasMortgage  HasDependents  LoanPurpose  HasCoSigner  \n",
              "0            0              0            2            0  \n",
              "1            0              0            2            1  \n",
              "2            1              0            0            1  \n",
              "3            0              0            0            1  \n",
              "4            0              0            3            0  "
            ],
            "text/html": [
              "\n",
              "  <div id=\"df-4e8e2eeb-d693-473b-812b-a80e04c878b0\" class=\"colab-df-container\">\n",
              "    <div>\n",
              "<style scoped>\n",
              "    .dataframe tbody tr th:only-of-type {\n",
              "        vertical-align: middle;\n",
              "    }\n",
              "\n",
              "    .dataframe tbody tr th {\n",
              "        vertical-align: top;\n",
              "    }\n",
              "\n",
              "    .dataframe thead th {\n",
              "        text-align: right;\n",
              "    }\n",
              "</style>\n",
              "<table border=\"1\" class=\"dataframe\">\n",
              "  <thead>\n",
              "    <tr style=\"text-align: right;\">\n",
              "      <th></th>\n",
              "      <th>Age</th>\n",
              "      <th>Income</th>\n",
              "      <th>LoanAmount</th>\n",
              "      <th>CreditScore</th>\n",
              "      <th>MonthsEmployed</th>\n",
              "      <th>NumCreditLines</th>\n",
              "      <th>InterestRate</th>\n",
              "      <th>LoanTerm</th>\n",
              "      <th>DTIRatio</th>\n",
              "      <th>Education</th>\n",
              "      <th>EmploymentType</th>\n",
              "      <th>MaritalStatus</th>\n",
              "      <th>HasMortgage</th>\n",
              "      <th>HasDependents</th>\n",
              "      <th>LoanPurpose</th>\n",
              "      <th>HasCoSigner</th>\n",
              "    </tr>\n",
              "  </thead>\n",
              "  <tbody>\n",
              "    <tr>\n",
              "      <th>0</th>\n",
              "      <td>28</td>\n",
              "      <td>140466</td>\n",
              "      <td>163781</td>\n",
              "      <td>652</td>\n",
              "      <td>94</td>\n",
              "      <td>2</td>\n",
              "      <td>9.08</td>\n",
              "      <td>48</td>\n",
              "      <td>0.23</td>\n",
              "      <td>1</td>\n",
              "      <td>2</td>\n",
              "      <td>1</td>\n",
              "      <td>0</td>\n",
              "      <td>0</td>\n",
              "      <td>2</td>\n",
              "      <td>0</td>\n",
              "    </tr>\n",
              "    <tr>\n",
              "      <th>1</th>\n",
              "      <td>28</td>\n",
              "      <td>149227</td>\n",
              "      <td>139759</td>\n",
              "      <td>375</td>\n",
              "      <td>56</td>\n",
              "      <td>3</td>\n",
              "      <td>5.84</td>\n",
              "      <td>36</td>\n",
              "      <td>0.80</td>\n",
              "      <td>3</td>\n",
              "      <td>0</td>\n",
              "      <td>0</td>\n",
              "      <td>0</td>\n",
              "      <td>0</td>\n",
              "      <td>2</td>\n",
              "      <td>1</td>\n",
              "    </tr>\n",
              "    <tr>\n",
              "      <th>2</th>\n",
              "      <td>41</td>\n",
              "      <td>23265</td>\n",
              "      <td>63527</td>\n",
              "      <td>829</td>\n",
              "      <td>87</td>\n",
              "      <td>4</td>\n",
              "      <td>9.73</td>\n",
              "      <td>60</td>\n",
              "      <td>0.45</td>\n",
              "      <td>2</td>\n",
              "      <td>0</td>\n",
              "      <td>0</td>\n",
              "      <td>1</td>\n",
              "      <td>0</td>\n",
              "      <td>0</td>\n",
              "      <td>1</td>\n",
              "    </tr>\n",
              "    <tr>\n",
              "      <th>3</th>\n",
              "      <td>53</td>\n",
              "      <td>117550</td>\n",
              "      <td>95744</td>\n",
              "      <td>395</td>\n",
              "      <td>112</td>\n",
              "      <td>4</td>\n",
              "      <td>3.58</td>\n",
              "      <td>24</td>\n",
              "      <td>0.73</td>\n",
              "      <td>1</td>\n",
              "      <td>2</td>\n",
              "      <td>2</td>\n",
              "      <td>0</td>\n",
              "      <td>0</td>\n",
              "      <td>0</td>\n",
              "      <td>1</td>\n",
              "    </tr>\n",
              "    <tr>\n",
              "      <th>4</th>\n",
              "      <td>57</td>\n",
              "      <td>139699</td>\n",
              "      <td>88143</td>\n",
              "      <td>635</td>\n",
              "      <td>112</td>\n",
              "      <td>4</td>\n",
              "      <td>5.63</td>\n",
              "      <td>48</td>\n",
              "      <td>0.20</td>\n",
              "      <td>2</td>\n",
              "      <td>1</td>\n",
              "      <td>0</td>\n",
              "      <td>0</td>\n",
              "      <td>0</td>\n",
              "      <td>3</td>\n",
              "      <td>0</td>\n",
              "    </tr>\n",
              "  </tbody>\n",
              "</table>\n",
              "</div>\n",
              "    <div class=\"colab-df-buttons\">\n",
              "\n",
              "  <div class=\"colab-df-container\">\n",
              "    <button class=\"colab-df-convert\" onclick=\"convertToInteractive('df-4e8e2eeb-d693-473b-812b-a80e04c878b0')\"\n",
              "            title=\"Convert this dataframe to an interactive table.\"\n",
              "            style=\"display:none;\">\n",
              "\n",
              "  <svg xmlns=\"http://www.w3.org/2000/svg\" height=\"24px\" viewBox=\"0 -960 960 960\">\n",
              "    <path d=\"M120-120v-720h720v720H120Zm60-500h600v-160H180v160Zm220 220h160v-160H400v160Zm0 220h160v-160H400v160ZM180-400h160v-160H180v160Zm440 0h160v-160H620v160ZM180-180h160v-160H180v160Zm440 0h160v-160H620v160Z\"/>\n",
              "  </svg>\n",
              "    </button>\n",
              "\n",
              "  <style>\n",
              "    .colab-df-container {\n",
              "      display:flex;\n",
              "      gap: 12px;\n",
              "    }\n",
              "\n",
              "    .colab-df-convert {\n",
              "      background-color: #E8F0FE;\n",
              "      border: none;\n",
              "      border-radius: 50%;\n",
              "      cursor: pointer;\n",
              "      display: none;\n",
              "      fill: #1967D2;\n",
              "      height: 32px;\n",
              "      padding: 0 0 0 0;\n",
              "      width: 32px;\n",
              "    }\n",
              "\n",
              "    .colab-df-convert:hover {\n",
              "      background-color: #E2EBFA;\n",
              "      box-shadow: 0px 1px 2px rgba(60, 64, 67, 0.3), 0px 1px 3px 1px rgba(60, 64, 67, 0.15);\n",
              "      fill: #174EA6;\n",
              "    }\n",
              "\n",
              "    .colab-df-buttons div {\n",
              "      margin-bottom: 4px;\n",
              "    }\n",
              "\n",
              "    [theme=dark] .colab-df-convert {\n",
              "      background-color: #3B4455;\n",
              "      fill: #D2E3FC;\n",
              "    }\n",
              "\n",
              "    [theme=dark] .colab-df-convert:hover {\n",
              "      background-color: #434B5C;\n",
              "      box-shadow: 0px 1px 3px 1px rgba(0, 0, 0, 0.15);\n",
              "      filter: drop-shadow(0px 1px 2px rgba(0, 0, 0, 0.3));\n",
              "      fill: #FFFFFF;\n",
              "    }\n",
              "  </style>\n",
              "\n",
              "    <script>\n",
              "      const buttonEl =\n",
              "        document.querySelector('#df-4e8e2eeb-d693-473b-812b-a80e04c878b0 button.colab-df-convert');\n",
              "      buttonEl.style.display =\n",
              "        google.colab.kernel.accessAllowed ? 'block' : 'none';\n",
              "\n",
              "      async function convertToInteractive(key) {\n",
              "        const element = document.querySelector('#df-4e8e2eeb-d693-473b-812b-a80e04c878b0');\n",
              "        const dataTable =\n",
              "          await google.colab.kernel.invokeFunction('convertToInteractive',\n",
              "                                                    [key], {});\n",
              "        if (!dataTable) return;\n",
              "\n",
              "        const docLinkHtml = 'Like what you see? Visit the ' +\n",
              "          '<a target=\"_blank\" href=https://colab.research.google.com/notebooks/data_table.ipynb>data table notebook</a>'\n",
              "          + ' to learn more about interactive tables.';\n",
              "        element.innerHTML = '';\n",
              "        dataTable['output_type'] = 'display_data';\n",
              "        await google.colab.output.renderOutput(dataTable, element);\n",
              "        const docLink = document.createElement('div');\n",
              "        docLink.innerHTML = docLinkHtml;\n",
              "        element.appendChild(docLink);\n",
              "      }\n",
              "    </script>\n",
              "  </div>\n",
              "\n",
              "\n",
              "<div id=\"df-19dd82d0-ffa2-475b-96f9-a363ff6250d0\">\n",
              "  <button class=\"colab-df-quickchart\" onclick=\"quickchart('df-19dd82d0-ffa2-475b-96f9-a363ff6250d0')\"\n",
              "            title=\"Suggest charts\"\n",
              "            style=\"display:none;\">\n",
              "\n",
              "<svg xmlns=\"http://www.w3.org/2000/svg\" height=\"24px\"viewBox=\"0 0 24 24\"\n",
              "     width=\"24px\">\n",
              "    <g>\n",
              "        <path d=\"M19 3H5c-1.1 0-2 .9-2 2v14c0 1.1.9 2 2 2h14c1.1 0 2-.9 2-2V5c0-1.1-.9-2-2-2zM9 17H7v-7h2v7zm4 0h-2V7h2v10zm4 0h-2v-4h2v4z\"/>\n",
              "    </g>\n",
              "</svg>\n",
              "  </button>\n",
              "\n",
              "<style>\n",
              "  .colab-df-quickchart {\n",
              "      --bg-color: #E8F0FE;\n",
              "      --fill-color: #1967D2;\n",
              "      --hover-bg-color: #E2EBFA;\n",
              "      --hover-fill-color: #174EA6;\n",
              "      --disabled-fill-color: #AAA;\n",
              "      --disabled-bg-color: #DDD;\n",
              "  }\n",
              "\n",
              "  [theme=dark] .colab-df-quickchart {\n",
              "      --bg-color: #3B4455;\n",
              "      --fill-color: #D2E3FC;\n",
              "      --hover-bg-color: #434B5C;\n",
              "      --hover-fill-color: #FFFFFF;\n",
              "      --disabled-bg-color: #3B4455;\n",
              "      --disabled-fill-color: #666;\n",
              "  }\n",
              "\n",
              "  .colab-df-quickchart {\n",
              "    background-color: var(--bg-color);\n",
              "    border: none;\n",
              "    border-radius: 50%;\n",
              "    cursor: pointer;\n",
              "    display: none;\n",
              "    fill: var(--fill-color);\n",
              "    height: 32px;\n",
              "    padding: 0;\n",
              "    width: 32px;\n",
              "  }\n",
              "\n",
              "  .colab-df-quickchart:hover {\n",
              "    background-color: var(--hover-bg-color);\n",
              "    box-shadow: 0 1px 2px rgba(60, 64, 67, 0.3), 0 1px 3px 1px rgba(60, 64, 67, 0.15);\n",
              "    fill: var(--button-hover-fill-color);\n",
              "  }\n",
              "\n",
              "  .colab-df-quickchart-complete:disabled,\n",
              "  .colab-df-quickchart-complete:disabled:hover {\n",
              "    background-color: var(--disabled-bg-color);\n",
              "    fill: var(--disabled-fill-color);\n",
              "    box-shadow: none;\n",
              "  }\n",
              "\n",
              "  .colab-df-spinner {\n",
              "    border: 2px solid var(--fill-color);\n",
              "    border-color: transparent;\n",
              "    border-bottom-color: var(--fill-color);\n",
              "    animation:\n",
              "      spin 1s steps(1) infinite;\n",
              "  }\n",
              "\n",
              "  @keyframes spin {\n",
              "    0% {\n",
              "      border-color: transparent;\n",
              "      border-bottom-color: var(--fill-color);\n",
              "      border-left-color: var(--fill-color);\n",
              "    }\n",
              "    20% {\n",
              "      border-color: transparent;\n",
              "      border-left-color: var(--fill-color);\n",
              "      border-top-color: var(--fill-color);\n",
              "    }\n",
              "    30% {\n",
              "      border-color: transparent;\n",
              "      border-left-color: var(--fill-color);\n",
              "      border-top-color: var(--fill-color);\n",
              "      border-right-color: var(--fill-color);\n",
              "    }\n",
              "    40% {\n",
              "      border-color: transparent;\n",
              "      border-right-color: var(--fill-color);\n",
              "      border-top-color: var(--fill-color);\n",
              "    }\n",
              "    60% {\n",
              "      border-color: transparent;\n",
              "      border-right-color: var(--fill-color);\n",
              "    }\n",
              "    80% {\n",
              "      border-color: transparent;\n",
              "      border-right-color: var(--fill-color);\n",
              "      border-bottom-color: var(--fill-color);\n",
              "    }\n",
              "    90% {\n",
              "      border-color: transparent;\n",
              "      border-bottom-color: var(--fill-color);\n",
              "    }\n",
              "  }\n",
              "</style>\n",
              "\n",
              "  <script>\n",
              "    async function quickchart(key) {\n",
              "      const quickchartButtonEl =\n",
              "        document.querySelector('#' + key + ' button');\n",
              "      quickchartButtonEl.disabled = true;  // To prevent multiple clicks.\n",
              "      quickchartButtonEl.classList.add('colab-df-spinner');\n",
              "      try {\n",
              "        const charts = await google.colab.kernel.invokeFunction(\n",
              "            'suggestCharts', [key], {});\n",
              "      } catch (error) {\n",
              "        console.error('Error during call to suggestCharts:', error);\n",
              "      }\n",
              "      quickchartButtonEl.classList.remove('colab-df-spinner');\n",
              "      quickchartButtonEl.classList.add('colab-df-quickchart-complete');\n",
              "    }\n",
              "    (() => {\n",
              "      let quickchartButtonEl =\n",
              "        document.querySelector('#df-19dd82d0-ffa2-475b-96f9-a363ff6250d0 button');\n",
              "      quickchartButtonEl.style.display =\n",
              "        google.colab.kernel.accessAllowed ? 'block' : 'none';\n",
              "    })();\n",
              "  </script>\n",
              "</div>\n",
              "    </div>\n",
              "  </div>\n"
            ],
            "application/vnd.google.colaboratory.intrinsic+json": {
              "type": "dataframe",
              "variable_name": "X"
            }
          },
          "metadata": {},
          "execution_count": 29
        }
      ],
      "source": [
        "# Transforming the qualitatives variables into quantitatives for training data\n",
        "X['Education'] = X['Education'].map({\"Bachelor's\": 0, \"High School\": 1, \"Master's\": 2, \"PhD\": 3} ).astype(int)\n",
        "X['EmploymentType'] = X['EmploymentType'].map( {'Full-time': 0, 'Part-time': 1,'Unemployed':2, 'Self-employed': 3} ).astype(int)\n",
        "X['MaritalStatus'] = X['MaritalStatus'].map( {'Divorced': 0, 'Married': 1, 'Single': 2}).astype(int)\n",
        "X['HasMortgage'] = X['HasMortgage'].map( {'No': 0, 'Yes': 1}).astype(int)\n",
        "X['HasDependents'] = X['HasDependents'].map( {'No': 0, 'Yes': 1}).astype(int)\n",
        "X['LoanPurpose'] = X['LoanPurpose'].map( {'Auto': 0, 'Business': 1, 'Education': 2, 'Home': 3, 'Other': 4}).astype(int)\n",
        "X['HasCoSigner'] = X['HasCoSigner'].map( {'No': 0, 'Yes': 1}).astype(int)\n",
        "X.head()"
      ]
    },
    {
      "cell_type": "code",
      "execution_count": null,
      "metadata": {
        "colab": {
          "base_uri": "https://localhost:8080/"
        },
        "id": "J_5Z0e1HhbxZ",
        "outputId": "c08f56d6-4264-4ffb-8ec8-ca828434a383"
      },
      "outputs": [
        {
          "output_type": "execute_result",
          "data": {
            "text/plain": [
              "((255327, 16), (451358, 16))"
            ]
          },
          "metadata": {},
          "execution_count": 30
        }
      ],
      "source": [
        "# Set up the oversampling method\n",
        "oversampler = SMOTE()\n",
        "X_new, y_new = oversampler.fit_resample(X, y)\n",
        "\n",
        "X.shape, X_new.shape"
      ]
    },
    {
      "cell_type": "markdown",
      "metadata": {
        "id": "2u_stps3gWgv"
      },
      "source": [
        "Step 2: Data Splitting (60% for training set, 20% for testing set, and 20% for validation set)"
      ]
    },
    {
      "cell_type": "code",
      "execution_count": null,
      "metadata": {
        "id": "XhNg2sMogSKa"
      },
      "outputs": [],
      "source": [
        "#Split data into separate training, test, and validation set\n",
        "X_train, X_temp, y_train, y_temp = train_test_split(X_new, y_new, test_size=0.4, random_state=42)\n",
        "X_val, X_test, y_val, y_test = train_test_split(X_temp, y_temp, test_size=0.5, random_state=42)"
      ]
    },
    {
      "cell_type": "code",
      "execution_count": null,
      "metadata": {
        "colab": {
          "base_uri": "https://localhost:8080/"
        },
        "id": "pTkJG8VagZ9v",
        "outputId": "7f7e22b6-ebb3-4abb-b3a5-8fbe1ae6a1f9"
      },
      "outputs": [
        {
          "output_type": "stream",
          "name": "stdout",
          "text": [
            "train sample size:  (270814, 16)\n",
            "test sample size:  (90272, 16)\n",
            "validation sample size:  (90272, 16)\n"
          ]
        }
      ],
      "source": [
        "#Check the shape of X_train and X_test\n",
        "print(\"train sample size: \", X_train.shape)\n",
        "print(\"test sample size: \", X_test.shape)\n",
        "print(\"validation sample size: \", X_val.shape)"
      ]
    },
    {
      "cell_type": "markdown",
      "metadata": {
        "id": "B0OgDsHrghmy"
      },
      "source": [
        "Step 3: Data Preprocessing"
      ]
    },
    {
      "cell_type": "markdown",
      "metadata": {
        "id": "JuhS_f8xgkHM"
      },
      "source": [
        "Training Data"
      ]
    },
    {
      "cell_type": "code",
      "execution_count": null,
      "metadata": {
        "colab": {
          "base_uri": "https://localhost:8080/"
        },
        "id": "d_VTXHL7gbxR",
        "outputId": "9f6861b8-60d9-43cb-aac6-b03ac5f8d210"
      },
      "outputs": [
        {
          "output_type": "stream",
          "name": "stdout",
          "text": [
            "Null values:\n",
            " Age               0\n",
            "Income            0\n",
            "LoanAmount        0\n",
            "CreditScore       0\n",
            "MonthsEmployed    0\n",
            "NumCreditLines    0\n",
            "InterestRate      0\n",
            "LoanTerm          0\n",
            "DTIRatio          0\n",
            "Education         0\n",
            "EmploymentType    0\n",
            "MaritalStatus     0\n",
            "HasMortgage       0\n",
            "HasDependents     0\n",
            "LoanPurpose       0\n",
            "HasCoSigner       0\n",
            "dtype: int64\n"
          ]
        }
      ],
      "source": [
        "# Looking for null values in training data\n",
        "print(\"Null values:\\n\", X_train.isnull().sum())"
      ]
    },
    {
      "cell_type": "code",
      "execution_count": null,
      "metadata": {
        "colab": {
          "base_uri": "https://localhost:8080/"
        },
        "id": "6sCv_4_ogmAP",
        "outputId": "8e9f3d3e-b456-413c-ea14-627c5f4adcaa"
      },
      "outputs": [
        {
          "output_type": "stream",
          "name": "stdout",
          "text": [
            "Number of duplicate rows:  (0, 16)\n"
          ]
        }
      ],
      "source": [
        "# Check duplicate rows in training data\n",
        "duplicate_rows = X_train[X_train.duplicated()]\n",
        "print(\"Number of duplicate rows: \", duplicate_rows.shape)"
      ]
    },
    {
      "cell_type": "code",
      "execution_count": null,
      "metadata": {
        "colab": {
          "base_uri": "https://localhost:8080/"
        },
        "id": "G72whafbgnmW",
        "outputId": "15b469b8-2c1d-49e3-f524-ac2f82eb9f0d"
      },
      "outputs": [
        {
          "output_type": "execute_result",
          "data": {
            "text/plain": [
              "(270814, 16)"
            ]
          },
          "metadata": {},
          "execution_count": 35
        }
      ],
      "source": [
        "# Removing outliers using z-score\n",
        "z = np.abs(stats.zscore(X_train))\n",
        "\n",
        "df3 = X_train[(z<3).all(axis=1)]\n",
        "df3.shape"
      ]
    },
    {
      "cell_type": "code",
      "execution_count": null,
      "metadata": {
        "colab": {
          "base_uri": "https://localhost:8080/",
          "height": 814
        },
        "id": "IozA1htfgpNd",
        "outputId": "ef5f56ea-b17f-4fff-c3a1-9f6039df7d66"
      },
      "outputs": [
        {
          "output_type": "execute_result",
          "data": {
            "text/plain": [
              "Text(0.5, 1.0, 'Pearson Correlation')"
            ]
          },
          "metadata": {},
          "execution_count": 36
        },
        {
          "output_type": "display_data",
          "data": {
            "text/plain": [
              "<Figure size 2000x900 with 2 Axes>"
            ],
            "image/png": "[encoded data removed]"
          },
          "metadata": {}
        }
      ],
      "source": [
        "df3['Default'] = y_train\n",
        "\n",
        "# Finding the correlation between variables\n",
        "pearsonCorr = df3.corr(method='pearson')\n",
        "\n",
        "# Create mask for both correlation matrices\n",
        "# Pearson corr masking\n",
        "# Generating mask for upper triangle\n",
        "maskP = np.triu(np.ones_like(pearsonCorr,dtype=bool))\n",
        "\n",
        "# Adjust mask and correlation\n",
        "maskP = maskP[1:,:-1]\n",
        "pCorr = pearsonCorr.iloc[1:,:-1].copy()\n",
        "# Setting up a diverging palette\n",
        "cmap = sns.diverging_palette(0, 200, 150, 50, as_cmap=True)\n",
        "fig = plt.subplots(figsize=(20,9))\n",
        "sns.heatmap(pCorr, vmin=-1,vmax=1, cmap = cmap, annot=True, linewidth=0.3, mask=maskP)\n",
        "plt.title(\"Pearson Correlation\")"
      ]
    },
    {
      "cell_type": "markdown",
      "metadata": {
        "id": "uxr3CWyygtEG"
      },
      "source": [
        "Testing Data"
      ]
    },
    {
      "cell_type": "code",
      "execution_count": null,
      "metadata": {
        "colab": {
          "base_uri": "https://localhost:8080/"
        },
        "id": "EEPCZYXjgrGV",
        "outputId": "f2f7136c-0bff-4896-f604-e47201a42bf3"
      },
      "outputs": [
        {
          "output_type": "stream",
          "name": "stdout",
          "text": [
            "Null values:\n",
            " Age               0\n",
            "Income            0\n",
            "LoanAmount        0\n",
            "CreditScore       0\n",
            "MonthsEmployed    0\n",
            "NumCreditLines    0\n",
            "InterestRate      0\n",
            "LoanTerm          0\n",
            "DTIRatio          0\n",
            "Education         0\n",
            "EmploymentType    0\n",
            "MaritalStatus     0\n",
            "HasMortgage       0\n",
            "HasDependents     0\n",
            "LoanPurpose       0\n",
            "HasCoSigner       0\n",
            "dtype: int64\n"
          ]
        }
      ],
      "source": [
        "# Looking for null values in testing data\n",
        "print(\"Null values:\\n\", X_test.isnull().sum())"
      ]
    },
    {
      "cell_type": "code",
      "execution_count": null,
      "metadata": {
        "colab": {
          "base_uri": "https://localhost:8080/"
        },
        "id": "otGYaUdHgu3f",
        "outputId": "9814523f-7e54-4a25-d5a7-eae926e44a70"
      },
      "outputs": [
        {
          "output_type": "stream",
          "name": "stdout",
          "text": [
            "Number of duplicate rows:  (0, 16)\n"
          ]
        }
      ],
      "source": [
        "# Check duplicate rows in testing data\n",
        "duplicate_rows = X_test[X_test.duplicated()]\n",
        "print(\"Number of duplicate rows: \", duplicate_rows.shape)"
      ]
    },
    {
      "cell_type": "markdown",
      "metadata": {
        "id": "DaqDHUlVg3JS"
      },
      "source": [
        "Validation Data"
      ]
    },
    {
      "cell_type": "code",
      "execution_count": null,
      "metadata": {
        "colab": {
          "base_uri": "https://localhost:8080/"
        },
        "id": "bMuIaTdSgw2Z",
        "outputId": "c6349190-8543-421b-d729-635e0ba0a3cb"
      },
      "outputs": [
        {
          "output_type": "stream",
          "name": "stdout",
          "text": [
            "Null values:\n",
            " Age               0\n",
            "Income            0\n",
            "LoanAmount        0\n",
            "CreditScore       0\n",
            "MonthsEmployed    0\n",
            "NumCreditLines    0\n",
            "InterestRate      0\n",
            "LoanTerm          0\n",
            "DTIRatio          0\n",
            "Education         0\n",
            "EmploymentType    0\n",
            "MaritalStatus     0\n",
            "HasMortgage       0\n",
            "HasDependents     0\n",
            "LoanPurpose       0\n",
            "HasCoSigner       0\n",
            "dtype: int64\n"
          ]
        }
      ],
      "source": [
        "# Looking for null values in validation data\n",
        "print(\"Null values:\\n\", X_val.isnull().sum())"
      ]
    },
    {
      "cell_type": "code",
      "execution_count": null,
      "metadata": {
        "colab": {
          "base_uri": "https://localhost:8080/"
        },
        "id": "15Lh4cUsg5Nv",
        "outputId": "de079aff-a151-4902-8fda-0083b6da1395"
      },
      "outputs": [
        {
          "output_type": "stream",
          "name": "stdout",
          "text": [
            "Number of duplicate rows:  (0, 16)\n"
          ]
        }
      ],
      "source": [
        "# Check duplicate rows in validation data\n",
        "duplicate_rows = X_val[X_val.duplicated()]\n",
        "print(\"Number of duplicate rows: \", duplicate_rows.shape)"
      ]
    },
    {
      "cell_type": "markdown",
      "metadata": {
        "id": "LgcehKV7h62t"
      },
      "source": [
        "Step 4: Algorithm and Selection, Step 5: Model Training, Step 6: Model Evaluation, Step 7: Comparison and Selection"
      ]
    },
    {
      "cell_type": "code",
      "execution_count": null,
      "metadata": {
        "id": "OepZ-pVxh6Xs"
      },
      "outputs": [],
      "source": [
        "# Scale the features using StandardScaler\n",
        "scaler = StandardScaler()\n",
        "X_train_new = scaler.fit_transform(X_train)\n",
        "X_test = scaler.transform(X_test)\n",
        "X_val = scaler.transform(X_val)"
      ]
    },
    {
      "cell_type": "markdown",
      "metadata": {
        "id": "BSa7AadZiFLp"
      },
      "source": [
        "Logistic Regression (before tuning the parameters)"
      ]
    },
    {
      "cell_type": "code",
      "execution_count": null,
      "metadata": {
        "id": "zX-sSxCCiAe9"
      },
      "outputs": [],
      "source": [
        "logReg = LogisticRegression(random_state=0, solver='liblinear')\n",
        "logReg.fit(X_train_new, y_train)\n",
        "\n",
        "y_pred_logReg = logReg.predict(X_test)\n",
        "y_pred_logReg_val = logReg.predict(X_val)"
      ]
    },
    {
      "cell_type": "code",
      "execution_count": null,
      "metadata": {
        "colab": {
          "base_uri": "https://localhost:8080/"
        },
        "id": "8jeoNLHTjBHC",
        "outputId": "bf45c391-39d9-4a6c-c618-5d21bdbe7c08"
      },
      "outputs": [
        {
          "output_type": "stream",
          "name": "stdout",
          "text": [
            "\n",
            "Logistic Regression Evaluation:\n",
            "\n",
            "              precision    recall  f1-score   support\n",
            "\n",
            "           0       0.79      0.77      0.78     45184\n",
            "           1       0.78      0.80      0.79     45088\n",
            "\n",
            "    accuracy                           0.79     90272\n",
            "   macro avg       0.79      0.79      0.79     90272\n",
            "weighted avg       0.79      0.79      0.79     90272\n",
            "\n",
            "\n",
            "Logistic Regression confusion matrix:\n",
            "\n",
            "[[34916 10268]\n",
            " [ 9133 35955]]\n"
          ]
        }
      ],
      "source": [
        "# Classification Report for LR with validation data\n",
        "print(\"\\nLogistic Regression Evaluation:\\n\")\n",
        "print(classification_report(y_val, y_pred_logReg_val))\n",
        "\n",
        "# Confusion Matrix for LR with validation data\n",
        "print(\"\\nLogistic Regression confusion matrix:\\n\")\n",
        "cm = confusion_matrix(y_val, y_pred_logReg_val)\n",
        "print(cm)"
      ]
    },
    {
      "cell_type": "code",
      "execution_count": null,
      "metadata": {
        "colab": {
          "base_uri": "https://localhost:8080/"
        },
        "id": "mBf6Cx-qiTY7",
        "outputId": "db0b6896-0520-4f9d-fb77-9d85be3cd45e"
      },
      "outputs": [
        {
          "output_type": "stream",
          "name": "stdout",
          "text": [
            "\n",
            "Logistic Regression Evaluation:\n",
            "\n",
            "              precision    recall  f1-score   support\n",
            "\n",
            "           0       0.79      0.77      0.78     45180\n",
            "           1       0.78      0.79      0.78     45092\n",
            "\n",
            "    accuracy                           0.78     90272\n",
            "   macro avg       0.78      0.78      0.78     90272\n",
            "weighted avg       0.78      0.78      0.78     90272\n",
            "\n",
            "\n",
            "Logistic Regression confusion matrix:\n",
            "\n",
            "[[34843 10337]\n",
            " [ 9403 35689]]\n"
          ]
        }
      ],
      "source": [
        "# Classification Report for LR with test data\n",
        "print(\"\\nLogistic Regression Evaluation:\\n\")\n",
        "print(classification_report(y_test, y_pred_logReg))\n",
        "\n",
        "# Confusion Matrix for LR with test data\n",
        "print(\"\\nLogistic Regression confusion matrix:\\n\")\n",
        "cm = confusion_matrix(y_test, y_pred_logReg)\n",
        "print(cm)"
      ]
    },
    {
      "cell_type": "markdown",
      "metadata": {
        "id": "kp_xg5YOi2Q0"
      },
      "source": [
        "Logistic Regression (after tuning the parameters)"
      ]
    },
    {
      "cell_type": "code",
      "execution_count": null,
      "metadata": {
        "colab": {
          "base_uri": "https://localhost:8080/"
        },
        "id": "Sz5iaYUbi0t5",
        "outputId": "ca8de7fe-1561-4e61-e026-2c998376c00e"
      },
      "outputs": [
        {
          "output_type": "stream",
          "name": "stdout",
          "text": [
            "Best Parameters:  {'C': 0.001, 'penalty': 'l2'}\n"
          ]
        }
      ],
      "source": [
        "param_grid = {'C': [0.001, 0.01, 0.1, 1, 10, 100],\n",
        "              'penalty': ['l1', 'l2']}\n",
        "grid_search = GridSearchCV(LogisticRegression(random_state=0, solver='liblinear'), param_grid, cv=5)\n",
        "grid_search.fit(X_train_new, y_train)\n",
        "\n",
        "print(\"Best Parameters: \", grid_search.best_params_)"
      ]
    },
    {
      "cell_type": "code",
      "execution_count": null,
      "metadata": {
        "id": "FmYOTeqWjYLc"
      },
      "outputs": [],
      "source": [
        "y_pred_logReg_hyper = grid_search.predict(X_test)\n",
        "y_pred_logReg_hyper_val = grid_search.predict(X_val)"
      ]
    },
    {
      "cell_type": "code",
      "execution_count": null,
      "metadata": {
        "colab": {
          "base_uri": "https://localhost:8080/"
        },
        "id": "GMC3KhWcjTDj",
        "outputId": "cdb23e10-752f-44f6-a63e-7a637852d729"
      },
      "outputs": [
        {
          "output_type": "stream",
          "name": "stdout",
          "text": [
            "\n",
            "Logistic Regression Evaluation:\n",
            "\n",
            "              precision    recall  f1-score   support\n",
            "\n",
            "           0       0.79      0.77      0.78     45184\n",
            "           1       0.78      0.80      0.79     45088\n",
            "\n",
            "    accuracy                           0.79     90272\n",
            "   macro avg       0.79      0.79      0.79     90272\n",
            "weighted avg       0.79      0.79      0.79     90272\n",
            "\n",
            "\n",
            "Logistic Regression confusion matrix:\n",
            "\n",
            "[[34899 10285]\n",
            " [ 9109 35979]]\n"
          ]
        }
      ],
      "source": [
        "# Classification Report for LR with validation data\n",
        "print(\"\\nLogistic Regression Evaluation:\\n\")\n",
        "print(classification_report(y_val, y_pred_logReg_hyper_val))\n",
        "\n",
        "# Confusion Matrix for LR with validation data\n",
        "print(\"\\nLogistic Regression confusion matrix:\\n\")\n",
        "cm = confusion_matrix(y_val, y_pred_logReg_hyper_val)\n",
        "print(cm)"
      ]
    },
    {
      "cell_type": "code",
      "execution_count": null,
      "metadata": {
        "colab": {
          "base_uri": "https://localhost:8080/"
        },
        "id": "xjjw1BQHjj9g",
        "outputId": "1e52c7dc-3690-4c06-f302-0d56181cff93"
      },
      "outputs": [
        {
          "output_type": "stream",
          "name": "stdout",
          "text": [
            "\n",
            "Logistic Regression Evaluation:\n",
            "\n",
            "              precision    recall  f1-score   support\n",
            "\n",
            "           0       0.79      0.77      0.78     45180\n",
            "           1       0.77      0.79      0.78     45092\n",
            "\n",
            "    accuracy                           0.78     90272\n",
            "   macro avg       0.78      0.78      0.78     90272\n",
            "weighted avg       0.78      0.78      0.78     90272\n",
            "\n",
            "\n",
            "Logistic Regression confusion matrix:\n",
            "\n",
            "[[34805 10375]\n",
            " [ 9384 35708]]\n"
          ]
        }
      ],
      "source": [
        "# Classification Report for LR with test data\n",
        "print(\"\\nLogistic Regression Evaluation:\\n\")\n",
        "print(classification_report(y_test, y_pred_logReg_hyper))\n",
        "\n",
        "# Confusion Matrix for LR with test data\n",
        "print(\"\\nLogistic Regression confusion matrix:\\n\")\n",
        "cm = confusion_matrix(y_test, y_pred_logReg_hyper)\n",
        "print(cm)"
      ]
    },
    {
      "cell_type": "markdown",
      "metadata": {
        "id": "BLka9BcykOxb"
      },
      "source": [
        "Decision Trees (before tuning the parameters)"
      ]
    },
    {
      "cell_type": "code",
      "execution_count": null,
      "metadata": {
        "id": "c-02lxYMkODZ"
      },
      "outputs": [],
      "source": [
        "dt = DecisionTreeClassifier(criterion='entropy', max_depth=5)\n",
        "dt = dt.fit(X_train_new, y_train)\n",
        "y_pred_dt = dt.predict(X_test)\n",
        "y_pred_dt_val = dt.predict(X_val)"
      ]
    },
    {
      "cell_type": "code",
      "execution_count": null,
      "metadata": {
        "colab": {
          "base_uri": "https://localhost:8080/"
        },
        "id": "5fuDOghGkrgT",
        "outputId": "9dfa4bfa-77fb-4163-9e6c-0935f42fe953"
      },
      "outputs": [
        {
          "output_type": "stream",
          "name": "stdout",
          "text": [
            "\n",
            "Decision Trees Evaluation:\n",
            "\n",
            "              precision    recall  f1-score   support\n",
            "\n",
            "           0       0.76      0.71      0.74     45184\n",
            "           1       0.73      0.77      0.75     45088\n",
            "\n",
            "    accuracy                           0.74     90272\n",
            "   macro avg       0.74      0.74      0.74     90272\n",
            "weighted avg       0.74      0.74      0.74     90272\n",
            "\n",
            "\n",
            "Decision Trees confusion matrix:\n",
            "\n",
            "[[32200 12984]\n",
            " [10158 34930]]\n"
          ]
        }
      ],
      "source": [
        "# Classification Report for Decision Trees with validation data\n",
        "print(\"\\nDecision Trees Evaluation:\\n\")\n",
        "print(classification_report(y_val, y_pred_dt_val))\n",
        "\n",
        "# Confusion Matrix for Decision Trees with validation data\n",
        "print(\"\\nDecision Trees confusion matrix:\\n\")\n",
        "cm = confusion_matrix(y_val, y_pred_dt_val)\n",
        "print(cm)"
      ]
    },
    {
      "cell_type": "code",
      "execution_count": null,
      "metadata": {
        "colab": {
          "base_uri": "https://localhost:8080/"
        },
        "id": "paJkS3hDk5Fg",
        "outputId": "b9987b4e-0feb-448b-9adf-81f4747cbe1c"
      },
      "outputs": [
        {
          "output_type": "stream",
          "name": "stdout",
          "text": [
            "\n",
            "Decision Trees Evaluation:\n",
            "\n",
            "              precision    recall  f1-score   support\n",
            "\n",
            "           0       0.76      0.71      0.73     45180\n",
            "           1       0.73      0.77      0.75     45092\n",
            "\n",
            "    accuracy                           0.74     90272\n",
            "   macro avg       0.74      0.74      0.74     90272\n",
            "weighted avg       0.74      0.74      0.74     90272\n",
            "\n",
            "\n",
            "Decision Trees confusion matrix:\n",
            "\n",
            "[[32208 12972]\n",
            " [10335 34757]]\n"
          ]
        }
      ],
      "source": [
        "# Classification Report for Decision Trees with testing data\n",
        "print(\"\\nDecision Trees Evaluation:\\n\")\n",
        "print(classification_report(y_test, y_pred_dt))\n",
        "\n",
        "# Confusion Matrix for Decision Trees with validation data\n",
        "print(\"\\nDecision Trees confusion matrix:\\n\")\n",
        "cm = confusion_matrix(y_test, y_pred_dt)\n",
        "print(cm)"
      ]
    },
    {
      "cell_type": "markdown",
      "metadata": {
        "id": "94I4I_zYlIG9"
      },
      "source": [
        "Decision Trees (after tuning the parameters)"
      ]
    },
    {
      "cell_type": "code",
      "execution_count": null,
      "metadata": {
        "colab": {
          "base_uri": "https://localhost:8080/"
        },
        "id": "3QVrFN40lPun",
        "outputId": "4a0b2f7f-fb94-4764-9851-74256161b6df"
      },
      "outputs": [
        {
          "output_type": "stream",
          "name": "stdout",
          "text": [
            "Best Parameters: {'min_samples_leaf': 4, 'min_samples_split': 10}\n"
          ]
        }
      ],
      "source": [
        "# Define the parameter grid to search\n",
        "param_grid = {\n",
        "    'min_samples_split': [2, 5, 10],\n",
        "    'min_samples_leaf': [1, 2, 4]\n",
        "}\n",
        "\n",
        "# Initialize DecisionTreeClassifier\n",
        "dt = DecisionTreeClassifier()\n",
        "\n",
        "# Initialize GridSearchCV\n",
        "grid_search = GridSearchCV(estimator=dt, param_grid=param_grid, cv=5)\n",
        "\n",
        "# Fit the GridSearchCV to the training data\n",
        "grid_search.fit(X_train_new, y_train)\n",
        "\n",
        "# Get the best parameters\n",
        "best_params = grid_search.best_params_\n",
        "print(\"Best Parameters:\", best_params)\n",
        "\n",
        "# Retrieve the best model\n",
        "best_dt = grid_search.best_estimator_"
      ]
    },
    {
      "cell_type": "code",
      "execution_count": null,
      "metadata": {
        "id": "Ll96ZCSYlS6O"
      },
      "outputs": [],
      "source": [
        "y_pred_dt_hyper = best_dt.predict(X_test)\n",
        "y_pred_dt_hyper_val = best_dt.predict(X_val)"
      ]
    },
    {
      "cell_type": "code",
      "execution_count": null,
      "metadata": {
        "colab": {
          "base_uri": "https://localhost:8080/"
        },
        "id": "jAEhY99RlWD7",
        "outputId": "64494dac-db36-41e5-fe89-bd1dd566c4b6"
      },
      "outputs": [
        {
          "output_type": "stream",
          "name": "stdout",
          "text": [
            "\n",
            "Decision Trees Evaluation:\n",
            "\n",
            "              precision    recall  f1-score   support\n",
            "\n",
            "           0       0.81      0.83      0.82     45184\n",
            "           1       0.83      0.80      0.81     45088\n",
            "\n",
            "    accuracy                           0.82     90272\n",
            "   macro avg       0.82      0.82      0.82     90272\n",
            "weighted avg       0.82      0.82      0.82     90272\n",
            "\n",
            "\n",
            "Decision Trees confusion matrix:\n",
            "\n",
            "[[37607  7577]\n",
            " [ 8891 36197]]\n"
          ]
        }
      ],
      "source": [
        "# Classification Report for Decision Trees with validation data\n",
        "print(\"\\nDecision Trees Evaluation:\\n\")\n",
        "print(classification_report(y_val, y_pred_dt_hyper_val))\n",
        "\n",
        "# Confusion Matrix for Decision Trees with validation data\n",
        "print(\"\\nDecision Trees confusion matrix:\\n\")\n",
        "cm = confusion_matrix(y_val, y_pred_dt_hyper_val)\n",
        "print(cm)"
      ]
    },
    {
      "cell_type": "code",
      "execution_count": null,
      "metadata": {
        "colab": {
          "base_uri": "https://localhost:8080/"
        },
        "id": "lFcW3s3glots",
        "outputId": "a2c8e7b2-8f0d-4517-8562-d4c53b03becc"
      },
      "outputs": [
        {
          "output_type": "stream",
          "name": "stdout",
          "text": [
            "\n",
            "Decision Trees Evaluation:\n",
            "\n",
            "              precision    recall  f1-score   support\n",
            "\n",
            "           0       0.80      0.83      0.82     45180\n",
            "           1       0.82      0.80      0.81     45092\n",
            "\n",
            "    accuracy                           0.81     90272\n",
            "   macro avg       0.81      0.81      0.81     90272\n",
            "weighted avg       0.81      0.81      0.81     90272\n",
            "\n",
            "\n",
            "Decision Trees confusion matrix:\n",
            "\n",
            "[[37457  7723]\n",
            " [ 9086 36006]]\n"
          ]
        }
      ],
      "source": [
        "# Classification Report for Decision Trees with validation data\n",
        "print(\"\\nDecision Trees Evaluation:\\n\")\n",
        "print(classification_report(y_test, y_pred_dt_hyper))\n",
        "\n",
        "# Confusion Matrix for Decision Trees with validation data\n",
        "print(\"\\nDecision Trees confusion matrix:\\n\")\n",
        "cm = confusion_matrix(y_test, y_pred_dt_hyper)\n",
        "print(cm)"
      ]
    },
    {
      "cell_type": "markdown",
      "metadata": {
        "id": "XnDY1kyUn1pi"
      },
      "source": [
        "Random Forest Classifier (before tuning the parameters)"
      ]
    },
    {
      "cell_type": "code",
      "execution_count": null,
      "metadata": {
        "id": "poyPmGMpn0xD"
      },
      "outputs": [],
      "source": [
        "rf = RandomForestClassifier()\n",
        "rf.fit(X_train_new,y_train)\n",
        "y_pred_rf = rf.predict(X_test)\n",
        "y_pred_rf_val = rf.predict(X_val)"
      ]
    },
    {
      "cell_type": "code",
      "execution_count": null,
      "metadata": {
        "colab": {
          "base_uri": "https://localhost:8080/"
        },
        "id": "uJfSsmAin6i0",
        "outputId": "b087eb01-3601-4fa4-8347-49f66662523d"
      },
      "outputs": [
        {
          "output_type": "stream",
          "name": "stdout",
          "text": [
            "\n",
            "Random Forest Classifier Evaluation:\n",
            "\n",
            "              precision    recall  f1-score   support\n",
            "\n",
            "           0       0.86      0.90      0.88     45184\n",
            "           1       0.90      0.85      0.87     45088\n",
            "\n",
            "    accuracy                           0.88     90272\n",
            "   macro avg       0.88      0.88      0.88     90272\n",
            "weighted avg       0.88      0.88      0.88     90272\n",
            "\n",
            "\n",
            "Random Forest Classifier confusion matrix:\n",
            "\n",
            "[[40760  4424]\n",
            " [ 6761 38327]]\n"
          ]
        }
      ],
      "source": [
        "# Classification Report for Random Forest Classifier with validation data\n",
        "print(\"\\nRandom Forest Classifier Evaluation:\\n\")\n",
        "print(classification_report(y_val, y_pred_rf_val))\n",
        "\n",
        "# Confusion Matrix for Random Forest Classifier with validation data\n",
        "print(\"\\nRandom Forest Classifier confusion matrix:\\n\")\n",
        "cm = confusion_matrix(y_val, y_pred_rf_val)\n",
        "print(cm)"
      ]
    },
    {
      "cell_type": "code",
      "execution_count": null,
      "metadata": {
        "colab": {
          "base_uri": "https://localhost:8080/"
        },
        "id": "nRcp2MploKy7",
        "outputId": "e6e184dc-a8ef-426f-adf2-3c97ac66fea8"
      },
      "outputs": [
        {
          "output_type": "stream",
          "name": "stdout",
          "text": [
            "\n",
            "Random Forest Classifier Evaluation:\n",
            "\n",
            "              precision    recall  f1-score   support\n",
            "\n",
            "           0       0.85      0.90      0.88     45180\n",
            "           1       0.90      0.84      0.87     45092\n",
            "\n",
            "    accuracy                           0.87     90272\n",
            "   macro avg       0.87      0.87      0.87     90272\n",
            "weighted avg       0.87      0.87      0.87     90272\n",
            "\n",
            "\n",
            "Random Forest Classifier confusion matrix:\n",
            "\n",
            "[[40791  4389]\n",
            " [ 7155 37937]]\n"
          ]
        }
      ],
      "source": [
        "# Classification Report for Random Forest Classifier with testing data\n",
        "print(\"\\nRandom Forest Classifier Evaluation:\\n\")\n",
        "print(classification_report(y_test, y_pred_rf))\n",
        "\n",
        "# Confusion Matrix for Random Forest Classifier with testing data\n",
        "print(\"\\nRandom Forest Classifier confusion matrix:\\n\")\n",
        "cm = confusion_matrix(y_test, y_pred_rf)\n",
        "print(cm)"
      ]
    },
    {
      "cell_type": "markdown",
      "metadata": {
        "id": "Inxkig1PpyQe"
      },
      "source": [
        "Random Forest Classifier (after tuning the parameters)"
      ]
    },
    {
      "cell_type": "code",
      "execution_count": null,
      "metadata": {
        "colab": {
          "base_uri": "https://localhost:8080/"
        },
        "id": "YVbN2x5ux_V3",
        "outputId": "f8b5ac7a-87bb-43c8-a89c-6267136c3f74"
      },
      "outputs": [
        {
          "output_type": "stream",
          "name": "stdout",
          "text": [
            "Best Parameters: {'min_samples_leaf': 1, 'min_samples_split': 2}\n"
          ]
        }
      ],
      "source": [
        "rf=RandomForestClassifier()\n",
        "grid_space={\n",
        "              'min_samples_leaf':[1,2,3],\n",
        "              'min_samples_split':[1,2,3]\n",
        "           }\n",
        "\n",
        "grid = GridSearchCV(rf,param_grid=grid_space,cv=3,scoring='accuracy')\n",
        "model_grid = grid.fit(X_train_new, y_train)\n",
        "\n",
        "# Get the best parameters\n",
        "best_params = model_grid.best_params_\n",
        "print(\"Best Parameters:\", best_params)\n",
        "\n",
        "# Retrieve the best model\n",
        "best_rf = model_grid.best_estimator_"
      ]
    },
    {
      "cell_type": "code",
      "execution_count": null,
      "metadata": {
        "id": "-IC8914RqAdO"
      },
      "outputs": [],
      "source": [
        "y_pred_rf_hyper = best_rf.predict(X_test)\n",
        "y_pred_rf_hyper_val = best_rf.predict(X_val)"
      ]
    },
    {
      "cell_type": "code",
      "execution_count": null,
      "metadata": {
        "colab": {
          "base_uri": "https://localhost:8080/"
        },
        "id": "YEHSol43qCjb",
        "outputId": "cda52d8e-091e-4604-cef3-6a579d7d2d07"
      },
      "outputs": [
        {
          "output_type": "stream",
          "name": "stdout",
          "text": [
            "\n",
            "Random Forest Classifier Evaluation:\n",
            "\n",
            "              precision    recall  f1-score   support\n",
            "\n",
            "           0       0.86      0.90      0.88     45184\n",
            "           1       0.89      0.85      0.87     45088\n",
            "\n",
            "    accuracy                           0.87     90272\n",
            "   macro avg       0.88      0.87      0.87     90272\n",
            "weighted avg       0.88      0.87      0.87     90272\n",
            "\n",
            "\n",
            "Random Forest Classifier confusion matrix:\n",
            "\n",
            "[[40677  4507]\n",
            " [ 6858 38230]]\n"
          ]
        }
      ],
      "source": [
        "# Classification Report for Random Forest Classifier with validation data\n",
        "print(\"\\nRandom Forest Classifier Evaluation:\\n\")\n",
        "print(classification_report(y_val, y_pred_rf_hyper_val))\n",
        "\n",
        "# Confusion Matrix for Random Forest Classifier with validation data\n",
        "print(\"\\nRandom Forest Classifier confusion matrix:\\n\")\n",
        "cm = confusion_matrix(y_val, y_pred_rf_hyper_val)\n",
        "print(cm)"
      ]
    },
    {
      "cell_type": "code",
      "execution_count": null,
      "metadata": {
        "colab": {
          "base_uri": "https://localhost:8080/"
        },
        "id": "9iFvcRsZqIJX",
        "outputId": "a3eb2273-bfa6-4d5b-d6ed-4d2b3aca5ea5"
      },
      "outputs": [
        {
          "output_type": "stream",
          "name": "stdout",
          "text": [
            "\n",
            "Random Forest Classifier Evaluation:\n",
            "\n",
            "              precision    recall  f1-score   support\n",
            "\n",
            "           0       0.85      0.90      0.88     45180\n",
            "           1       0.89      0.84      0.87     45092\n",
            "\n",
            "    accuracy                           0.87     90272\n",
            "   macro avg       0.87      0.87      0.87     90272\n",
            "weighted avg       0.87      0.87      0.87     90272\n",
            "\n",
            "\n",
            "Random Forest Classifier confusion matrix:\n",
            "\n",
            "[[40720  4460]\n",
            " [ 7141 37951]]\n"
          ]
        }
      ],
      "source": [
        "# Classification Report for Random Forest Classifier with testing data\n",
        "print(\"\\nRandom Forest Classifier Evaluation:\\n\")\n",
        "print(classification_report(y_test, y_pred_rf_hyper))\n",
        "\n",
        "# Confusion Matrix for Random Forest Classifier with testing data\n",
        "print(\"\\nRandom Forest Classifier confusion matrix:\\n\")\n",
        "cm = confusion_matrix(y_test, y_pred_rf_hyper)\n",
        "print(cm)"
      ]
    },
    {
      "cell_type": "markdown",
      "metadata": {
        "id": "qJ4mrGjI-Y-q"
      },
      "source": [
        "Naive Bayes(before tuning the hyper parameter)"
      ]
    },
    {
      "cell_type": "code",
      "execution_count": null,
      "metadata": {
        "id": "rTOyj3O6-iDQ"
      },
      "outputs": [],
      "source": [
        "nb = GaussianNB()\n",
        "nb.fit(X_train_new,y_train)\n",
        "\n",
        "y_pred_nb = nb.predict(X_test)\n",
        "y_pred_nb_val = nb.predict(X_val)"
      ]
    },
    {
      "cell_type": "code",
      "execution_count": null,
      "metadata": {
        "colab": {
          "base_uri": "https://localhost:8080/"
        },
        "id": "oXBG7VpJ-nNZ",
        "outputId": "328ee7ef-6cff-42ff-af1f-4368aae85e29"
      },
      "outputs": [
        {
          "output_type": "stream",
          "name": "stdout",
          "text": [
            "\n",
            "Naive Bayes Classifier Evaluation:\n",
            "\n",
            "              precision    recall  f1-score   support\n",
            "\n",
            "           0       0.81      0.82      0.82     45184\n",
            "           1       0.82      0.81      0.82     45088\n",
            "\n",
            "    accuracy                           0.82     90272\n",
            "   macro avg       0.82      0.82      0.82     90272\n",
            "weighted avg       0.82      0.82      0.82     90272\n",
            "\n",
            "\n",
            "Naive Bayes confusion matrix:\n",
            "\n",
            "[[37255  7929]\n",
            " [ 8542 36546]]\n"
          ]
        }
      ],
      "source": [
        "# Classification Report for Naive Bayes with validation data\n",
        "print(\"\\nNaive Bayes Classifier Evaluation:\\n\")\n",
        "print(classification_report(y_val, y_pred_nb_val))\n",
        "\n",
        "# Confusion Matrix for Naive Bayes with validation data\n",
        "print(\"\\nNaive Bayes confusion matrix:\\n\")\n",
        "cm = confusion_matrix(y_val, y_pred_nb_val)\n",
        "print(cm)"
      ]
    },
    {
      "cell_type": "code",
      "execution_count": null,
      "metadata": {
        "colab": {
          "base_uri": "https://localhost:8080/"
        },
        "id": "384wEPD9_QGF",
        "outputId": "0cd1efe6-297c-4759-e179-8464c8595913"
      },
      "outputs": [
        {
          "output_type": "stream",
          "name": "stdout",
          "text": [
            "\n",
            "Naive Bayes Classifier Evaluation:\n",
            "\n",
            "              precision    recall  f1-score   support\n",
            "\n",
            "           0       0.81      0.82      0.82     45180\n",
            "           1       0.82      0.80      0.81     45092\n",
            "\n",
            "    accuracy                           0.81     90272\n",
            "   macro avg       0.81      0.81      0.81     90272\n",
            "weighted avg       0.81      0.81      0.81     90272\n",
            "\n",
            "\n",
            "Naive Bayes confusion matrix:\n",
            "\n",
            "[[37142  8038]\n",
            " [ 8802 36290]]\n"
          ]
        }
      ],
      "source": [
        "# Classification Report for Naive Bayes with testing data\n",
        "print(\"\\nNaive Bayes Classifier Evaluation:\\n\")\n",
        "print(classification_report(y_test, y_pred_nb))\n",
        "\n",
        "# Confusion Matrix for Naive Bayes with testing data\n",
        "print(\"\\nNaive Bayes confusion matrix:\\n\")\n",
        "cm = confusion_matrix(y_test, y_pred_nb)\n",
        "print(cm)"
      ]
    },
    {
      "cell_type": "markdown",
      "metadata": {
        "id": "P6LMtVPz_dAe"
      },
      "source": [
        "Naive Bayes (after tuning the hyperparameter)"
      ]
    },
    {
      "cell_type": "code",
      "execution_count": null,
      "metadata": {
        "colab": {
          "base_uri": "https://localhost:8080/"
        },
        "id": "7v8QD90P_gWM",
        "outputId": "168b3dba-8348-4d11-8702-f7264122e257"
      },
      "outputs": [
        {
          "output_type": "stream",
          "name": "stdout",
          "text": [
            "Fitting 10 folds for each of 100 candidates, totalling 1000 fits\n"
          ]
        },
        {
          "output_type": "execute_result",
          "data": {
            "text/plain": [
              "{'var_smoothing': 0.002848035868435802}"
            ]
          },
          "metadata": {},
          "execution_count": 66
        }
      ],
      "source": [
        "nb = GaussianNB()\n",
        "\n",
        "params_NB = {'var_smoothing': np.logspace(0,-9, num=100)}\n",
        "gs_NB = GridSearchCV(estimator=nb,\n",
        "                 param_grid=params_NB,\n",
        "                 cv=10,   # use any cross validation technique\n",
        "                 verbose=1,\n",
        "                 scoring='accuracy')\n",
        "gs_NB.fit(X_train_new, y_train)\n",
        "\n",
        "gs_NB.best_params_"
      ]
    },
    {
      "cell_type": "code",
      "execution_count": null,
      "metadata": {
        "id": "1m-khIop_ksm"
      },
      "outputs": [],
      "source": [
        "y_pred_nb_hyper = gs_NB.predict(X_test)\n",
        "y_pred_nb_hyper_val = gs_NB.predict(X_val)"
      ]
    },
    {
      "cell_type": "code",
      "execution_count": null,
      "metadata": {
        "colab": {
          "base_uri": "https://localhost:8080/"
        },
        "id": "_Iy2B10C_mzP",
        "outputId": "4e5de53a-dd38-4f9f-d0cc-4a9fa40e05de"
      },
      "outputs": [
        {
          "output_type": "stream",
          "name": "stdout",
          "text": [
            "\n",
            "Naive Bayes Classifier Evaluation:\n",
            "\n",
            "              precision    recall  f1-score   support\n",
            "\n",
            "           0       0.81      0.82      0.82     45184\n",
            "           1       0.82      0.81      0.82     45088\n",
            "\n",
            "    accuracy                           0.82     90272\n",
            "   macro avg       0.82      0.82      0.82     90272\n",
            "weighted avg       0.82      0.82      0.82     90272\n",
            "\n",
            "\n",
            "Naive Bayes confusion matrix:\n",
            "\n",
            "[[37201  7983]\n",
            " [ 8492 36596]]\n"
          ]
        }
      ],
      "source": [
        "# Classification Report for Naive Bayes with validation data\n",
        "print(\"\\nNaive Bayes Classifier Evaluation:\\n\")\n",
        "print(classification_report(y_val, y_pred_nb_hyper_val))\n",
        "\n",
        "# Confusion Matrix for Naive Bayes with validation data\n",
        "print(\"\\nNaive Bayes confusion matrix:\\n\")\n",
        "cm = confusion_matrix(y_val, y_pred_nb_hyper_val)\n",
        "print(cm)"
      ]
    },
    {
      "cell_type": "code",
      "execution_count": null,
      "metadata": {
        "colab": {
          "base_uri": "https://localhost:8080/"
        },
        "id": "WOU97PS1_t4Z",
        "outputId": "8d08b58d-a268-44d8-b50d-3f845ffe7754"
      },
      "outputs": [
        {
          "output_type": "stream",
          "name": "stdout",
          "text": [
            "\n",
            "Naive Bayes Classifier Evaluation:\n",
            "\n",
            "              precision    recall  f1-score   support\n",
            "\n",
            "           0       0.81      0.82      0.81     45180\n",
            "           1       0.82      0.81      0.81     45092\n",
            "\n",
            "    accuracy                           0.81     90272\n",
            "   macro avg       0.81      0.81      0.81     90272\n",
            "weighted avg       0.81      0.81      0.81     90272\n",
            "\n",
            "\n",
            "Naive Bayes confusion matrix:\n",
            "\n",
            "[[37086  8094]\n",
            " [ 8761 36331]]\n"
          ]
        }
      ],
      "source": [
        "# Classification Report for Naive Bayes with testing data\n",
        "print(\"\\nNaive Bayes Classifier Evaluation:\\n\")\n",
        "print(classification_report(y_test, y_pred_nb_hyper))\n",
        "\n",
        "# Confusion Matrix for Naive Bayes with testing data\n",
        "print(\"\\nNaive Bayes confusion matrix:\\n\")\n",
        "cm = confusion_matrix(y_test, y_pred_nb_hyper)\n",
        "print(cm)"
      ]
    },
    {
      "cell_type": "markdown",
      "metadata": {
        "id": "Tlv8ubOcBN-d"
      },
      "source": [
        "Neural Network (before tuning the hyperparameter)"
      ]
    },
    {
      "cell_type": "code",
      "execution_count": null,
      "metadata": {
        "id": "8qs0xP-aBNea"
      },
      "outputs": [],
      "source": [
        "mlp = MLPClassifier()\n",
        "mlp.fit(X_train_new,y_train)\n",
        "\n",
        "y_pred_mlp = mlp.predict(X_test)\n",
        "y_pred_mlp_val = mlp.predict(X_val)"
      ]
    },
    {
      "cell_type": "code",
      "execution_count": null,
      "metadata": {
        "colab": {
          "base_uri": "https://localhost:8080/"
        },
        "id": "dC2xPXcKBTRf",
        "outputId": "cbc51f44-d6f2-4b6e-9287-9e552bd09edd"
      },
      "outputs": [
        {
          "output_type": "stream",
          "name": "stdout",
          "text": [
            "\n",
            "Neural Network Evaluation:\n",
            "\n",
            "              precision    recall  f1-score   support\n",
            "\n",
            "           0       0.82      0.84      0.83     45184\n",
            "           1       0.84      0.82      0.83     45088\n",
            "\n",
            "    accuracy                           0.83     90272\n",
            "   macro avg       0.83      0.83      0.83     90272\n",
            "weighted avg       0.83      0.83      0.83     90272\n",
            "\n",
            "\n",
            "Neural Network confusion matrix:\n",
            "\n",
            "[[37922  7262]\n",
            " [ 8106 36982]]\n"
          ]
        }
      ],
      "source": [
        "# Classification Report for Neural Network with validation data\n",
        "print(\"\\nNeural Network Evaluation:\\n\")\n",
        "print(classification_report(y_val, y_pred_mlp_val))\n",
        "\n",
        "# Confusion Matrix for Neural Network with validation data\n",
        "print(\"\\nNeural Network confusion matrix:\\n\")\n",
        "cm = confusion_matrix(y_val, y_pred_mlp_val)\n",
        "print(cm)"
      ]
    },
    {
      "cell_type": "code",
      "execution_count": null,
      "metadata": {
        "colab": {
          "base_uri": "https://localhost:8080/"
        },
        "id": "Ia9GCZMXBiYm",
        "outputId": "0480e5ef-7baa-407f-bddd-913bcdbb8545"
      },
      "outputs": [
        {
          "output_type": "stream",
          "name": "stdout",
          "text": [
            "\n",
            "Neural Network Evaluation:\n",
            "\n",
            "              precision    recall  f1-score   support\n",
            "\n",
            "           0       0.82      0.84      0.83     45180\n",
            "           1       0.83      0.82      0.82     45092\n",
            "\n",
            "    accuracy                           0.83     90272\n",
            "   macro avg       0.83      0.83      0.83     90272\n",
            "weighted avg       0.83      0.83      0.83     90272\n",
            "\n",
            "\n",
            "Neural Network confusion matrix:\n",
            "\n",
            "[[37907  7273]\n",
            " [ 8335 36757]]\n"
          ]
        }
      ],
      "source": [
        "# Classification Report for Neural Network with testing data\n",
        "print(\"\\nNeural Network Evaluation:\\n\")\n",
        "print(classification_report(y_test, y_pred_mlp))\n",
        "\n",
        "# Confusion Matrix for Neural Network with testing data\n",
        "print(\"\\nNeural Network confusion matrix:\\n\")\n",
        "cm = confusion_matrix(y_test, y_pred_mlp)\n",
        "print(cm)"
      ]
    },
    {
      "cell_type": "markdown",
      "metadata": {
        "id": "E6OpQSVkCXUR"
      },
      "source": [
        "Neural Network (after tuning the hyperparameter)"
      ]
    },
    {
      "cell_type": "code",
      "execution_count": null,
      "metadata": {
        "colab": {
          "base_uri": "https://localhost:8080/"
        },
        "id": "iK2P01uCCZ7q",
        "outputId": "08bbc70b-1714-4709-87d0-49940137416f"
      },
      "outputs": [
        {
          "output_type": "execute_result",
          "data": {
            "text/plain": [
              "{'max_iter': 50, 'hidden_layer_sizes': 91, 'alpha': 0.01, 'activation': 'relu'}"
            ]
          },
          "metadata": {},
          "execution_count": 73
        }
      ],
      "source": [
        "mlp = MLPClassifier()\n",
        "tuned_parameters= {'hidden_layer_sizes': range(1,200,10),\n",
        "                   'activation': ['tanh','logistic','relu'], 'alpha':[0.0001,0.001,0.01,0.1,1,10],\n",
        "                   'max_iter': range(50,200,50)}\n",
        "\n",
        "model_mlp= RandomizedSearchCV(mlp, tuned_parameters,cv=3,scoring='accuracy',n_iter=3,n_jobs= -1,random_state=5)\n",
        "model_mlp.fit(X_train_new, y_train)\n",
        "\n",
        "model_mlp.best_params_"
      ]
    },
    {
      "cell_type": "code",
      "execution_count": null,
      "metadata": {
        "id": "kVGJcUGgDlis"
      },
      "outputs": [],
      "source": [
        "y_pred_mlp_hyper = model_mlp.predict(X_test)\n",
        "y_pred_mlp_hyper_val = model_mlp.predict(X_val)"
      ]
    },
    {
      "cell_type": "code",
      "execution_count": null,
      "metadata": {
        "colab": {
          "base_uri": "https://localhost:8080/"
        },
        "id": "eSzpugauEd-p",
        "outputId": "78ed3032-f611-4292-edec-514fc2b1fb5f"
      },
      "outputs": [
        {
          "output_type": "stream",
          "name": "stdout",
          "text": [
            "\n",
            "Neural Network Evaluation:\n",
            "\n",
            "              precision    recall  f1-score   support\n",
            "\n",
            "           0       0.82      0.84      0.83     45184\n",
            "           1       0.84      0.81      0.82     45088\n",
            "\n",
            "    accuracy                           0.83     90272\n",
            "   macro avg       0.83      0.83      0.83     90272\n",
            "weighted avg       0.83      0.83      0.83     90272\n",
            "\n",
            "\n",
            "Neural Network confusion matrix:\n",
            "\n",
            "[[38047  7137]\n",
            " [ 8462 36626]]\n"
          ]
        }
      ],
      "source": [
        "# Classification Report for Neural Network with validation data\n",
        "print(\"\\nNeural Network Evaluation:\\n\")\n",
        "print(classification_report(y_val, y_pred_mlp_hyper_val))\n",
        "\n",
        "# Confusion Matrix for Neural Network with validation data\n",
        "print(\"\\nNeural Network confusion matrix:\\n\")\n",
        "cm = confusion_matrix(y_val, y_pred_mlp_hyper_val)\n",
        "print(cm)"
      ]
    },
    {
      "cell_type": "code",
      "execution_count": null,
      "metadata": {
        "colab": {
          "base_uri": "https://localhost:8080/"
        },
        "id": "tZUln3rIElsX",
        "outputId": "a3ae6c49-cb6c-4c05-eb72-18495df6d862"
      },
      "outputs": [
        {
          "output_type": "stream",
          "name": "stdout",
          "text": [
            "\n",
            "Neural Network Evaluation:\n",
            "\n",
            "              precision    recall  f1-score   support\n",
            "\n",
            "           0       0.81      0.84      0.83     45180\n",
            "           1       0.84      0.81      0.82     45092\n",
            "\n",
            "    accuracy                           0.83     90272\n",
            "   macro avg       0.83      0.83      0.83     90272\n",
            "weighted avg       0.83      0.83      0.83     90272\n",
            "\n",
            "\n",
            "Neural Network confusion matrix:\n",
            "\n",
            "[[38126  7054]\n",
            " [ 8666 36426]]\n"
          ]
        }
      ],
      "source": [
        "# Classification Report for Neural Network with testing data\n",
        "print(\"\\nNeural Network Evaluation:\\n\")\n",
        "print(classification_report(y_test, y_pred_mlp_hyper))\n",
        "\n",
        "# Confusion Matrix for Neural Network with testing data\n",
        "print(\"\\nNeural Network confusion matrix:\\n\")\n",
        "cm = confusion_matrix(y_test, y_pred_mlp_hyper)\n",
        "print(cm)"
      ]
    },
    {
      "cell_type": "markdown",
      "metadata": {
        "id": "FHwWgh5dJW_5"
      },
      "source": [
        "K-Nearest Neighbors"
      ]
    },
    {
      "cell_type": "code",
      "execution_count": null,
      "metadata": {
        "id": "Pij3YCGoJYqc"
      },
      "outputs": [],
      "source": [
        "# find the accuracy and errors rate for k starts from 5 to 11\n",
        "k_values = [i for i in range (5,11)]\n",
        "scores = []\n",
        "error_rate = []\n",
        "for k in k_values:\n",
        " knn = KNeighborsClassifier(n_neighbors=k)\n",
        " knn.fit(X_train_new, y_train)\n",
        " y_pred = knn.predict(X_test)\n",
        " scores.append(knn.score(X_test, y_test))\n",
        " error_rate.append(np.mean(y_pred!=y_test))"
      ]
    },
    {
      "cell_type": "code",
      "execution_count": null,
      "metadata": {
        "colab": {
          "base_uri": "https://localhost:8080/",
          "height": 472
        },
        "id": "1wWoP8qmJdc3",
        "outputId": "d2ceafd3-c59c-4956-dd83-706fe2b6343a"
      },
      "outputs": [
        {
          "output_type": "display_data",
          "data": {
            "text/plain": [
              "<Figure size 640x480 with 1 Axes>"
            ],
            "image/png": "[encoded data removed]"
          },
          "metadata": {}
        }
      ],
      "source": [
        "# Plot the accuracy score for each k-values\n",
        "sns.lineplot(x = k_values, y = scores, marker = 'o')\n",
        "plt.title(\"K-Nearest Neighbors (KNN)\")\n",
        "plt.xlabel(\"K Values\")\n",
        "plt.ylabel(\"Accuracy Score\")\n",
        "plt.show()"
      ]
    },
    {
      "cell_type": "code",
      "execution_count": null,
      "metadata": {
        "colab": {
          "base_uri": "https://localhost:8080/",
          "height": 472
        },
        "id": "65s0Dm6-JgBL",
        "outputId": "03436c38-0e5f-4cf4-e9bd-85ad7e214085"
      },
      "outputs": [
        {
          "output_type": "display_data",
          "data": {
            "text/plain": [
              "<Figure size 640x480 with 1 Axes>"
            ],
            "image/png": "[encoded data removed]"
          },
          "metadata": {}
        }
      ],
      "source": [
        "# Plot the error rate for each k-values\n",
        "sns.lineplot(x = k_values, y = error_rate, marker = 'o')\n",
        "plt.title(\"K-Nearest Neighbors (KNN)\")\n",
        "plt.xlabel(\"K Values\")\n",
        "plt.ylabel(\"Error rate\")\n",
        "plt.show()"
      ]
    },
    {
      "cell_type": "code",
      "execution_count": null,
      "metadata": {
        "colab": {
          "base_uri": "https://localhost:8080/"
        },
        "id": "9vBBdPC3JjmL",
        "outputId": "d3236ff5-7376-4fbb-b2fb-0546192dded8"
      },
      "outputs": [
        {
          "output_type": "stream",
          "name": "stdout",
          "text": [
            "\n",
            "k =  6\n"
          ]
        }
      ],
      "source": [
        "#Get the best k and train kNN\n",
        "best_index = np.argmax(scores)\n",
        "best_k = k_values[best_index]\n",
        "print(\"\\nk = \", best_k)\n",
        "knn = KNeighborsClassifier(n_neighbors=best_k)\n",
        "knn.fit(X_train_new, y_train)\n",
        "y_pred_knn = knn.predict(X_test)\n",
        "y_pred_knn_val = knn.predict(X_val)"
      ]
    },
    {
      "cell_type": "code",
      "execution_count": null,
      "metadata": {
        "colab": {
          "base_uri": "https://localhost:8080/"
        },
        "id": "tL9B4nvmlgFp",
        "outputId": "a1085716-3758-44ad-9963-4747509877d7"
      },
      "outputs": [
        {
          "output_type": "stream",
          "name": "stdout",
          "text": [
            "\n",
            "K-Nearest Neighbour Evaluation:\n",
            "\n",
            "              precision    recall  f1-score   support\n",
            "\n",
            "           0       0.85      0.78      0.81     45184\n",
            "           1       0.80      0.86      0.83     45088\n",
            "\n",
            "    accuracy                           0.82     90272\n",
            "   macro avg       0.82      0.82      0.82     90272\n",
            "weighted avg       0.82      0.82      0.82     90272\n",
            "\n",
            "\n",
            "K-Nearest Neighbour confusion matrix:\n",
            "\n",
            "[[35161 10023]\n",
            " [ 6106 38982]]\n"
          ]
        }
      ],
      "source": [
        "# Classification Report for K-Nearest Neighbour with validation data\n",
        "print(\"\\nK-Nearest Neighbour Evaluation:\\n\")\n",
        "print(classification_report(y_val, y_pred_knn_val))\n",
        "\n",
        "# Confusion Matrix for K-Nearest Neighbour with validation data\n",
        "print(\"\\nK-Nearest Neighbour confusion matrix:\\n\")\n",
        "cm = confusion_matrix(y_val, y_pred_knn_val)\n",
        "print(cm)"
      ]
    },
    {
      "cell_type": "code",
      "execution_count": null,
      "metadata": {
        "colab": {
          "base_uri": "https://localhost:8080/"
        },
        "id": "FNisEB4RlxKU",
        "outputId": "edd3b66d-022f-4ac1-e444-268c12874443"
      },
      "outputs": [
        {
          "output_type": "stream",
          "name": "stdout",
          "text": [
            "\n",
            "K-Nearest Neighbour Evaluation:\n",
            "\n",
            "              precision    recall  f1-score   support\n",
            "\n",
            "           0       0.85      0.77      0.81     45180\n",
            "           1       0.79      0.86      0.83     45092\n",
            "\n",
            "    accuracy                           0.82     90272\n",
            "   macro avg       0.82      0.82      0.82     90272\n",
            "weighted avg       0.82      0.82      0.82     90272\n",
            "\n",
            "\n",
            "K-Nearest Neighbour confusion matrix:\n",
            "\n",
            "[[34995 10185]\n",
            " [ 6184 38908]]\n"
          ]
        }
      ],
      "source": [
        "# Classification Report for K-Nearest Neighbour with testing data\n",
        "print(\"\\nK-Nearest Neighbour Evaluation:\\n\")\n",
        "print(classification_report(y_test, y_pred_knn))\n",
        "\n",
        "# Confusion Matrix for K-Nearest Neighbour with testing data\n",
        "print(\"\\nK-Nearest Neighbour confusion matrix:\\n\")\n",
        "cm = confusion_matrix(y_test, y_pred_knn)\n",
        "print(cm)"
      ]
    },
    {
      "cell_type": "markdown",
      "metadata": {
        "id": "kuYlYgxFmCbN"
      },
      "source": [
        "Support Vector Machine (SVM)"
      ]
    },
    {
      "cell_type": "code",
      "execution_count": null,
      "metadata": {
        "id": "GrH6OBBxmEfF"
      },
      "outputs": [],
      "source": [
        "svm = CalibratedClassifierCV(LinearSVC())\n",
        "svm.fit(X_train_new, y_train)\n",
        "y_pred_svm = svm.predict(X_test)\n",
        "y_pred_svm_val = svm.predict(X_val)"
      ]
    },
    {
      "cell_type": "code",
      "execution_count": null,
      "metadata": {
        "id": "sXuSM8s3mHEV",
        "colab": {
          "base_uri": "https://localhost:8080/"
        },
        "outputId": "1a1b4b06-5447-4076-ad99-ef40c8f1ba2c"
      },
      "outputs": [
        {
          "output_type": "stream",
          "name": "stdout",
          "text": [
            "\n",
            "Support Vector Machine Evaluation:\n",
            "\n",
            "              precision    recall  f1-score   support\n",
            "\n",
            "           0       0.79      0.77      0.78     45184\n",
            "           1       0.78      0.80      0.79     45088\n",
            "\n",
            "    accuracy                           0.79     90272\n",
            "   macro avg       0.79      0.79      0.79     90272\n",
            "weighted avg       0.79      0.79      0.79     90272\n",
            "\n",
            "\n",
            "Support Vector Machine confusion matrix:\n",
            "\n",
            "[[34921 10263]\n",
            " [ 9131 35957]]\n"
          ]
        }
      ],
      "source": [
        "# Classification Report for Support Vector Machine with validation data\n",
        "print(\"\\nSupport Vector Machine Evaluation:\\n\")\n",
        "print(classification_report(y_val, y_pred_svm_val))\n",
        "\n",
        "# Confusion Matrix for Support Vector Machine with validation data\n",
        "print(\"\\nSupport Vector Machine confusion matrix:\\n\")\n",
        "cm = confusion_matrix(y_val, y_pred_svm_val)\n",
        "print(cm)"
      ]
    },
    {
      "cell_type": "code",
      "execution_count": null,
      "metadata": {
        "id": "Ik7z5V3PmV9h",
        "colab": {
          "base_uri": "https://localhost:8080/"
        },
        "outputId": "a5f3a96a-1fd9-4d9b-c89c-4cb5145de43b"
      },
      "outputs": [
        {
          "output_type": "stream",
          "name": "stdout",
          "text": [
            "\n",
            "Support Vector Machine Evaluation:\n",
            "\n",
            "              precision    recall  f1-score   support\n",
            "\n",
            "           0       0.79      0.77      0.78     45180\n",
            "           1       0.78      0.79      0.78     45092\n",
            "\n",
            "    accuracy                           0.78     90272\n",
            "   macro avg       0.78      0.78      0.78     90272\n",
            "weighted avg       0.78      0.78      0.78     90272\n",
            "\n",
            "\n",
            "Support Vector Machine confusion matrix:\n",
            "\n",
            "[[34843 10337]\n",
            " [ 9407 35685]]\n"
          ]
        }
      ],
      "source": [
        "# Classification Report for Support Vector Machine with testing data\n",
        "print(\"\\nSupport Vector Machine Evaluation:\\n\")\n",
        "print(classification_report(y_test, y_pred_svm))\n",
        "\n",
        "# Confusion Matrix for Support Vector Machine with testing data\n",
        "print(\"\\nSupport Vector Machine confusion matrix:\\n\")\n",
        "cm = confusion_matrix(y_test, y_pred_svm)\n",
        "print(cm)"
      ]
    },
    {
      "cell_type": "markdown",
      "metadata": {
        "id": "Aw-PlBNajxgA"
      },
      "source": [
        "AUC Score"
      ]
    },
    {
      "cell_type": "code",
      "execution_count": null,
      "metadata": {
        "id": "S7y6nI4TjxAl",
        "colab": {
          "base_uri": "https://localhost:8080/"
        },
        "outputId": "de3f341e-6f28-48c9-d798-71d70e1031de"
      },
      "outputs": [
        {
          "output_type": "stream",
          "name": "stdout",
          "text": [
            "AUC score for LR:  0.8600761138302581\n",
            "AUC score for Decision Trees:  0.8626672963075401\n",
            "AUC score for Random Forest Classifier:  0.9407968461763108\n",
            "AUC score for Naive Bayes:  0.8908549618316114\n",
            "AUC score for Neural Network:  0.9026403213545181\n",
            "AUC score for K-Nearest Neighbour:  0.8886837379971426\n",
            "AUC score for Support Vector Machine:  0.8600778249549482\n"
          ]
        }
      ],
      "source": [
        "auc_score_logReg = roc_auc_score(y_test, logReg.predict_proba(X_test)[:, 1])\n",
        "auc_score_dt = roc_auc_score(y_test, grid_search.predict_proba(X_test)[:, 1])\n",
        "auc_score_rf = roc_auc_score(y_test, model_grid.predict_proba(X_test)[:, 1])\n",
        "auc_score_nb = roc_auc_score(y_test, gs_NB.predict_proba(X_test)[:, 1])\n",
        "auc_score_mlp = roc_auc_score(y_test, model_mlp.predict_proba(X_test)[:, 1])\n",
        "auc_score_knn = roc_auc_score(y_test, knn.predict_proba(X_test)[:, 1])\n",
        "auc_score_svm = roc_auc_score(y_test, svm.predict_proba(X_test)[:, 1])\n",
        "print(\"AUC score for LR: \", auc_score_logReg)\n",
        "print(\"AUC score for Decision Trees: \", auc_score_dt)\n",
        "print(\"AUC score for Random Forest Classifier: \", auc_score_rf)\n",
        "print(\"AUC score for Naive Bayes: \", auc_score_nb)\n",
        "print(\"AUC score for Neural Network: \", auc_score_mlp)\n",
        "print(\"AUC score for K-Nearest Neighbour: \", auc_score_knn)\n",
        "print(\"AUC score for Support Vector Machine: \", auc_score_svm)"
      ]
    },
    {
      "cell_type": "code",
      "source": [
        "fpr_LR, tpr_LR, thresholds_LR = roc_curve(y_test, logReg.predict_proba(X_test)[:,1])\n",
        "fpr_DT, tpr_DT, thresholds_DT = roc_curve(y_test, grid_search.predict_proba(X_test)[:,1])\n",
        "fpr_RF, tpr_RF, thresholds_RF = roc_curve(y_test, model_grid.predict_proba(X_test)[:,1])\n",
        "fpr_NB, tpr_NB, thresholds_NB = roc_curve(y_test, gs_NB.predict_proba(X_test)[:,1])\n",
        "fpr_MLP, tpr_MLP, thresholds_MLP = roc_curve(y_test, model_mlp.predict_proba(X_test)[:,1])\n",
        "fpr_KNN, tpr_KNN, thresholds_KNN = roc_curve(y_test, knn.predict_proba(X_test)[:,1])\n",
        "fpr_SVM, tpr_SVM, thresholds_SVM = roc_curve(y_test, svm.predict_proba(X_test)[:,1])\n",
        "plt.plot(fpr_LR, tpr_LR, linestyle = \"--\", color = \"red\", label = \"LR\")\n",
        "plt.plot(fpr_DT, tpr_DT, linestyle = \"--\", color = \"orange\", label = \"DT\")\n",
        "plt.plot(fpr_RF, tpr_RF, linestyle = \"--\", color = \"yellow\", label = \"RF\")\n",
        "plt.plot(fpr_NB, tpr_NB, linestyle = \"--\", color = \"green\", label = \"NB\")\n",
        "plt.plot(fpr_MLP, tpr_MLP, linestyle = \"--\", color = \"blue\", label = \"MLP\")\n",
        "plt.plot(fpr_KNN, tpr_KNN, linestyle = \"--\", color = \"purple\", label = \"KNN\")\n",
        "plt.plot(fpr_SVM, tpr_SVM, linestyle = \"--\", color = \"black\", label = \"SVM\")\n",
        "plt.title('Receiver Operator Characteristics (ROC)')\n",
        "plt.xlabel('False Positive Rate')\n",
        "plt.ylabel('True Positive rate')\n",
        "plt.legend(loc = 'best')\n",
        "plt.savefig('ROC', dpi = 300)\n",
        "plt.show()"
      ],
      "metadata": {
        "id": "gDrnsByyhGEz",
        "colab": {
          "base_uri": "https://localhost:8080/",
          "height": 472
        },
        "outputId": "740aff18-d5dd-4f0f-971e-e73acd3244e9"
      },
      "execution_count": null,
      "outputs": [
        {
          "output_type": "display_data",
          "data": {
            "text/plain": [
              "<Figure size 640x480 with 1 Axes>"
            ],
            "image/png": "[encoded data removed]"
          },
          "metadata": {}
        }
      ]
    },
    {
      "cell_type": "markdown",
      "metadata": {
        "id": "zBy8cZsQ5EUG"
      },
      "source": [
        "Step 8: Storing the Model"
      ]
    },
    {
      "cell_type": "code",
      "execution_count": null,
      "metadata": {
        "id": "Jo4KC4Rf5DTc"
      },
      "outputs": [],
      "source": [
        "import joblib"
      ]
    },
    {
      "cell_type": "code",
      "execution_count": null,
      "metadata": {
        "id": "ddQPai_T5WKU",
        "colab": {
          "base_uri": "https://localhost:8080/"
        },
        "outputId": "5923c4bc-fc26-42e3-92d0-0ae92fa7ffa6"
      },
      "outputs": [
        {
          "output_type": "execute_result",
          "data": {
            "text/plain": [
              "['loan_application_predict']"
            ]
          },
          "metadata": {},
          "execution_count": 139
        }
      ],
      "source": [
        "joblib.dump(rf, 'loan_application_predict')"
      ]
    },
    {
      "cell_type": "markdown",
      "metadata": {
        "id": "Erm6BoVU5mNV"
      },
      "source": [
        "Step 9: Loading the Model"
      ]
    },
    {
      "cell_type": "code",
      "execution_count": null,
      "metadata": {
        "id": "16uTViQc5kus"
      },
      "outputs": [],
      "source": [
        "model = joblib.load('loan_application_predict')"
      ]
    },
    {
      "cell_type": "markdown",
      "metadata": {
        "id": "aI1HWmH_5yns"
      },
      "source": [
        "Step 10: Interacting with the Model"
      ]
    },
    {
      "cell_type": "code",
      "execution_count": null,
      "metadata": {
        "id": "fLfGhwIr5yQZ"
      },
      "outputs": [],
      "source": [
        "new_applicant = pd.read_csv('((GAssign) NewApplicants.csv')"
      ]
    },
    {
      "cell_type": "code",
      "execution_count": null,
      "metadata": {
        "id": "w57-REsa6Edp",
        "colab": {
          "base_uri": "https://localhost:8080/",
          "height": 244
        },
        "outputId": "fca0db97-9093-4bed-9fce-2984352068a7"
      },
      "outputs": [
        {
          "output_type": "execute_result",
          "data": {
            "text/plain": [
              "  LoanID  Age  Income  LoanAmount  CreditScore  MonthsEmployed  \\\n",
              "0    A01   56   85994       50587          520              80   \n",
              "1    A02   69   50432      124440          458              15   \n",
              "2    A03   46   84208      129188          451              26   \n",
              "3    A04   32   31713       44799          743               0   \n",
              "4    A05   60   20437        9139          633               8   \n",
              "\n",
              "   NumCreditLines  InterestRate  LoanTerm  DTIRatio    Education  \\\n",
              "0               4         15.23        36      0.44   Bachelor's   \n",
              "1               1          4.81        60      0.68     Master's   \n",
              "2               3         21.17        24      0.31     Master's   \n",
              "3               3          7.07        24      0.23  High School   \n",
              "4               4          6.51        48      0.73   Bachelor's   \n",
              "\n",
              "  EmploymentType MaritalStatus HasMortgage HasDependents LoanPurpose  \\\n",
              "0      Full-time      Divorced         Yes           Yes       Other   \n",
              "1      Full-time       Married          No            No       Other   \n",
              "2     Unemployed      Divorced         Yes           Yes        Auto   \n",
              "3      Full-time       Married          No            No    Business   \n",
              "4     Unemployed      Divorced          No           Yes        Auto   \n",
              "\n",
              "  HasCoSigner  Default  \n",
              "0         Yes      NaN  \n",
              "1         Yes      NaN  \n",
              "2          No      NaN  \n",
              "3          No      NaN  \n",
              "4          No      NaN  "
            ],
            "text/html": [
              "\n",
              "  <div id=\"df-4dfe856c-b7ad-4c67-aa9f-7faa47e281bd\" class=\"colab-df-container\">\n",
              "    <div>\n",
              "<style scoped>\n",
              "    .dataframe tbody tr th:only-of-type {\n",
              "        vertical-align: middle;\n",
              "    }\n",
              "\n",
              "    .dataframe tbody tr th {\n",
              "        vertical-align: top;\n",
              "    }\n",
              "\n",
              "    .dataframe thead th {\n",
              "        text-align: right;\n",
              "    }\n",
              "</style>\n",
              "<table border=\"1\" class=\"dataframe\">\n",
              "  <thead>\n",
              "    <tr style=\"text-align: right;\">\n",
              "      <th></th>\n",
              "      <th>LoanID</th>\n",
              "      <th>Age</th>\n",
              "      <th>Income</th>\n",
              "      <th>LoanAmount</th>\n",
              "      <th>CreditScore</th>\n",
              "      <th>MonthsEmployed</th>\n",
              "      <th>NumCreditLines</th>\n",
              "      <th>InterestRate</th>\n",
              "      <th>LoanTerm</th>\n",
              "      <th>DTIRatio</th>\n",
              "      <th>Education</th>\n",
              "      <th>EmploymentType</th>\n",
              "      <th>MaritalStatus</th>\n",
              "      <th>HasMortgage</th>\n",
              "      <th>HasDependents</th>\n",
              "      <th>LoanPurpose</th>\n",
              "      <th>HasCoSigner</th>\n",
              "      <th>Default</th>\n",
              "    </tr>\n",
              "  </thead>\n",
              "  <tbody>\n",
              "    <tr>\n",
              "      <th>0</th>\n",
              "      <td>A01</td>\n",
              "      <td>56</td>\n",
              "      <td>85994</td>\n",
              "      <td>50587</td>\n",
              "      <td>520</td>\n",
              "      <td>80</td>\n",
              "      <td>4</td>\n",
              "      <td>15.23</td>\n",
              "      <td>36</td>\n",
              "      <td>0.44</td>\n",
              "      <td>Bachelor's</td>\n",
              "      <td>Full-time</td>\n",
              "      <td>Divorced</td>\n",
              "      <td>Yes</td>\n",
              "      <td>Yes</td>\n",
              "      <td>Other</td>\n",
              "      <td>Yes</td>\n",
              "      <td>NaN</td>\n",
              "    </tr>\n",
              "    <tr>\n",
              "      <th>1</th>\n",
              "      <td>A02</td>\n",
              "      <td>69</td>\n",
              "      <td>50432</td>\n",
              "      <td>124440</td>\n",
              "      <td>458</td>\n",
              "      <td>15</td>\n",
              "      <td>1</td>\n",
              "      <td>4.81</td>\n",
              "      <td>60</td>\n",
              "      <td>0.68</td>\n",
              "      <td>Master's</td>\n",
              "      <td>Full-time</td>\n",
              "      <td>Married</td>\n",
              "      <td>No</td>\n",
              "      <td>No</td>\n",
              "      <td>Other</td>\n",
              "      <td>Yes</td>\n",
              "      <td>NaN</td>\n",
              "    </tr>\n",
              "    <tr>\n",
              "      <th>2</th>\n",
              "      <td>A03</td>\n",
              "      <td>46</td>\n",
              "      <td>84208</td>\n",
              "      <td>129188</td>\n",
              "      <td>451</td>\n",
              "      <td>26</td>\n",
              "      <td>3</td>\n",
              "      <td>21.17</td>\n",
              "      <td>24</td>\n",
              "      <td>0.31</td>\n",
              "      <td>Master's</td>\n",
              "      <td>Unemployed</td>\n",
              "      <td>Divorced</td>\n",
              "      <td>Yes</td>\n",
              "      <td>Yes</td>\n",
              "      <td>Auto</td>\n",
              "      <td>No</td>\n",
              "      <td>NaN</td>\n",
              "    </tr>\n",
              "    <tr>\n",
              "      <th>3</th>\n",
              "      <td>A04</td>\n",
              "      <td>32</td>\n",
              "      <td>31713</td>\n",
              "      <td>44799</td>\n",
              "      <td>743</td>\n",
              "      <td>0</td>\n",
              "      <td>3</td>\n",
              "      <td>7.07</td>\n",
              "      <td>24</td>\n",
              "      <td>0.23</td>\n",
              "      <td>High School</td>\n",
              "      <td>Full-time</td>\n",
              "      <td>Married</td>\n",
              "      <td>No</td>\n",
              "      <td>No</td>\n",
              "      <td>Business</td>\n",
              "      <td>No</td>\n",
              "      <td>NaN</td>\n",
              "    </tr>\n",
              "    <tr>\n",
              "      <th>4</th>\n",
              "      <td>A05</td>\n",
              "      <td>60</td>\n",
              "      <td>20437</td>\n",
              "      <td>9139</td>\n",
              "      <td>633</td>\n",
              "      <td>8</td>\n",
              "      <td>4</td>\n",
              "      <td>6.51</td>\n",
              "      <td>48</td>\n",
              "      <td>0.73</td>\n",
              "      <td>Bachelor's</td>\n",
              "      <td>Unemployed</td>\n",
              "      <td>Divorced</td>\n",
              "      <td>No</td>\n",
              "      <td>Yes</td>\n",
              "      <td>Auto</td>\n",
              "      <td>No</td>\n",
              "      <td>NaN</td>\n",
              "    </tr>\n",
              "  </tbody>\n",
              "</table>\n",
              "</div>\n",
              "    <div class=\"colab-df-buttons\">\n",
              "\n",
              "  <div class=\"colab-df-container\">\n",
              "    <button class=\"colab-df-convert\" onclick=\"convertToInteractive('df-4dfe856c-b7ad-4c67-aa9f-7faa47e281bd')\"\n",
              "            title=\"Convert this dataframe to an interactive table.\"\n",
              "            style=\"display:none;\">\n",
              "\n",
              "  <svg xmlns=\"http://www.w3.org/2000/svg\" height=\"24px\" viewBox=\"0 -960 960 960\">\n",
              "    <path d=\"M120-120v-720h720v720H120Zm60-500h600v-160H180v160Zm220 220h160v-160H400v160Zm0 220h160v-160H400v160ZM180-400h160v-160H180v160Zm440 0h160v-160H620v160ZM180-180h160v-160H180v160Zm440 0h160v-160H620v160Z\"/>\n",
              "  </svg>\n",
              "    </button>\n",
              "\n",
              "  <style>\n",
              "    .colab-df-container {\n",
              "      display:flex;\n",
              "      gap: 12px;\n",
              "    }\n",
              "\n",
              "    .colab-df-convert {\n",
              "      background-color: #E8F0FE;\n",
              "      border: none;\n",
              "      border-radius: 50%;\n",
              "      cursor: pointer;\n",
              "      display: none;\n",
              "      fill: #1967D2;\n",
              "      height: 32px;\n",
              "      padding: 0 0 0 0;\n",
              "      width: 32px;\n",
              "    }\n",
              "\n",
              "    .colab-df-convert:hover {\n",
              "      background-color: #E2EBFA;\n",
              "      box-shadow: 0px 1px 2px rgba(60, 64, 67, 0.3), 0px 1px 3px 1px rgba(60, 64, 67, 0.15);\n",
              "      fill: #174EA6;\n",
              "    }\n",
              "\n",
              "    .colab-df-buttons div {\n",
              "      margin-bottom: 4px;\n",
              "    }\n",
              "\n",
              "    [theme=dark] .colab-df-convert {\n",
              "      background-color: #3B4455;\n",
              "      fill: #D2E3FC;\n",
              "    }\n",
              "\n",
              "    [theme=dark] .colab-df-convert:hover {\n",
              "      background-color: #434B5C;\n",
              "      box-shadow: 0px 1px 3px 1px rgba(0, 0, 0, 0.15);\n",
              "      filter: drop-shadow(0px 1px 2px rgba(0, 0, 0, 0.3));\n",
              "      fill: #FFFFFF;\n",
              "    }\n",
              "  </style>\n",
              "\n",
              "    <script>\n",
              "      const buttonEl =\n",
              "        document.querySelector('#df-4dfe856c-b7ad-4c67-aa9f-7faa47e281bd button.colab-df-convert');\n",
              "      buttonEl.style.display =\n",
              "        google.colab.kernel.accessAllowed ? 'block' : 'none';\n",
              "\n",
              "      async function convertToInteractive(key) {\n",
              "        const element = document.querySelector('#df-4dfe856c-b7ad-4c67-aa9f-7faa47e281bd');\n",
              "        const dataTable =\n",
              "          await google.colab.kernel.invokeFunction('convertToInteractive',\n",
              "                                                    [key], {});\n",
              "        if (!dataTable) return;\n",
              "\n",
              "        const docLinkHtml = 'Like what you see? Visit the ' +\n",
              "          '<a target=\"_blank\" href=https://colab.research.google.com/notebooks/data_table.ipynb>data table notebook</a>'\n",
              "          + ' to learn more about interactive tables.';\n",
              "        element.innerHTML = '';\n",
              "        dataTable['output_type'] = 'display_data';\n",
              "        await google.colab.output.renderOutput(dataTable, element);\n",
              "        const docLink = document.createElement('div');\n",
              "        docLink.innerHTML = docLinkHtml;\n",
              "        element.appendChild(docLink);\n",
              "      }\n",
              "    </script>\n",
              "  </div>\n",
              "\n",
              "\n",
              "<div id=\"df-75e899a9-ad35-4ddb-a198-bb378ff02057\">\n",
              "  <button class=\"colab-df-quickchart\" onclick=\"quickchart('df-75e899a9-ad35-4ddb-a198-bb378ff02057')\"\n",
              "            title=\"Suggest charts\"\n",
              "            style=\"display:none;\">\n",
              "\n",
              "<svg xmlns=\"http://www.w3.org/2000/svg\" height=\"24px\"viewBox=\"0 0 24 24\"\n",
              "     width=\"24px\">\n",
              "    <g>\n",
              "        <path d=\"M19 3H5c-1.1 0-2 .9-2 2v14c0 1.1.9 2 2 2h14c1.1 0 2-.9 2-2V5c0-1.1-.9-2-2-2zM9 17H7v-7h2v7zm4 0h-2V7h2v10zm4 0h-2v-4h2v4z\"/>\n",
              "    </g>\n",
              "</svg>\n",
              "  </button>\n",
              "\n",
              "<style>\n",
              "  .colab-df-quickchart {\n",
              "      --bg-color: #E8F0FE;\n",
              "      --fill-color: #1967D2;\n",
              "      --hover-bg-color: #E2EBFA;\n",
              "      --hover-fill-color: #174EA6;\n",
              "      --disabled-fill-color: #AAA;\n",
              "      --disabled-bg-color: #DDD;\n",
              "  }\n",
              "\n",
              "  [theme=dark] .colab-df-quickchart {\n",
              "      --bg-color: #3B4455;\n",
              "      --fill-color: #D2E3FC;\n",
              "      --hover-bg-color: #434B5C;\n",
              "      --hover-fill-color: #FFFFFF;\n",
              "      --disabled-bg-color: #3B4455;\n",
              "      --disabled-fill-color: #666;\n",
              "  }\n",
              "\n",
              "  .colab-df-quickchart {\n",
              "    background-color: var(--bg-color);\n",
              "    border: none;\n",
              "    border-radius: 50%;\n",
              "    cursor: pointer;\n",
              "    display: none;\n",
              "    fill: var(--fill-color);\n",
              "    height: 32px;\n",
              "    padding: 0;\n",
              "    width: 32px;\n",
              "  }\n",
              "\n",
              "  .colab-df-quickchart:hover {\n",
              "    background-color: var(--hover-bg-color);\n",
              "    box-shadow: 0 1px 2px rgba(60, 64, 67, 0.3), 0 1px 3px 1px rgba(60, 64, 67, 0.15);\n",
              "    fill: var(--button-hover-fill-color);\n",
              "  }\n",
              "\n",
              "  .colab-df-quickchart-complete:disabled,\n",
              "  .colab-df-quickchart-complete:disabled:hover {\n",
              "    background-color: var(--disabled-bg-color);\n",
              "    fill: var(--disabled-fill-color);\n",
              "    box-shadow: none;\n",
              "  }\n",
              "\n",
              "  .colab-df-spinner {\n",
              "    border: 2px solid var(--fill-color);\n",
              "    border-color: transparent;\n",
              "    border-bottom-color: var(--fill-color);\n",
              "    animation:\n",
              "      spin 1s steps(1) infinite;\n",
              "  }\n",
              "\n",
              "  @keyframes spin {\n",
              "    0% {\n",
              "      border-color: transparent;\n",
              "      border-bottom-color: var(--fill-color);\n",
              "      border-left-color: var(--fill-color);\n",
              "    }\n",
              "    20% {\n",
              "      border-color: transparent;\n",
              "      border-left-color: var(--fill-color);\n",
              "      border-top-color: var(--fill-color);\n",
              "    }\n",
              "    30% {\n",
              "      border-color: transparent;\n",
              "      border-left-color: var(--fill-color);\n",
              "      border-top-color: var(--fill-color);\n",
              "      border-right-color: var(--fill-color);\n",
              "    }\n",
              "    40% {\n",
              "      border-color: transparent;\n",
              "      border-right-color: var(--fill-color);\n",
              "      border-top-color: var(--fill-color);\n",
              "    }\n",
              "    60% {\n",
              "      border-color: transparent;\n",
              "      border-right-color: var(--fill-color);\n",
              "    }\n",
              "    80% {\n",
              "      border-color: transparent;\n",
              "      border-right-color: var(--fill-color);\n",
              "      border-bottom-color: var(--fill-color);\n",
              "    }\n",
              "    90% {\n",
              "      border-color: transparent;\n",
              "      border-bottom-color: var(--fill-color);\n",
              "    }\n",
              "  }\n",
              "</style>\n",
              "\n",
              "  <script>\n",
              "    async function quickchart(key) {\n",
              "      const quickchartButtonEl =\n",
              "        document.querySelector('#' + key + ' button');\n",
              "      quickchartButtonEl.disabled = true;  // To prevent multiple clicks.\n",
              "      quickchartButtonEl.classList.add('colab-df-spinner');\n",
              "      try {\n",
              "        const charts = await google.colab.kernel.invokeFunction(\n",
              "            'suggestCharts', [key], {});\n",
              "      } catch (error) {\n",
              "        console.error('Error during call to suggestCharts:', error);\n",
              "      }\n",
              "      quickchartButtonEl.classList.remove('colab-df-spinner');\n",
              "      quickchartButtonEl.classList.add('colab-df-quickchart-complete');\n",
              "    }\n",
              "    (() => {\n",
              "      let quickchartButtonEl =\n",
              "        document.querySelector('#df-75e899a9-ad35-4ddb-a198-bb378ff02057 button');\n",
              "      quickchartButtonEl.style.display =\n",
              "        google.colab.kernel.accessAllowed ? 'block' : 'none';\n",
              "    })();\n",
              "  </script>\n",
              "</div>\n",
              "    </div>\n",
              "  </div>\n"
            ],
            "application/vnd.google.colaboratory.intrinsic+json": {
              "type": "dataframe",
              "variable_name": "new_applicant",
              "summary": "{\n  \"name\": \"new_applicant\",\n  \"rows\": 20,\n  \"fields\": [\n    {\n      \"column\": \"LoanID\",\n      \"properties\": {\n        \"dtype\": \"string\",\n        \"num_unique_values\": 20,\n        \"samples\": [\n          \"A01\",\n          \"B08\",\n          \"B06\"\n        ],\n        \"semantic_type\": \"\",\n        \"description\": \"\"\n      }\n    },\n    {\n      \"column\": \"Age\",\n      \"properties\": {\n        \"dtype\": \"number\",\n        \"std\": 14,\n        \"min\": 19,\n        \"max\": 69,\n        \"num_unique_values\": 16,\n        \"samples\": [\n          56,\n          69,\n          25\n        ],\n        \"semantic_type\": \"\",\n        \"description\": \"\"\n      }\n    },\n    {\n      \"column\": \"Income\",\n      \"properties\": {\n        \"dtype\": \"number\",\n        \"std\": 36181,\n        \"min\": 20437,\n        \"max\": 132784,\n        \"num_unique_values\": 20,\n        \"samples\": [\n          85994,\n          84820,\n          37979\n        ],\n        \"semantic_type\": \"\",\n        \"description\": \"\"\n      }\n    },\n    {\n      \"column\": \"LoanAmount\",\n      \"properties\": {\n        \"dtype\": \"number\",\n        \"std\": 64129,\n        \"min\": 9139,\n        \"max\": 228510,\n        \"num_unique_values\": 20,\n        \"samples\": [\n          50587,\n          208294,\n          210682\n        ],\n        \"semantic_type\": \"\",\n        \"description\": \"\"\n      }\n    },\n    {\n      \"column\": \"CreditScore\",\n      \"properties\": {\n        \"dtype\": \"number\",\n        \"std\": 152,\n        \"min\": 300,\n        \"max\": 827,\n        \"num_unique_values\": 20,\n        \"samples\": [\n          520,\n          597,\n          541\n        ],\n        \"semantic_type\": \"\",\n        \"description\": \"\"\n      }\n    },\n    {\n      \"column\": \"MonthsEmployed\",\n      \"properties\": {\n        \"dtype\": \"number\",\n        \"std\": 37,\n        \"min\": 0,\n        \"max\": 114,\n        \"num_unique_values\": 18,\n        \"samples\": [\n          80,\n          15,\n          114\n        ],\n        \"semantic_type\": \"\",\n        \"description\": \"\"\n      }\n    },\n    {\n      \"column\": \"NumCreditLines\",\n      \"properties\": {\n        \"dtype\": \"number\",\n        \"std\": 1,\n        \"min\": 1,\n        \"max\": 4,\n        \"num_unique_values\": 4,\n        \"samples\": [\n          1,\n          2,\n          4\n        ],\n        \"semantic_type\": \"\",\n        \"description\": \"\"\n      }\n    },\n    {\n      \"column\": \"InterestRate\",\n      \"properties\": {\n        \"dtype\": \"number\",\n        \"std\": 6.5677866976069765,\n        \"min\": 4.12,\n        \"max\": 23.94,\n        \"num_unique_values\": 20,\n        \"samples\": [\n          15.23,\n          5.29,\n          14.11\n        ],\n        \"semantic_type\": \"\",\n        \"description\": \"\"\n      }\n    },\n    {\n      \"column\": \"LoanTerm\",\n      \"properties\": {\n        \"dtype\": \"number\",\n        \"std\": 17,\n        \"min\": 12,\n        \"max\": 60,\n        \"num_unique_values\": 5,\n        \"samples\": [\n          60,\n          12,\n          24\n        ],\n        \"semantic_type\": \"\",\n        \"description\": \"\"\n      }\n    },\n    {\n      \"column\": \"DTIRatio\",\n      \"properties\": {\n        \"dtype\": \"number\",\n        \"std\": 0.1979500202735928,\n        \"min\": 0.1,\n        \"max\": 0.85,\n        \"num_unique_values\": 17,\n        \"samples\": [\n          0.44,\n          0.68,\n          0.1\n        ],\n        \"semantic_type\": \"\",\n        \"description\": \"\"\n      }\n    },\n    {\n      \"column\": \"Education\",\n      \"properties\": {\n        \"dtype\": \"category\",\n        \"num_unique_values\": 4,\n        \"samples\": [\n          \"Master's\",\n          \"PhD\",\n          \"Bachelor's\"\n        ],\n        \"semantic_type\": \"\",\n        \"description\": \"\"\n      }\n    },\n    {\n      \"column\": \"EmploymentType\",\n      \"properties\": {\n        \"dtype\": \"category\",\n        \"num_unique_values\": 4,\n        \"samples\": [\n          \"Unemployed\",\n          \"Part-time\",\n          \"Full-time\"\n        ],\n        \"semantic_type\": \"\",\n        \"description\": \"\"\n      }\n    },\n    {\n      \"column\": \"MaritalStatus\",\n      \"properties\": {\n        \"dtype\": \"category\",\n        \"num_unique_values\": 3,\n        \"samples\": [\n          \"Divorced\",\n          \"Married\",\n          \"Single\"\n        ],\n        \"semantic_type\": \"\",\n        \"description\": \"\"\n      }\n    },\n    {\n      \"column\": \"HasMortgage\",\n      \"properties\": {\n        \"dtype\": \"category\",\n        \"num_unique_values\": 2,\n        \"samples\": [\n          \"No\",\n          \"Yes\"\n        ],\n        \"semantic_type\": \"\",\n        \"description\": \"\"\n      }\n    },\n    {\n      \"column\": \"HasDependents\",\n      \"properties\": {\n        \"dtype\": \"category\",\n        \"num_unique_values\": 2,\n        \"samples\": [\n          \"No\",\n          \"Yes\"\n        ],\n        \"semantic_type\": \"\",\n        \"description\": \"\"\n      }\n    },\n    {\n      \"column\": \"LoanPurpose\",\n      \"properties\": {\n        \"dtype\": \"category\",\n        \"num_unique_values\": 5,\n        \"samples\": [\n          \"Auto\",\n          \"Education\"\n        ],\n        \"semantic_type\": \"\",\n        \"description\": \"\"\n      }\n    },\n    {\n      \"column\": \"HasCoSigner\",\n      \"properties\": {\n        \"dtype\": \"category\",\n        \"num_unique_values\": 2,\n        \"samples\": [\n          \"No\",\n          \"Yes\"\n        ],\n        \"semantic_type\": \"\",\n        \"description\": \"\"\n      }\n    },\n    {\n      \"column\": \"Default\",\n      \"properties\": {\n        \"dtype\": \"number\",\n        \"std\": null,\n        \"min\": null,\n        \"max\": null,\n        \"num_unique_values\": 0,\n        \"samples\": [],\n        \"semantic_type\": \"\",\n        \"description\": \"\"\n      }\n    }\n  ]\n}"
            }
          },
          "metadata": {},
          "execution_count": 119
        }
      ],
      "source": [
        "new_applicant.head()"
      ]
    },
    {
      "cell_type": "code",
      "execution_count": null,
      "metadata": {
        "id": "lrea_cD96TQX",
        "colab": {
          "base_uri": "https://localhost:8080/"
        },
        "outputId": "62968c1c-b313-4e18-a71f-140c0c3e2b80"
      },
      "outputs": [
        {
          "output_type": "stream",
          "name": "stdout",
          "text": [
            "<class 'pandas.core.frame.DataFrame'>\n",
            "RangeIndex: 20 entries, 0 to 19\n",
            "Data columns (total 18 columns):\n",
            " #   Column          Non-Null Count  Dtype  \n",
            "---  ------          --------------  -----  \n",
            " 0   LoanID          20 non-null     object \n",
            " 1   Age             20 non-null     int64  \n",
            " 2   Income          20 non-null     int64  \n",
            " 3   LoanAmount      20 non-null     int64  \n",
            " 4   CreditScore     20 non-null     int64  \n",
            " 5   MonthsEmployed  20 non-null     int64  \n",
            " 6   NumCreditLines  20 non-null     int64  \n",
            " 7   InterestRate    20 non-null     float64\n",
            " 8   LoanTerm        20 non-null     int64  \n",
            " 9   DTIRatio        20 non-null     float64\n",
            " 10  Education       20 non-null     object \n",
            " 11  EmploymentType  20 non-null     object \n",
            " 12  MaritalStatus   20 non-null     object \n",
            " 13  HasMortgage     20 non-null     object \n",
            " 14  HasDependents   20 non-null     object \n",
            " 15  LoanPurpose     20 non-null     object \n",
            " 16  HasCoSigner     20 non-null     object \n",
            " 17  Default         0 non-null      float64\n",
            "dtypes: float64(3), int64(7), object(8)\n",
            "memory usage: 2.9+ KB\n"
          ]
        }
      ],
      "source": [
        "new_applicant.info()"
      ]
    },
    {
      "cell_type": "code",
      "execution_count": null,
      "metadata": {
        "id": "es7YXLOF6chR"
      },
      "outputs": [],
      "source": [
        "application = new_applicant.drop(['Default'], axis=1)\n",
        "application_new = application.drop(['LoanID'], axis=1)"
      ]
    },
    {
      "cell_type": "code",
      "execution_count": null,
      "metadata": {
        "id": "O2lra2DS7adk",
        "colab": {
          "base_uri": "https://localhost:8080/",
          "height": 226
        },
        "outputId": "1b560e4c-9554-4ee5-df39-37d688f166ce"
      },
      "outputs": [
        {
          "output_type": "execute_result",
          "data": {
            "text/plain": [
              "   Age  Income  LoanAmount  CreditScore  MonthsEmployed  NumCreditLines  \\\n",
              "0   56   85994       50587          520              80               4   \n",
              "1   69   50432      124440          458              15               1   \n",
              "2   46   84208      129188          451              26               3   \n",
              "3   32   31713       44799          743               0               3   \n",
              "4   60   20437        9139          633               8               4   \n",
              "\n",
              "   InterestRate  LoanTerm  DTIRatio  Education  EmploymentType  MaritalStatus  \\\n",
              "0         15.23        36      0.44          0               0              0   \n",
              "1          4.81        60      0.68          2               0              1   \n",
              "2         21.17        24      0.31          2               2              0   \n",
              "3          7.07        24      0.23          1               0              1   \n",
              "4          6.51        48      0.73          0               2              0   \n",
              "\n",
              "   HasMortgage  HasDependents  LoanPurpose  HasCoSigner  \n",
              "0            1              1            4            1  \n",
              "1            0              0            4            1  \n",
              "2            1              1            0            0  \n",
              "3            0              0            1            0  \n",
              "4            0              1            0            0  "
            ],
            "text/html": [
              "\n",
              "  <div id=\"df-4fe5f607-dbd9-41b8-abd7-58a5d0765d91\" class=\"colab-df-container\">\n",
              "    <div>\n",
              "<style scoped>\n",
              "    .dataframe tbody tr th:only-of-type {\n",
              "        vertical-align: middle;\n",
              "    }\n",
              "\n",
              "    .dataframe tbody tr th {\n",
              "        vertical-align: top;\n",
              "    }\n",
              "\n",
              "    .dataframe thead th {\n",
              "        text-align: right;\n",
              "    }\n",
              "</style>\n",
              "<table border=\"1\" class=\"dataframe\">\n",
              "  <thead>\n",
              "    <tr style=\"text-align: right;\">\n",
              "      <th></th>\n",
              "      <th>Age</th>\n",
              "      <th>Income</th>\n",
              "      <th>LoanAmount</th>\n",
              "      <th>CreditScore</th>\n",
              "      <th>MonthsEmployed</th>\n",
              "      <th>NumCreditLines</th>\n",
              "      <th>InterestRate</th>\n",
              "      <th>LoanTerm</th>\n",
              "      <th>DTIRatio</th>\n",
              "      <th>Education</th>\n",
              "      <th>EmploymentType</th>\n",
              "      <th>MaritalStatus</th>\n",
              "      <th>HasMortgage</th>\n",
              "      <th>HasDependents</th>\n",
              "      <th>LoanPurpose</th>\n",
              "      <th>HasCoSigner</th>\n",
              "    </tr>\n",
              "  </thead>\n",
              "  <tbody>\n",
              "    <tr>\n",
              "      <th>0</th>\n",
              "      <td>56</td>\n",
              "      <td>85994</td>\n",
              "      <td>50587</td>\n",
              "      <td>520</td>\n",
              "      <td>80</td>\n",
              "      <td>4</td>\n",
              "      <td>15.23</td>\n",
              "      <td>36</td>\n",
              "      <td>0.44</td>\n",
              "      <td>0</td>\n",
              "      <td>0</td>\n",
              "      <td>0</td>\n",
              "      <td>1</td>\n",
              "      <td>1</td>\n",
              "      <td>4</td>\n",
              "      <td>1</td>\n",
              "    </tr>\n",
              "    <tr>\n",
              "      <th>1</th>\n",
              "      <td>69</td>\n",
              "      <td>50432</td>\n",
              "      <td>124440</td>\n",
              "      <td>458</td>\n",
              "      <td>15</td>\n",
              "      <td>1</td>\n",
              "      <td>4.81</td>\n",
              "      <td>60</td>\n",
              "      <td>0.68</td>\n",
              "      <td>2</td>\n",
              "      <td>0</td>\n",
              "      <td>1</td>\n",
              "      <td>0</td>\n",
              "      <td>0</td>\n",
              "      <td>4</td>\n",
              "      <td>1</td>\n",
              "    </tr>\n",
              "    <tr>\n",
              "      <th>2</th>\n",
              "      <td>46</td>\n",
              "      <td>84208</td>\n",
              "      <td>129188</td>\n",
              "      <td>451</td>\n",
              "      <td>26</td>\n",
              "      <td>3</td>\n",
              "      <td>21.17</td>\n",
              "      <td>24</td>\n",
              "      <td>0.31</td>\n",
              "      <td>2</td>\n",
              "      <td>2</td>\n",
              "      <td>0</td>\n",
              "      <td>1</td>\n",
              "      <td>1</td>\n",
              "      <td>0</td>\n",
              "      <td>0</td>\n",
              "    </tr>\n",
              "    <tr>\n",
              "      <th>3</th>\n",
              "      <td>32</td>\n",
              "      <td>31713</td>\n",
              "      <td>44799</td>\n",
              "      <td>743</td>\n",
              "      <td>0</td>\n",
              "      <td>3</td>\n",
              "      <td>7.07</td>\n",
              "      <td>24</td>\n",
              "      <td>0.23</td>\n",
              "      <td>1</td>\n",
              "      <td>0</td>\n",
              "      <td>1</td>\n",
              "      <td>0</td>\n",
              "      <td>0</td>\n",
              "      <td>1</td>\n",
              "      <td>0</td>\n",
              "    </tr>\n",
              "    <tr>\n",
              "      <th>4</th>\n",
              "      <td>60</td>\n",
              "      <td>20437</td>\n",
              "      <td>9139</td>\n",
              "      <td>633</td>\n",
              "      <td>8</td>\n",
              "      <td>4</td>\n",
              "      <td>6.51</td>\n",
              "      <td>48</td>\n",
              "      <td>0.73</td>\n",
              "      <td>0</td>\n",
              "      <td>2</td>\n",
              "      <td>0</td>\n",
              "      <td>0</td>\n",
              "      <td>1</td>\n",
              "      <td>0</td>\n",
              "      <td>0</td>\n",
              "    </tr>\n",
              "  </tbody>\n",
              "</table>\n",
              "</div>\n",
              "    <div class=\"colab-df-buttons\">\n",
              "\n",
              "  <div class=\"colab-df-container\">\n",
              "    <button class=\"colab-df-convert\" onclick=\"convertToInteractive('df-4fe5f607-dbd9-41b8-abd7-58a5d0765d91')\"\n",
              "            title=\"Convert this dataframe to an interactive table.\"\n",
              "            style=\"display:none;\">\n",
              "\n",
              "  <svg xmlns=\"http://www.w3.org/2000/svg\" height=\"24px\" viewBox=\"0 -960 960 960\">\n",
              "    <path d=\"M120-120v-720h720v720H120Zm60-500h600v-160H180v160Zm220 220h160v-160H400v160Zm0 220h160v-160H400v160ZM180-400h160v-160H180v160Zm440 0h160v-160H620v160ZM180-180h160v-160H180v160Zm440 0h160v-160H620v160Z\"/>\n",
              "  </svg>\n",
              "    </button>\n",
              "\n",
              "  <style>\n",
              "    .colab-df-container {\n",
              "      display:flex;\n",
              "      gap: 12px;\n",
              "    }\n",
              "\n",
              "    .colab-df-convert {\n",
              "      background-color: #E8F0FE;\n",
              "      border: none;\n",
              "      border-radius: 50%;\n",
              "      cursor: pointer;\n",
              "      display: none;\n",
              "      fill: #1967D2;\n",
              "      height: 32px;\n",
              "      padding: 0 0 0 0;\n",
              "      width: 32px;\n",
              "    }\n",
              "\n",
              "    .colab-df-convert:hover {\n",
              "      background-color: #E2EBFA;\n",
              "      box-shadow: 0px 1px 2px rgba(60, 64, 67, 0.3), 0px 1px 3px 1px rgba(60, 64, 67, 0.15);\n",
              "      fill: #174EA6;\n",
              "    }\n",
              "\n",
              "    .colab-df-buttons div {\n",
              "      margin-bottom: 4px;\n",
              "    }\n",
              "\n",
              "    [theme=dark] .colab-df-convert {\n",
              "      background-color: #3B4455;\n",
              "      fill: #D2E3FC;\n",
              "    }\n",
              "\n",
              "    [theme=dark] .colab-df-convert:hover {\n",
              "      background-color: #434B5C;\n",
              "      box-shadow: 0px 1px 3px 1px rgba(0, 0, 0, 0.15);\n",
              "      filter: drop-shadow(0px 1px 2px rgba(0, 0, 0, 0.3));\n",
              "      fill: #FFFFFF;\n",
              "    }\n",
              "  </style>\n",
              "\n",
              "    <script>\n",
              "      const buttonEl =\n",
              "        document.querySelector('#df-4fe5f607-dbd9-41b8-abd7-58a5d0765d91 button.colab-df-convert');\n",
              "      buttonEl.style.display =\n",
              "        google.colab.kernel.accessAllowed ? 'block' : 'none';\n",
              "\n",
              "      async function convertToInteractive(key) {\n",
              "        const element = document.querySelector('#df-4fe5f607-dbd9-41b8-abd7-58a5d0765d91');\n",
              "        const dataTable =\n",
              "          await google.colab.kernel.invokeFunction('convertToInteractive',\n",
              "                                                    [key], {});\n",
              "        if (!dataTable) return;\n",
              "\n",
              "        const docLinkHtml = 'Like what you see? Visit the ' +\n",
              "          '<a target=\"_blank\" href=https://colab.research.google.com/notebooks/data_table.ipynb>data table notebook</a>'\n",
              "          + ' to learn more about interactive tables.';\n",
              "        element.innerHTML = '';\n",
              "        dataTable['output_type'] = 'display_data';\n",
              "        await google.colab.output.renderOutput(dataTable, element);\n",
              "        const docLink = document.createElement('div');\n",
              "        docLink.innerHTML = docLinkHtml;\n",
              "        element.appendChild(docLink);\n",
              "      }\n",
              "    </script>\n",
              "  </div>\n",
              "\n",
              "\n",
              "<div id=\"df-66f3fd39-594d-441e-8a0b-b4b1fe5575ef\">\n",
              "  <button class=\"colab-df-quickchart\" onclick=\"quickchart('df-66f3fd39-594d-441e-8a0b-b4b1fe5575ef')\"\n",
              "            title=\"Suggest charts\"\n",
              "            style=\"display:none;\">\n",
              "\n",
              "<svg xmlns=\"http://www.w3.org/2000/svg\" height=\"24px\"viewBox=\"0 0 24 24\"\n",
              "     width=\"24px\">\n",
              "    <g>\n",
              "        <path d=\"M19 3H5c-1.1 0-2 .9-2 2v14c0 1.1.9 2 2 2h14c1.1 0 2-.9 2-2V5c0-1.1-.9-2-2-2zM9 17H7v-7h2v7zm4 0h-2V7h2v10zm4 0h-2v-4h2v4z\"/>\n",
              "    </g>\n",
              "</svg>\n",
              "  </button>\n",
              "\n",
              "<style>\n",
              "  .colab-df-quickchart {\n",
              "      --bg-color: #E8F0FE;\n",
              "      --fill-color: #1967D2;\n",
              "      --hover-bg-color: #E2EBFA;\n",
              "      --hover-fill-color: #174EA6;\n",
              "      --disabled-fill-color: #AAA;\n",
              "      --disabled-bg-color: #DDD;\n",
              "  }\n",
              "\n",
              "  [theme=dark] .colab-df-quickchart {\n",
              "      --bg-color: #3B4455;\n",
              "      --fill-color: #D2E3FC;\n",
              "      --hover-bg-color: #434B5C;\n",
              "      --hover-fill-color: #FFFFFF;\n",
              "      --disabled-bg-color: #3B4455;\n",
              "      --disabled-fill-color: #666;\n",
              "  }\n",
              "\n",
              "  .colab-df-quickchart {\n",
              "    background-color: var(--bg-color);\n",
              "    border: none;\n",
              "    border-radius: 50%;\n",
              "    cursor: pointer;\n",
              "    display: none;\n",
              "    fill: var(--fill-color);\n",
              "    height: 32px;\n",
              "    padding: 0;\n",
              "    width: 32px;\n",
              "  }\n",
              "\n",
              "  .colab-df-quickchart:hover {\n",
              "    background-color: var(--hover-bg-color);\n",
              "    box-shadow: 0 1px 2px rgba(60, 64, 67, 0.3), 0 1px 3px 1px rgba(60, 64, 67, 0.15);\n",
              "    fill: var(--button-hover-fill-color);\n",
              "  }\n",
              "\n",
              "  .colab-df-quickchart-complete:disabled,\n",
              "  .colab-df-quickchart-complete:disabled:hover {\n",
              "    background-color: var(--disabled-bg-color);\n",
              "    fill: var(--disabled-fill-color);\n",
              "    box-shadow: none;\n",
              "  }\n",
              "\n",
              "  .colab-df-spinner {\n",
              "    border: 2px solid var(--fill-color);\n",
              "    border-color: transparent;\n",
              "    border-bottom-color: var(--fill-color);\n",
              "    animation:\n",
              "      spin 1s steps(1) infinite;\n",
              "  }\n",
              "\n",
              "  @keyframes spin {\n",
              "    0% {\n",
              "      border-color: transparent;\n",
              "      border-bottom-color: var(--fill-color);\n",
              "      border-left-color: var(--fill-color);\n",
              "    }\n",
              "    20% {\n",
              "      border-color: transparent;\n",
              "      border-left-color: var(--fill-color);\n",
              "      border-top-color: var(--fill-color);\n",
              "    }\n",
              "    30% {\n",
              "      border-color: transparent;\n",
              "      border-left-color: var(--fill-color);\n",
              "      border-top-color: var(--fill-color);\n",
              "      border-right-color: var(--fill-color);\n",
              "    }\n",
              "    40% {\n",
              "      border-color: transparent;\n",
              "      border-right-color: var(--fill-color);\n",
              "      border-top-color: var(--fill-color);\n",
              "    }\n",
              "    60% {\n",
              "      border-color: transparent;\n",
              "      border-right-color: var(--fill-color);\n",
              "    }\n",
              "    80% {\n",
              "      border-color: transparent;\n",
              "      border-right-color: var(--fill-color);\n",
              "      border-bottom-color: var(--fill-color);\n",
              "    }\n",
              "    90% {\n",
              "      border-color: transparent;\n",
              "      border-bottom-color: var(--fill-color);\n",
              "    }\n",
              "  }\n",
              "</style>\n",
              "\n",
              "  <script>\n",
              "    async function quickchart(key) {\n",
              "      const quickchartButtonEl =\n",
              "        document.querySelector('#' + key + ' button');\n",
              "      quickchartButtonEl.disabled = true;  // To prevent multiple clicks.\n",
              "      quickchartButtonEl.classList.add('colab-df-spinner');\n",
              "      try {\n",
              "        const charts = await google.colab.kernel.invokeFunction(\n",
              "            'suggestCharts', [key], {});\n",
              "      } catch (error) {\n",
              "        console.error('Error during call to suggestCharts:', error);\n",
              "      }\n",
              "      quickchartButtonEl.classList.remove('colab-df-spinner');\n",
              "      quickchartButtonEl.classList.add('colab-df-quickchart-complete');\n",
              "    }\n",
              "    (() => {\n",
              "      let quickchartButtonEl =\n",
              "        document.querySelector('#df-66f3fd39-594d-441e-8a0b-b4b1fe5575ef button');\n",
              "      quickchartButtonEl.style.display =\n",
              "        google.colab.kernel.accessAllowed ? 'block' : 'none';\n",
              "    })();\n",
              "  </script>\n",
              "</div>\n",
              "    </div>\n",
              "  </div>\n"
            ],
            "application/vnd.google.colaboratory.intrinsic+json": {
              "type": "dataframe",
              "variable_name": "application_new",
              "summary": "{\n  \"name\": \"application_new\",\n  \"rows\": 20,\n  \"fields\": [\n    {\n      \"column\": \"Age\",\n      \"properties\": {\n        \"dtype\": \"number\",\n        \"std\": 14,\n        \"min\": 19,\n        \"max\": 69,\n        \"num_unique_values\": 16,\n        \"samples\": [\n          56,\n          69,\n          25\n        ],\n        \"semantic_type\": \"\",\n        \"description\": \"\"\n      }\n    },\n    {\n      \"column\": \"Income\",\n      \"properties\": {\n        \"dtype\": \"number\",\n        \"std\": 36181,\n        \"min\": 20437,\n        \"max\": 132784,\n        \"num_unique_values\": 20,\n        \"samples\": [\n          85994,\n          84820,\n          37979\n        ],\n        \"semantic_type\": \"\",\n        \"description\": \"\"\n      }\n    },\n    {\n      \"column\": \"LoanAmount\",\n      \"properties\": {\n        \"dtype\": \"number\",\n        \"std\": 64129,\n        \"min\": 9139,\n        \"max\": 228510,\n        \"num_unique_values\": 20,\n        \"samples\": [\n          50587,\n          208294,\n          210682\n        ],\n        \"semantic_type\": \"\",\n        \"description\": \"\"\n      }\n    },\n    {\n      \"column\": \"CreditScore\",\n      \"properties\": {\n        \"dtype\": \"number\",\n        \"std\": 152,\n        \"min\": 300,\n        \"max\": 827,\n        \"num_unique_values\": 20,\n        \"samples\": [\n          520,\n          597,\n          541\n        ],\n        \"semantic_type\": \"\",\n        \"description\": \"\"\n      }\n    },\n    {\n      \"column\": \"MonthsEmployed\",\n      \"properties\": {\n        \"dtype\": \"number\",\n        \"std\": 37,\n        \"min\": 0,\n        \"max\": 114,\n        \"num_unique_values\": 18,\n        \"samples\": [\n          80,\n          15,\n          114\n        ],\n        \"semantic_type\": \"\",\n        \"description\": \"\"\n      }\n    },\n    {\n      \"column\": \"NumCreditLines\",\n      \"properties\": {\n        \"dtype\": \"number\",\n        \"std\": 1,\n        \"min\": 1,\n        \"max\": 4,\n        \"num_unique_values\": 4,\n        \"samples\": [\n          1,\n          2,\n          4\n        ],\n        \"semantic_type\": \"\",\n        \"description\": \"\"\n      }\n    },\n    {\n      \"column\": \"InterestRate\",\n      \"properties\": {\n        \"dtype\": \"number\",\n        \"std\": 6.5677866976069765,\n        \"min\": 4.12,\n        \"max\": 23.94,\n        \"num_unique_values\": 20,\n        \"samples\": [\n          15.23,\n          5.29,\n          14.11\n        ],\n        \"semantic_type\": \"\",\n        \"description\": \"\"\n      }\n    },\n    {\n      \"column\": \"LoanTerm\",\n      \"properties\": {\n        \"dtype\": \"number\",\n        \"std\": 17,\n        \"min\": 12,\n        \"max\": 60,\n        \"num_unique_values\": 5,\n        \"samples\": [\n          60,\n          12,\n          24\n        ],\n        \"semantic_type\": \"\",\n        \"description\": \"\"\n      }\n    },\n    {\n      \"column\": \"DTIRatio\",\n      \"properties\": {\n        \"dtype\": \"number\",\n        \"std\": 0.1979500202735928,\n        \"min\": 0.1,\n        \"max\": 0.85,\n        \"num_unique_values\": 17,\n        \"samples\": [\n          0.44,\n          0.68,\n          0.1\n        ],\n        \"semantic_type\": \"\",\n        \"description\": \"\"\n      }\n    },\n    {\n      \"column\": \"Education\",\n      \"properties\": {\n        \"dtype\": \"number\",\n        \"std\": 1,\n        \"min\": 0,\n        \"max\": 3,\n        \"num_unique_values\": 4,\n        \"samples\": [\n          2,\n          3,\n          0\n        ],\n        \"semantic_type\": \"\",\n        \"description\": \"\"\n      }\n    },\n    {\n      \"column\": \"EmploymentType\",\n      \"properties\": {\n        \"dtype\": \"number\",\n        \"std\": 1,\n        \"min\": 0,\n        \"max\": 3,\n        \"num_unique_values\": 4,\n        \"samples\": [\n          2,\n          1,\n          0\n        ],\n        \"semantic_type\": \"\",\n        \"description\": \"\"\n      }\n    },\n    {\n      \"column\": \"MaritalStatus\",\n      \"properties\": {\n        \"dtype\": \"number\",\n        \"std\": 0,\n        \"min\": 0,\n        \"max\": 2,\n        \"num_unique_values\": 3,\n        \"samples\": [\n          0,\n          1,\n          2\n        ],\n        \"semantic_type\": \"\",\n        \"description\": \"\"\n      }\n    },\n    {\n      \"column\": \"HasMortgage\",\n      \"properties\": {\n        \"dtype\": \"number\",\n        \"std\": 0,\n        \"min\": 0,\n        \"max\": 1,\n        \"num_unique_values\": 2,\n        \"samples\": [\n          0,\n          1\n        ],\n        \"semantic_type\": \"\",\n        \"description\": \"\"\n      }\n    },\n    {\n      \"column\": \"HasDependents\",\n      \"properties\": {\n        \"dtype\": \"number\",\n        \"std\": 0,\n        \"min\": 0,\n        \"max\": 1,\n        \"num_unique_values\": 2,\n        \"samples\": [\n          0,\n          1\n        ],\n        \"semantic_type\": \"\",\n        \"description\": \"\"\n      }\n    },\n    {\n      \"column\": \"LoanPurpose\",\n      \"properties\": {\n        \"dtype\": \"number\",\n        \"std\": 1,\n        \"min\": 0,\n        \"max\": 4,\n        \"num_unique_values\": 5,\n        \"samples\": [\n          0,\n          2\n        ],\n        \"semantic_type\": \"\",\n        \"description\": \"\"\n      }\n    },\n    {\n      \"column\": \"HasCoSigner\",\n      \"properties\": {\n        \"dtype\": \"number\",\n        \"std\": 0,\n        \"min\": 0,\n        \"max\": 1,\n        \"num_unique_values\": 2,\n        \"samples\": [\n          0,\n          1\n        ],\n        \"semantic_type\": \"\",\n        \"description\": \"\"\n      }\n    }\n  ]\n}"
            }
          },
          "metadata": {},
          "execution_count": 122
        }
      ],
      "source": [
        "application_new['Education'] = application_new['Education'].map({\"Bachelor's\": 0, \"High School\": 1, \"Master's\": 2, \"PhD\": 3} ).astype(int)\n",
        "application_new['EmploymentType'] = application_new['EmploymentType'].map( {'Full-time': 0, 'Part-time': 1,'Unemployed':2, 'Self-employed': 3} ).astype(int)\n",
        "application_new['MaritalStatus'] = application_new['MaritalStatus'].map( {'Divorced': 0, 'Married': 1, 'Single': 2}).astype(int)\n",
        "application_new['HasMortgage'] = application_new['HasMortgage'].map( {'No': 0, 'Yes': 1}).astype(int)\n",
        "application_new['HasDependents'] = application_new['HasDependents'].map( {'No': 0, 'Yes': 1}).astype(int)\n",
        "application_new['LoanPurpose'] = application_new['LoanPurpose'].map( {'Auto': 0, 'Business': 1, 'Education': 2, 'Home': 3, 'Other': 4}).astype(int)\n",
        "application_new['HasCoSigner'] = application_new['HasCoSigner'].map( {'No': 0, 'Yes': 1}).astype(int)\n",
        "application_new.head()"
      ]
    },
    {
      "cell_type": "code",
      "execution_count": null,
      "metadata": {
        "id": "y0ptEqWlD_ll"
      },
      "outputs": [],
      "source": [
        "application_scale = scaler.fit_transform(application_new)"
      ]
    },
    {
      "cell_type": "code",
      "execution_count": null,
      "metadata": {
        "id": "yvPFQvwp7-VF",
        "colab": {
          "base_uri": "https://localhost:8080/",
          "height": 287
        },
        "outputId": "1b8bee84-549d-4ecd-ad88-a40b4b1af781"
      },
      "outputs": [
        {
          "output_type": "error",
          "ename": "NotFittedError",
          "evalue": "This RandomForestClassifier instance is not fitted yet. Call 'fit' with appropriate arguments before using this estimator.",
          "traceback": [
            "\u001b[0;31m---------------------------------------------------------------------------\u001b[0m",
            "\u001b[0;31mNotFittedError\u001b[0m                            Traceback (most recent call last)",
            "\u001b[0;32m<ipython-input-146-9f5e3c7d5e70>\u001b[0m in \u001b[0;36m<cell line: 1>\u001b[0;34m()\u001b[0m\n\u001b[0;32m----> 1\u001b[0;31m \u001b[0mresult\u001b[0m \u001b[0;34m=\u001b[0m \u001b[0mmodel\u001b[0m\u001b[0;34m.\u001b[0m\u001b[0mpredict\u001b[0m\u001b[0;34m(\u001b[0m\u001b[0mapplication_scale\u001b[0m\u001b[0;34m)\u001b[0m\u001b[0;34m\u001b[0m\u001b[0;34m\u001b[0m\u001b[0m\n\u001b[0m",
            "\u001b[0;32m/usr/local/lib/python3.10/dist-packages/daal4py/sklearn/_n_jobs_support.py\u001b[0m in \u001b[0;36mmethod_wrapper\u001b[0;34m(self, *args, **kwargs)\u001b[0m\n\u001b[1;32m    108\u001b[0m             \u001b[0;32mif\u001b[0m \u001b[0mn_threads\u001b[0m \u001b[0;32mis\u001b[0m \u001b[0;32mNone\u001b[0m\u001b[0;34m:\u001b[0m\u001b[0;34m\u001b[0m\u001b[0;34m\u001b[0m\u001b[0m\n\u001b[1;32m    109\u001b[0m                 \u001b[0;31m# default branch with no setting for n_jobs\u001b[0m\u001b[0;34m\u001b[0m\u001b[0;34m\u001b[0m\u001b[0m\n\u001b[0;32m--> 110\u001b[0;31m                 \u001b[0;32mreturn\u001b[0m \u001b[0mmethod\u001b[0m\u001b[0;34m(\u001b[0m\u001b[0mself\u001b[0m\u001b[0;34m,\u001b[0m \u001b[0;34m*\u001b[0m\u001b[0margs\u001b[0m\u001b[0;34m,\u001b[0m \u001b[0;34m**\u001b[0m\u001b[0mkwargs\u001b[0m\u001b[0;34m)\u001b[0m\u001b[0;34m\u001b[0m\u001b[0;34m\u001b[0m\u001b[0m\n\u001b[0m\u001b[1;32m    111\u001b[0m             \u001b[0;32melse\u001b[0m\u001b[0;34m:\u001b[0m\u001b[0;34m\u001b[0m\u001b[0;34m\u001b[0m\u001b[0m\n\u001b[1;32m    112\u001b[0m                 \u001b[0mn_jobs\u001b[0m \u001b[0;34m=\u001b[0m \u001b[0mn_threads\u001b[0m\u001b[0;34m\u001b[0m\u001b[0;34m\u001b[0m\u001b[0m\n",
            "\u001b[0;32m/usr/local/lib/python3.10/dist-packages/sklearnex/_device_offload.py\u001b[0m in \u001b[0;36mwrapper\u001b[0;34m(self, *args, **kwargs)\u001b[0m\n\u001b[1;32m    214\u001b[0m         \u001b[0;32melse\u001b[0m\u001b[0;34m:\u001b[0m\u001b[0;34m\u001b[0m\u001b[0;34m\u001b[0m\u001b[0m\n\u001b[1;32m    215\u001b[0m             \u001b[0musm_iface\u001b[0m \u001b[0;34m=\u001b[0m \u001b[0mgetattr\u001b[0m\u001b[0;34m(\u001b[0m\u001b[0mdata\u001b[0m\u001b[0;34m[\u001b[0m\u001b[0;36m0\u001b[0m\u001b[0;34m]\u001b[0m\u001b[0;34m,\u001b[0m \u001b[0;34m\"__sycl_usm_array_interface__\"\u001b[0m\u001b[0;34m,\u001b[0m \u001b[0;32mNone\u001b[0m\u001b[0;34m)\u001b[0m\u001b[0;34m\u001b[0m\u001b[0;34m\u001b[0m\u001b[0m\n\u001b[0;32m--> 216\u001b[0;31m         \u001b[0mresult\u001b[0m \u001b[0;34m=\u001b[0m \u001b[0mfunc\u001b[0m\u001b[0;34m(\u001b[0m\u001b[0mself\u001b[0m\u001b[0;34m,\u001b[0m \u001b[0;34m*\u001b[0m\u001b[0margs\u001b[0m\u001b[0;34m,\u001b[0m \u001b[0;34m**\u001b[0m\u001b[0mkwargs\u001b[0m\u001b[0;34m)\u001b[0m\u001b[0;34m\u001b[0m\u001b[0;34m\u001b[0m\u001b[0m\n\u001b[0m\u001b[1;32m    217\u001b[0m         \u001b[0;32mif\u001b[0m \u001b[0musm_iface\u001b[0m \u001b[0;32mis\u001b[0m \u001b[0;32mnot\u001b[0m \u001b[0;32mNone\u001b[0m\u001b[0;34m:\u001b[0m\u001b[0;34m\u001b[0m\u001b[0;34m\u001b[0m\u001b[0m\n\u001b[1;32m    218\u001b[0m             \u001b[0mresult\u001b[0m \u001b[0;34m=\u001b[0m \u001b[0m_copy_to_usm\u001b[0m\u001b[0;34m(\u001b[0m\u001b[0musm_iface\u001b[0m\u001b[0;34m[\u001b[0m\u001b[0;34m\"syclobj\"\u001b[0m\u001b[0;34m]\u001b[0m\u001b[0;34m,\u001b[0m \u001b[0mresult\u001b[0m\u001b[0;34m)\u001b[0m\u001b[0;34m\u001b[0m\u001b[0;34m\u001b[0m\u001b[0m\n",
            "\u001b[0;32m/usr/local/lib/python3.10/dist-packages/sklearnex/ensemble/_forest.py\u001b[0m in \u001b[0;36mpredict\u001b[0;34m(self, X)\u001b[0m\n\u001b[1;32m    618\u001b[0m     \u001b[0;34m@\u001b[0m\u001b[0mwrap_output_data\u001b[0m\u001b[0;34m\u001b[0m\u001b[0;34m\u001b[0m\u001b[0m\n\u001b[1;32m    619\u001b[0m     \u001b[0;32mdef\u001b[0m \u001b[0mpredict\u001b[0m\u001b[0;34m(\u001b[0m\u001b[0mself\u001b[0m\u001b[0;34m,\u001b[0m \u001b[0mX\u001b[0m\u001b[0;34m)\u001b[0m\u001b[0;34m:\u001b[0m\u001b[0;34m\u001b[0m\u001b[0;34m\u001b[0m\u001b[0m\n\u001b[0;32m--> 620\u001b[0;31m         return dispatch(\n\u001b[0m\u001b[1;32m    621\u001b[0m             \u001b[0mself\u001b[0m\u001b[0;34m,\u001b[0m\u001b[0;34m\u001b[0m\u001b[0;34m\u001b[0m\u001b[0m\n\u001b[1;32m    622\u001b[0m             \u001b[0;34m\"predict\"\u001b[0m\u001b[0;34m,\u001b[0m\u001b[0;34m\u001b[0m\u001b[0;34m\u001b[0m\u001b[0m\n",
            "\u001b[0;32m/usr/local/lib/python3.10/dist-packages/sklearnex/_device_offload.py\u001b[0m in \u001b[0;36mdispatch\u001b[0;34m(obj, method_name, branches, *args, **kwargs)\u001b[0m\n\u001b[1;32m    190\u001b[0m     \u001b[0;32mif\u001b[0m \u001b[0mbackend\u001b[0m \u001b[0;34m==\u001b[0m \u001b[0;34m\"sklearn\"\u001b[0m\u001b[0;34m:\u001b[0m\u001b[0;34m\u001b[0m\u001b[0;34m\u001b[0m\u001b[0m\n\u001b[1;32m    191\u001b[0m         \u001b[0mpatching_status\u001b[0m\u001b[0;34m.\u001b[0m\u001b[0mwrite_log\u001b[0m\u001b[0;34m(\u001b[0m\u001b[0;34m)\u001b[0m\u001b[0;34m\u001b[0m\u001b[0;34m\u001b[0m\u001b[0m\n\u001b[0;32m--> 192\u001b[0;31m         \u001b[0;32mreturn\u001b[0m \u001b[0mbranches\u001b[0m\u001b[0;34m[\u001b[0m\u001b[0mbackend\u001b[0m\u001b[0;34m]\u001b[0m\u001b[0;34m(\u001b[0m\u001b[0mobj\u001b[0m\u001b[0;34m,\u001b[0m \u001b[0;34m*\u001b[0m\u001b[0mhostargs\u001b[0m\u001b[0;34m,\u001b[0m \u001b[0;34m**\u001b[0m\u001b[0mhostkwargs\u001b[0m\u001b[0;34m)\u001b[0m\u001b[0;34m\u001b[0m\u001b[0;34m\u001b[0m\u001b[0m\n\u001b[0m\u001b[1;32m    193\u001b[0m     raise RuntimeError(\n\u001b[1;32m    194\u001b[0m         \u001b[0;34mf\"Undefined backend {backend} in \"\u001b[0m \u001b[0;34mf\"{obj.__class__.__name__}.{method_name}\"\u001b[0m\u001b[0;34m\u001b[0m\u001b[0;34m\u001b[0m\u001b[0m\n",
            "\u001b[0;32m/usr/local/lib/python3.10/dist-packages/sklearn/ensemble/_forest.py\u001b[0m in \u001b[0;36mpredict\u001b[0;34m(self, X)\u001b[0m\n\u001b[1;32m    818\u001b[0m             \u001b[0mThe\u001b[0m \u001b[0mpredicted\u001b[0m \u001b[0mclasses\u001b[0m\u001b[0;34m.\u001b[0m\u001b[0;34m\u001b[0m\u001b[0;34m\u001b[0m\u001b[0m\n\u001b[1;32m    819\u001b[0m         \"\"\"\n\u001b[0;32m--> 820\u001b[0;31m         \u001b[0mproba\u001b[0m \u001b[0;34m=\u001b[0m \u001b[0mself\u001b[0m\u001b[0;34m.\u001b[0m\u001b[0mpredict_proba\u001b[0m\u001b[0;34m(\u001b[0m\u001b[0mX\u001b[0m\u001b[0;34m)\u001b[0m\u001b[0;34m\u001b[0m\u001b[0;34m\u001b[0m\u001b[0m\n\u001b[0m\u001b[1;32m    821\u001b[0m \u001b[0;34m\u001b[0m\u001b[0m\n\u001b[1;32m    822\u001b[0m         \u001b[0;32mif\u001b[0m \u001b[0mself\u001b[0m\u001b[0;34m.\u001b[0m\u001b[0mn_outputs_\u001b[0m \u001b[0;34m==\u001b[0m \u001b[0;36m1\u001b[0m\u001b[0;34m:\u001b[0m\u001b[0;34m\u001b[0m\u001b[0;34m\u001b[0m\u001b[0m\n",
            "\u001b[0;32m/usr/local/lib/python3.10/dist-packages/daal4py/sklearn/_n_jobs_support.py\u001b[0m in \u001b[0;36mmethod_wrapper\u001b[0;34m(self, *args, **kwargs)\u001b[0m\n\u001b[1;32m    108\u001b[0m             \u001b[0;32mif\u001b[0m \u001b[0mn_threads\u001b[0m \u001b[0;32mis\u001b[0m \u001b[0;32mNone\u001b[0m\u001b[0;34m:\u001b[0m\u001b[0;34m\u001b[0m\u001b[0;34m\u001b[0m\u001b[0m\n\u001b[1;32m    109\u001b[0m                 \u001b[0;31m# default branch with no setting for n_jobs\u001b[0m\u001b[0;34m\u001b[0m\u001b[0;34m\u001b[0m\u001b[0m\n\u001b[0;32m--> 110\u001b[0;31m                 \u001b[0;32mreturn\u001b[0m \u001b[0mmethod\u001b[0m\u001b[0;34m(\u001b[0m\u001b[0mself\u001b[0m\u001b[0;34m,\u001b[0m \u001b[0;34m*\u001b[0m\u001b[0margs\u001b[0m\u001b[0;34m,\u001b[0m \u001b[0;34m**\u001b[0m\u001b[0mkwargs\u001b[0m\u001b[0;34m)\u001b[0m\u001b[0;34m\u001b[0m\u001b[0;34m\u001b[0m\u001b[0m\n\u001b[0m\u001b[1;32m    111\u001b[0m             \u001b[0;32melse\u001b[0m\u001b[0;34m:\u001b[0m\u001b[0;34m\u001b[0m\u001b[0;34m\u001b[0m\u001b[0m\n\u001b[1;32m    112\u001b[0m                 \u001b[0mn_jobs\u001b[0m \u001b[0;34m=\u001b[0m \u001b[0mn_threads\u001b[0m\u001b[0;34m\u001b[0m\u001b[0;34m\u001b[0m\u001b[0m\n",
            "\u001b[0;32m/usr/local/lib/python3.10/dist-packages/sklearnex/_device_offload.py\u001b[0m in \u001b[0;36mwrapper\u001b[0;34m(self, *args, **kwargs)\u001b[0m\n\u001b[1;32m    214\u001b[0m         \u001b[0;32melse\u001b[0m\u001b[0;34m:\u001b[0m\u001b[0;34m\u001b[0m\u001b[0;34m\u001b[0m\u001b[0m\n\u001b[1;32m    215\u001b[0m             \u001b[0musm_iface\u001b[0m \u001b[0;34m=\u001b[0m \u001b[0mgetattr\u001b[0m\u001b[0;34m(\u001b[0m\u001b[0mdata\u001b[0m\u001b[0;34m[\u001b[0m\u001b[0;36m0\u001b[0m\u001b[0;34m]\u001b[0m\u001b[0;34m,\u001b[0m \u001b[0;34m\"__sycl_usm_array_interface__\"\u001b[0m\u001b[0;34m,\u001b[0m \u001b[0;32mNone\u001b[0m\u001b[0;34m)\u001b[0m\u001b[0;34m\u001b[0m\u001b[0;34m\u001b[0m\u001b[0m\n\u001b[0;32m--> 216\u001b[0;31m         \u001b[0mresult\u001b[0m \u001b[0;34m=\u001b[0m \u001b[0mfunc\u001b[0m\u001b[0;34m(\u001b[0m\u001b[0mself\u001b[0m\u001b[0;34m,\u001b[0m \u001b[0;34m*\u001b[0m\u001b[0margs\u001b[0m\u001b[0;34m,\u001b[0m \u001b[0;34m**\u001b[0m\u001b[0mkwargs\u001b[0m\u001b[0;34m)\u001b[0m\u001b[0;34m\u001b[0m\u001b[0;34m\u001b[0m\u001b[0m\n\u001b[0m\u001b[1;32m    217\u001b[0m         \u001b[0;32mif\u001b[0m \u001b[0musm_iface\u001b[0m \u001b[0;32mis\u001b[0m \u001b[0;32mnot\u001b[0m \u001b[0;32mNone\u001b[0m\u001b[0;34m:\u001b[0m\u001b[0;34m\u001b[0m\u001b[0;34m\u001b[0m\u001b[0m\n\u001b[1;32m    218\u001b[0m             \u001b[0mresult\u001b[0m \u001b[0;34m=\u001b[0m \u001b[0m_copy_to_usm\u001b[0m\u001b[0;34m(\u001b[0m\u001b[0musm_iface\u001b[0m\u001b[0;34m[\u001b[0m\u001b[0;34m\"syclobj\"\u001b[0m\u001b[0;34m]\u001b[0m\u001b[0;34m,\u001b[0m \u001b[0mresult\u001b[0m\u001b[0;34m)\u001b[0m\u001b[0;34m\u001b[0m\u001b[0;34m\u001b[0m\u001b[0m\n",
            "\u001b[0;32m/usr/local/lib/python3.10/dist-packages/sklearnex/ensemble/_forest.py\u001b[0m in \u001b[0;36mpredict_proba\u001b[0;34m(self, X)\u001b[0m\n\u001b[1;32m    648\u001b[0m                     )\n\u001b[1;32m    649\u001b[0m                 )\n\u001b[0;32m--> 650\u001b[0;31m         return dispatch(\n\u001b[0m\u001b[1;32m    651\u001b[0m             \u001b[0mself\u001b[0m\u001b[0;34m,\u001b[0m\u001b[0;34m\u001b[0m\u001b[0;34m\u001b[0m\u001b[0m\n\u001b[1;32m    652\u001b[0m             \u001b[0;34m\"predict_proba\"\u001b[0m\u001b[0;34m,\u001b[0m\u001b[0;34m\u001b[0m\u001b[0;34m\u001b[0m\u001b[0m\n",
            "\u001b[0;32m/usr/local/lib/python3.10/dist-packages/sklearnex/_device_offload.py\u001b[0m in \u001b[0;36mdispatch\u001b[0;34m(obj, method_name, branches, *args, **kwargs)\u001b[0m\n\u001b[1;32m    190\u001b[0m     \u001b[0;32mif\u001b[0m \u001b[0mbackend\u001b[0m \u001b[0;34m==\u001b[0m \u001b[0;34m\"sklearn\"\u001b[0m\u001b[0;34m:\u001b[0m\u001b[0;34m\u001b[0m\u001b[0;34m\u001b[0m\u001b[0m\n\u001b[1;32m    191\u001b[0m         \u001b[0mpatching_status\u001b[0m\u001b[0;34m.\u001b[0m\u001b[0mwrite_log\u001b[0m\u001b[0;34m(\u001b[0m\u001b[0;34m)\u001b[0m\u001b[0;34m\u001b[0m\u001b[0;34m\u001b[0m\u001b[0m\n\u001b[0;32m--> 192\u001b[0;31m         \u001b[0;32mreturn\u001b[0m \u001b[0mbranches\u001b[0m\u001b[0;34m[\u001b[0m\u001b[0mbackend\u001b[0m\u001b[0;34m]\u001b[0m\u001b[0;34m(\u001b[0m\u001b[0mobj\u001b[0m\u001b[0;34m,\u001b[0m \u001b[0;34m*\u001b[0m\u001b[0mhostargs\u001b[0m\u001b[0;34m,\u001b[0m \u001b[0;34m**\u001b[0m\u001b[0mhostkwargs\u001b[0m\u001b[0;34m)\u001b[0m\u001b[0;34m\u001b[0m\u001b[0;34m\u001b[0m\u001b[0m\n\u001b[0m\u001b[1;32m    193\u001b[0m     raise RuntimeError(\n\u001b[1;32m    194\u001b[0m         \u001b[0;34mf\"Undefined backend {backend} in \"\u001b[0m \u001b[0;34mf\"{obj.__class__.__name__}.{method_name}\"\u001b[0m\u001b[0;34m\u001b[0m\u001b[0;34m\u001b[0m\u001b[0m\n",
            "\u001b[0;32m/usr/local/lib/python3.10/dist-packages/sklearn/ensemble/_forest.py\u001b[0m in \u001b[0;36mpredict_proba\u001b[0;34m(self, X)\u001b[0m\n\u001b[1;32m    858\u001b[0m             \u001b[0mclasses\u001b[0m \u001b[0mcorresponds\u001b[0m \u001b[0mto\u001b[0m \u001b[0mthat\u001b[0m \u001b[0;32min\u001b[0m \u001b[0mthe\u001b[0m \u001b[0mattribute\u001b[0m \u001b[0;34m:\u001b[0m\u001b[0mterm\u001b[0m\u001b[0;34m:\u001b[0m\u001b[0;31m`\u001b[0m\u001b[0mclasses_\u001b[0m\u001b[0;31m`\u001b[0m\u001b[0;34m.\u001b[0m\u001b[0;34m\u001b[0m\u001b[0;34m\u001b[0m\u001b[0m\n\u001b[1;32m    859\u001b[0m         \"\"\"\n\u001b[0;32m--> 860\u001b[0;31m         \u001b[0mcheck_is_fitted\u001b[0m\u001b[0;34m(\u001b[0m\u001b[0mself\u001b[0m\u001b[0;34m)\u001b[0m\u001b[0;34m\u001b[0m\u001b[0;34m\u001b[0m\u001b[0m\n\u001b[0m\u001b[1;32m    861\u001b[0m         \u001b[0;31m# Check data\u001b[0m\u001b[0;34m\u001b[0m\u001b[0;34m\u001b[0m\u001b[0m\n\u001b[1;32m    862\u001b[0m         \u001b[0mX\u001b[0m \u001b[0;34m=\u001b[0m \u001b[0mself\u001b[0m\u001b[0;34m.\u001b[0m\u001b[0m_validate_X_predict\u001b[0m\u001b[0;34m(\u001b[0m\u001b[0mX\u001b[0m\u001b[0;34m)\u001b[0m\u001b[0;34m\u001b[0m\u001b[0;34m\u001b[0m\u001b[0m\n",
            "\u001b[0;32m/usr/local/lib/python3.10/dist-packages/sklearn/utils/validation.py\u001b[0m in \u001b[0;36mcheck_is_fitted\u001b[0;34m(estimator, attributes, msg, all_or_any)\u001b[0m\n\u001b[1;32m   1388\u001b[0m \u001b[0;34m\u001b[0m\u001b[0m\n\u001b[1;32m   1389\u001b[0m     \u001b[0;32mif\u001b[0m \u001b[0;32mnot\u001b[0m \u001b[0mfitted\u001b[0m\u001b[0;34m:\u001b[0m\u001b[0;34m\u001b[0m\u001b[0;34m\u001b[0m\u001b[0m\n\u001b[0;32m-> 1390\u001b[0;31m         \u001b[0;32mraise\u001b[0m \u001b[0mNotFittedError\u001b[0m\u001b[0;34m(\u001b[0m\u001b[0mmsg\u001b[0m \u001b[0;34m%\u001b[0m \u001b[0;34m{\u001b[0m\u001b[0;34m\"name\"\u001b[0m\u001b[0;34m:\u001b[0m \u001b[0mtype\u001b[0m\u001b[0;34m(\u001b[0m\u001b[0mestimator\u001b[0m\u001b[0;34m)\u001b[0m\u001b[0;34m.\u001b[0m\u001b[0m__name__\u001b[0m\u001b[0;34m}\u001b[0m\u001b[0;34m)\u001b[0m\u001b[0;34m\u001b[0m\u001b[0;34m\u001b[0m\u001b[0m\n\u001b[0m\u001b[1;32m   1391\u001b[0m \u001b[0;34m\u001b[0m\u001b[0m\n\u001b[1;32m   1392\u001b[0m \u001b[0;34m\u001b[0m\u001b[0m\n",
            "\u001b[0;31mNotFittedError\u001b[0m: This RandomForestClassifier instance is not fitted yet. Call 'fit' with appropriate arguments before using this estimator."
          ]
        }
      ],
      "source": [
        "result = model.predict(application_scale)"
      ]
    },
    {
      "cell_type": "code",
      "execution_count": null,
      "metadata": {
        "id": "GzkIK8BZ8gJh"
      },
      "outputs": [],
      "source": [
        "result"
      ]
    }
  ],
  "metadata": {
    "colab": {
      "provenance": []
    },
    "kernelspec": {
      "display_name": "Python 3",
      "name": "python3"
    },
    "language_info": {
      "name": "python"
    }
  },
  "nbformat": 4,
  "nbformat_minor": 0
}